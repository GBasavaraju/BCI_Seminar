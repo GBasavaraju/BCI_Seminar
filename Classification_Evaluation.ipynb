{
  "nbformat": 4,
  "nbformat_minor": 0,
  "metadata": {
    "colab": {
      "provenance": [],
      "collapsed_sections": []
    },
    "kernelspec": {
      "name": "python3",
      "display_name": "Python 3"
    },
    "language_info": {
      "name": "python"
    }
  },
  "cells": [
    {
      "cell_type": "code",
      "execution_count": null,
      "metadata": {
        "id": "AtK0pNx_baXv"
      },
      "outputs": [],
      "source": [
        "%load_ext autoreload\n",
        "%autoreload 2\n",
        "\n",
        "from google.colab import drive\n",
        "drive.mount('/content/gdrive')\n",
        "# %cd /content/gdrive/My Drive/Colab Notebooks/BCI\n",
        "%cd /content/gdrive/My Drive/Colab Notebooks/BCI/data\n",
        "\n",
        "%ls"
      ]
    },
    {
      "cell_type": "code",
      "source": [
        "import mne\n",
        "import pandas as pd\n",
        "import numpy as np\n",
        "from sklearn.utils import shuffle\n",
        "import seaborn as sns\n",
        "import matplotlib.pyplot as plt"
      ],
      "metadata": {
        "id": "4OH46L41bk8w"
      },
      "execution_count": null,
      "outputs": []
    },
    {
      "cell_type": "markdown",
      "source": [
        "# **Data Processing - All 3 sessions ** **bold text**"
      ],
      "metadata": {
        "id": "qSB-mgI_1a7B"
      }
    },
    {
      "cell_type": "code",
      "source": [
        "# read in fif files\n",
        "# Donald\n",
        "idle_donald = mne.io.read_raw_fif(\"idle_Donald.fif\", preload=True).pick(\"eeg\")\n",
        "nback_donald = mne.io.read_raw_fif(\"nback_Donald.fif\", preload=True).pick(\"eeg\")\n",
        "driving_donald = mne.io.read_raw_fif(\"driving_Donald.fif\", preload=True).pick(\"eeg\")\n",
        "driving_and_nback_donald = mne.io.read_raw_fif(\"driving_and_nback_Donald.fif\", preload=True).pick(\"eeg\")\n",
        "\n",
        "# Ganavi\n",
        "idle_ganavi = mne.io.read_raw_fif(\"idle_Ganavi.fif\", preload=True).pick(\"eeg\")\n",
        "nback_ganavi = mne.io.read_raw_fif(\"nback_Ganavi.fif\", preload=True).pick(\"eeg\")\n",
        "driving_ganavi = mne.io.read_raw_fif(\"driving_Ganavi.fif\", preload=True).pick(\"eeg\")\n",
        "driving_and_nback_ganavi = mne.io.read_raw_fif(\"driving_and_nback_Ganavi.fif\", preload=True).pick(\"eeg\")\n",
        "\n",
        "# Nicolas\n",
        "idle_nicolas = mne.io.read_raw_fif(\"idle_Nicolas.fif\", preload=True).pick(\"eeg\")\n",
        "nback_nicolas = mne.io.read_raw_fif(\"nback_Nicolas.fif\", preload=True).pick(\"eeg\")\n",
        "driving_nicolas = mne.io.read_raw_fif(\"driving_Nicolas.fif\", preload=True).pick(\"eeg\")\n",
        "driving_and_nback_nicolas = mne.io.read_raw_fif(\"driving_and_nback_Nicolas.fif\", preload=True).pick(\"eeg\")\n",
        "\n",
        "# second recording session\n",
        "# Donald\n",
        "idle_donald2 = mne.io.read_raw_fif(\"idle_Donald2.fif\", preload=True).pick(\"eeg\")\n",
        "nback_donald2 = mne.io.read_raw_fif(\"nback_Donald2.fif\", preload=True).pick(\"eeg\")\n",
        "driving_donald2 = mne.io.read_raw_fif(\"driving_Donald2.fif\", preload=True).pick(\"eeg\")\n",
        "driving_and_nback_donald2 = mne.io.read_raw_fif(\"driving_and_nback_Donald2.fif\", preload=True).pick(\"eeg\")\n",
        "\n",
        "# Ganavi\n",
        "idle_ganavi2 = mne.io.read_raw_fif(\"idle_Ganavi2.fif\", preload=True).pick(\"eeg\")\n",
        "nback_ganavi2 = mne.io.read_raw_fif(\"nback_Ganavi2.fif\", preload=True).pick(\"eeg\")\n",
        "driving_ganavi2 = mne.io.read_raw_fif(\"driving_Ganavi2.fif\", preload=True).pick(\"eeg\")\n",
        "driving_and_nback_ganavi2 = mne.io.read_raw_fif(\"driving_and_nback_Ganavi2.fif\", preload=True).pick(\"eeg\")\n",
        "\n",
        "# Nicolas\n",
        "idle_nicolas2 = mne.io.read_raw_fif(\"idle_Nicolas2.fif\", preload=True).pick(\"eeg\")\n",
        "nback_nicolas2 = mne.io.read_raw_fif(\"nback_Nicolas2.fif\", preload=True).pick(\"eeg\")\n",
        "driving_nicolas2 = mne.io.read_raw_fif(\"driving_Nicolas2.fif\", preload=True).pick(\"eeg\")\n",
        "driving_and_nback_nicolas2 = mne.io.read_raw_fif(\"driving_and_nback_Nicolas2.fif\", preload=True).pick(\"eeg\")\n",
        "\n",
        "# third recording session\n",
        "# Donald\n",
        "idle_donald3 = mne.io.read_raw_fif(\"s3_idle_Doanld.fif\", preload=True).pick(\"eeg\")\n",
        "nback_donald3 = mne.io.read_raw_fif(\"s3_nback_Doanld.fif\", preload=True).pick(\"eeg\")\n",
        "driving_donald3 = mne.io.read_raw_fif(\"s3_driving_Doanld.fif\", preload=True).pick(\"eeg\")\n",
        "driving_and_nback_donald3 = mne.io.read_raw_fif(\"s3_driving_and_nback_Doanld.fif\", preload=True).pick(\"eeg\")\n",
        "\n",
        "# Ganavi\n",
        "idle_ganavi3 = mne.io.read_raw_fif(\"s3_idle_Ganavi.fif\", preload=True).pick(\"eeg\")\n",
        "nback_ganavi3 = mne.io.read_raw_fif(\"s3_nback_Ganavi.fif\", preload=True).pick(\"eeg\")\n",
        "driving_ganavi3 = mne.io.read_raw_fif(\"s3_driving_Ganavi.fif\", preload=True).pick(\"eeg\")\n",
        "driving_and_nback_ganavi3 = mne.io.read_raw_fif(\"s3_driving_and_nback_Ganavi.fif\", preload=True).pick(\"eeg\")\n",
        "\n",
        "# Nicolas\n",
        "idle_nicolas3 = mne.io.read_raw_fif(\"s3_idle-Nicolas.fif\", preload=True).pick(\"eeg\")\n",
        "nback_nicolas3 = mne.io.read_raw_fif(\"s3_nback_Nicolas.fif\", preload=True).pick(\"eeg\")\n",
        "driving_nicolas3 = mne.io.read_raw_fif(\"s3_driving_Nicolas.fif\", preload=True).pick(\"eeg\")\n",
        "driving_and_nback_nicolas3 = mne.io.read_raw_fif(\"s3_driving_and_nback_Nicolas.fif\", preload=True).pick(\"eeg\")"
      ],
      "metadata": {
        "id": "jKnSDskAbmyq"
      },
      "execution_count": null,
      "outputs": []
    },
    {
      "cell_type": "code",
      "source": [
        "# crop recording files of Donald\n",
        "# @@@ ATTENTION: THIS CHANGES THE RAW-OBJECT IN PLACE @@@\n",
        "\n",
        "# inspect events of fif file\n",
        "print(idle_donald.info[\"events\"])\n",
        "print(idle_donald.n_times)\n",
        "# crop dataframe according to events (timesteps have to be converted into seconds)\n",
        "idle_donald.crop(tmin=9529/250, tmax=84799/250)\n",
        "# low pass filtering\n",
        "idle_donald = idle_donald.filter(l_freq=None, h_freq=48., picks=\"all\", method=\"fir\",\n",
        "                                 fir_window=\"hamming\", fir_design='firwin')\n",
        "# we want 5m of recording time\n",
        "print(\"idle_donald time in minutes: \", len(idle_donald)/250/60) \n",
        "\n",
        "# inspect events of fif file\n",
        "print(nback_donald.info[\"events\"])\n",
        "print(nback_donald.n_times)\n",
        "# crop dataframe according to events\n",
        "nback_donald.crop(tmin=6839/250, tmax=82289/250)\n",
        "# low pass filtering\n",
        "nback_donald = nback_donald.filter(l_freq=None, h_freq=48., picks=\"all\",\n",
        "                                   method=\"fir\", fir_window=\"hamming\", fir_design='firwin')\n",
        "# we want 5m of recording time\n",
        "print(\"nback_donald time in minutes: \", len(nback_donald)/250/60) \n",
        "\n",
        "# inspect events of fif file\n",
        "print(driving_donald.info[\"events\"])\n",
        "print(driving_donald.n_times)\n",
        "# crop dataframe according to events\n",
        "driving_donald.crop(tmin=265529/250, tmax=342809/250)\n",
        "# low pass filtering\n",
        "driving_donald = driving_donald.filter(l_freq=None, h_freq=48., picks=\"all\",\n",
        "                                       method=\"fir\", fir_window=\"hamming\", fir_design='firwin')\n",
        "# we want 5m of recording time\n",
        "print(\"driving_donald time in minutes: \", len(driving_donald)/250/60) \n",
        "\n",
        "# inspect fif file\n",
        "print(driving_and_nback_donald.info[\"events\"])\n",
        "print(driving_and_nback_donald.n_times)\n",
        "# crop dataframe according to events\n",
        "driving_and_nback_donald.crop(tmin=4359/250, tmax=79689/250)\n",
        "# low pass filtering\n",
        "driving_and_nback_donald = driving_and_nback_donald.filter(l_freq=None, h_freq=48., picks=\"all\",\n",
        "                                                           method=\"fir\", fir_window=\"hamming\", fir_design='firwin')\n",
        "# we want 5m of recording time\n",
        "print(\"driving_and_nback_donald time in minutes: \", len(driving_and_nback_donald)/250/60)\n",
        "\n",
        "# second recording session\n",
        "# inspect events of fif file\n",
        "print(idle_donald2.info[\"events\"])\n",
        "print(idle_donald2.n_times)\n",
        "# crop dataframe according to events (timesteps have to be converted into seconds)\n",
        "idle_donald2.crop(tmin=7359/250, tmax=82309/250)\n",
        "# low pass filtering\n",
        "idle_donald2 = idle_donald2.filter(l_freq=None, h_freq=48., picks=\"all\",\n",
        "                                   method=\"fir\", fir_window=\"hamming\", fir_design='firwin')\n",
        "# we want 5m of recording time\n",
        "print(\"idle_donald2 time in minutes: \", len(idle_donald2)/250/60) \n",
        "\n",
        "# inspect events of fif file\n",
        "print(nback_donald2.info[\"events\"])\n",
        "print(nback_donald2.n_times)\n",
        "# crop dataframe according to events\n",
        "nback_donald2.crop(tmin=148989/250, tmax=224479/250)\n",
        "# low pass filtering\n",
        "nback_donald2 = nback_donald2.filter(l_freq=None, h_freq=48., picks=\"all\",\n",
        "                                     method=\"fir\", fir_window=\"hamming\", fir_design='firwin')\n",
        "# we want 5m of recording time\n",
        "print(\"nback_donald2 time in minutes: \", len(nback_donald2)/250/60) \n",
        "\n",
        "# @@@ second recording session @@@\n",
        "# inspect events of fif file\n",
        "print(driving_donald2.info[\"events\"])\n",
        "print(driving_donald2.n_times)\n",
        "# crop dataframe according to events\n",
        "driving_donald2.crop(tmin=17099/250, tmax=92739/250)\n",
        "# low pass filtering\n",
        "driving_donald2 = driving_donald2.filter(l_freq=None, h_freq=48., picks=\"all\",\n",
        "                                         method=\"fir\", fir_window=\"hamming\", fir_design='firwin')\n",
        "# we want 5m of recording time\n",
        "print(\"driving_donald2 time in minutes: \", len(driving_donald2)/250/60) \n",
        "\n",
        "# inspect fif file\n",
        "print(driving_and_nback_donald2.info[\"events\"])\n",
        "print(driving_and_nback_donald2.n_times)\n",
        "# crop dataframe according to events\n",
        "driving_and_nback_donald2.crop(tmin=8199/250, tmax=84059/250)\n",
        "# low pass filtering\n",
        "driving_and_nback_donald2 = driving_and_nback_donald2.filter(l_freq=None, h_freq=48., picks=\"all\",\n",
        "                                                             method=\"fir\", fir_window=\"hamming\", fir_design='firwin')\n",
        "# we want 5m of recording time\n",
        "print(\"driving_and_nback_donald2 time in minutes: \", len(driving_and_nback_donald2)/250/60)"
      ],
      "metadata": {
        "id": "umMnd4Cobpd6"
      },
      "execution_count": null,
      "outputs": []
    },
    {
      "cell_type": "code",
      "source": [
        "# crop recording files of Ganavi\n",
        "# @@@ ATTENTION: THIS CHANGES THE RAW-OBJECT IN PLACE @@@\n",
        "\n",
        "# inspect events of fif file\n",
        "print(idle_ganavi.info[\"events\"])\n",
        "print(idle_ganavi.n_times)\n",
        "# crop dataframe according to events (timesteps have to be converted into seconds)\n",
        "idle_ganavi.crop(tmin=9469/250, tmax=85559/250)\n",
        "# low pass filtering\n",
        "idle_ganavi = idle_ganavi.filter(l_freq=None, h_freq=48., picks=\"all\",\n",
        "                                 method=\"fir\", fir_window=\"hamming\", fir_design='firwin')\n",
        "# we want 5m of recording time\n",
        "print(\"idle_ganavi time in minutes: \", len(idle_ganavi)/250/60) \n",
        "\n",
        "# inspect events of fif file\n",
        "print(nback_ganavi.info[\"events\"])\n",
        "print(nback_ganavi.n_times)\n",
        "# crop dataframe according to events\n",
        "nback_ganavi.crop(tmin=164019/250, tmax=240479/250)\n",
        "# low pass filtering\n",
        "nback_ganavi = nback_ganavi.filter(l_freq=None, h_freq=48., picks=\"all\",\n",
        "                                   method=\"fir\", fir_window=\"hamming\", fir_design='firwin')\n",
        "# we want 5m of recording time\n",
        "print(\"nback_ganavi time in minutes: \", len(nback_ganavi)/250/60) \n",
        "\n",
        "# inspect events of fif file\n",
        "print(driving_ganavi.info[\"events\"])\n",
        "print(driving_ganavi.n_times)\n",
        "# crop dataframe according to events\n",
        "driving_ganavi.crop(tmin=11649/250, tmax=87879/250)\n",
        "# low pass filtering\n",
        "driving_ganavi = driving_ganavi.filter(l_freq=None, h_freq=48., picks=\"all\",\n",
        "                                       method=\"fir\", fir_window=\"hamming\", fir_design='firwin')\n",
        "# we want 5m of recording time\n",
        "print(\"driving_ganavi time in minutes: \", len(driving_ganavi)/250/60) \n",
        "\n",
        "# inspect fif file\n",
        "print(driving_and_nback_ganavi.info[\"events\"])\n",
        "print(driving_and_nback_ganavi.n_times)\n",
        "# crop dataframe according to events\n",
        "driving_and_nback_ganavi.crop(tmin=15279/250, tmax=91899/250)\n",
        "# low pass filtering\n",
        "driving_and_nback_ganavi = driving_and_nback_ganavi.filter(l_freq=None, h_freq=48., picks=\"all\",\n",
        "                                                           method=\"fir\", fir_window=\"hamming\", fir_design='firwin')\n",
        "# we want 5m of recording time\n",
        "print(\"driving_ganavi time in minutes: \", len(driving_and_nback_ganavi)/250/60) \n",
        "\n",
        "# @@@ second recording session @@@\n",
        "# inspect events of fif file\n",
        "print(idle_ganavi2.info[\"events\"])\n",
        "print(idle_ganavi2.n_times)\n",
        "# crop dataframe according to events (timesteps have to be converted into seconds)\n",
        "idle_ganavi2.crop(tmin=1339/250, tmax=86969/250)\n",
        "# low pass filtering\n",
        "idle_ganavi2 = idle_ganavi2.filter(l_freq=None, h_freq=48., picks=\"all\",\n",
        "                                   method=\"fir\", fir_window=\"hamming\", fir_design='firwin')\n",
        "# we want 5m of recording time\n",
        "print(\"idle_ganavi2 time in minutes: \", len(idle_ganavi2)/250/60) \n",
        "\n",
        "# inspect events of fif file\n",
        "print(nback_ganavi2.info[\"events\"])\n",
        "print(nback_ganavi2.n_times)\n",
        "# crop dataframe according to events\n",
        "nback_ganavi2.crop(tmin=155149/250, tmax=230459/250)\n",
        "# low pass filtering\n",
        "nback_ganavi2 = nback_ganavi2.filter(l_freq=None, h_freq=48., picks=\"all\",\n",
        "                                     method=\"fir\", fir_window=\"hamming\", fir_design='firwin')\n",
        "# we want 5m of recording time\n",
        "print(\"nback_ganavi2 time in minutes: \", len(nback_ganavi2)/250/60) \n",
        "\n",
        "# inspect events of fif file\n",
        "print(driving_ganavi2.info[\"events\"])\n",
        "print(driving_ganavi2.n_times)\n",
        "# crop dataframe according to events\n",
        "driving_ganavi2.crop(tmin=27939/250, tmax=104439/250)\n",
        "# low pass filtering\n",
        "driving_ganavi2 = driving_ganavi2.filter(l_freq=None, h_freq=48., picks=\"all\",\n",
        "                                         method=\"fir\", fir_window=\"hamming\", fir_design='firwin')\n",
        "# we want 5m of recording time\n",
        "print(\"driving_ganavi2 time in minutes: \", len(driving_ganavi2)/250/60) \n",
        "\n",
        "# inspect fif file\n",
        "print(driving_and_nback_ganavi2.info[\"events\"])\n",
        "print(driving_and_nback_ganavi2.n_times)\n",
        "# crop dataframe according to events\n",
        "driving_and_nback_ganavi2.crop(tmin=16189/250, tmax=92239/250)\n",
        "# low pass filtering\n",
        "driving_and_nback_ganavi2 = driving_and_nback_ganavi2.filter(l_freq=None, h_freq=48., picks=\"all\",\n",
        "                                                             method=\"fir\", fir_window=\"hamming\", fir_design='firwin')\n",
        "# we want 5m of recording time\n",
        "print(\"driving_ganavi2 time in minutes: \", len(driving_and_nback_ganavi2)/250/60)"
      ],
      "metadata": {
        "id": "6uwcuwVEbrye"
      },
      "execution_count": null,
      "outputs": []
    },
    {
      "cell_type": "code",
      "source": [
        "# crop recording files of Nicolas\n",
        "# @@@ ATTENTION: THIS CHANGES THE RAW-OBJECT IN PLACE @@@\n",
        "\n",
        "# inspect events of fif file\n",
        "print(idle_nicolas.info[\"events\"])\n",
        "print(idle_nicolas.n_times)\n",
        "# crop dataframe according to events (timesteps have to be converted into seconds)\n",
        "idle_nicolas.crop(tmin=10259/250, tmax=86239/250)\n",
        "# low pass filtering\n",
        "idle_nicolas = idle_nicolas.filter(l_freq=None, h_freq=48., picks=\"all\",\n",
        "                                   method=\"fir\", fir_window=\"hamming\", fir_design='firwin')\n",
        "# we want 5m of recording time\n",
        "print(\"idle_nicolas time in minutes: \", len(idle_nicolas)/250/60) \n",
        "\n",
        "# inspect events of fif file\n",
        "print(nback_nicolas.info[\"events\"])\n",
        "print(nback_nicolas.n_times)\n",
        "# crop dataframe according to events\n",
        "nback_nicolas.crop(tmin=234509/250, tmax=310599/250)\n",
        "# low pass filtering\n",
        "nback_nicolas = nback_nicolas.filter(l_freq=None, h_freq=48., picks=\"all\",\n",
        "                                     method=\"fir\", fir_window=\"hamming\", fir_design='firwin')\n",
        "# we want 5m of recording time\n",
        "print(\"nback_nicolas time in minutes: \", len(nback_nicolas)/250/60) \n",
        "\n",
        "# inspect events of fif file\n",
        "print(driving_nicolas.info[\"events\"])\n",
        "print(driving_nicolas.n_times)\n",
        "# crop dataframe according to events\n",
        "driving_nicolas.crop(tmin=43759/250, tmax=119309/250)\n",
        "# low pass filtering\n",
        "driving_nicolas = driving_nicolas.filter(l_freq=None, h_freq=48., picks=\"all\",\n",
        "                                         method=\"fir\", fir_window=\"hamming\", fir_design='firwin')\n",
        "# we want 5m of recording time\n",
        "print(\"driving_nicolas time in minutes: \", len(driving_nicolas)/250/60) \n",
        "\n",
        "# inspect fif file\n",
        "print(driving_and_nback_nicolas.info[\"events\"])\n",
        "print(driving_and_nback_nicolas.n_times)\n",
        "# crop dataframe according to events\n",
        "driving_and_nback_nicolas.crop(tmin=11269/250, tmax=87589/250)\n",
        "# low pass filtering\n",
        "driving_and_nback_nicolas = driving_and_nback_nicolas.filter(l_freq=None, h_freq=48., picks=\"all\",\n",
        "                                                             method=\"fir\", fir_window=\"hamming\", fir_design='firwin')\n",
        "# we want 5m of recording time\n",
        "print(\"driving_nicolas time in minutes: \", len(driving_and_nback_nicolas)/250/60) \n",
        "\n",
        "# @@@ second recording session @@@\n",
        "# crop recording files of Nicolas\n",
        "# @@@ ATTENTION: THIS CHANGES THE RAW-OBJECT IN PLACE @@@\n",
        "\n",
        "# inspect events of fif file\n",
        "print(idle_nicolas2.info[\"events\"])\n",
        "print(idle_nicolas2.n_times)\n",
        "# crop dataframe according to events (timesteps have to be converted into seconds)\n",
        "idle_nicolas2.crop(tmin=15229/250, tmax=90789/250)\n",
        "# low pass filtering\n",
        "idle_nicolas2 = idle_nicolas2.filter(l_freq=None, h_freq=48., picks=\"all\",\n",
        "                                     method=\"fir\", fir_window=\"hamming\", fir_design='firwin')\n",
        "# we want 5m of recording time\n",
        "print(\"idle_nicolas2 time in minutes: \", len(idle_nicolas2)/250/60) \n",
        "\n",
        "# inspect events of fif file\n",
        "print(nback_nicolas2.info[\"events\"])\n",
        "print(nback_nicolas2.n_times)\n",
        "# crop dataframe according to events\n",
        "nback_nicolas2.crop(tmin=149699/250, tmax=225139/250)\n",
        "# low pass filtering\n",
        "nback_nicolas2 = nback_nicolas2.filter(l_freq=None, h_freq=48., picks=\"all\",\n",
        "                                       method=\"fir\", fir_window=\"hamming\", fir_design='firwin')\n",
        "# we want 5m of recording time\n",
        "print(\"nback_nicolas2 time in minutes: \", len(nback_nicolas2)/250/60) \n",
        "\n",
        "# inspect events of fif file\n",
        "print(driving_nicolas2.info[\"events\"])\n",
        "print(driving_nicolas2.n_times)\n",
        "# crop dataframe according to events\n",
        "driving_nicolas2.crop(tmin=12049/250, tmax=87689/250)\n",
        "# low pass filtering\n",
        "driving_nicolas2 = driving_nicolas2.filter(l_freq=None, h_freq=48., picks=\"all\",\n",
        "                                           method=\"fir\", fir_window=\"hamming\", fir_design='firwin')\n",
        "# we want 5m of recording time\n",
        "print(\"driving_nicolas2 time in minutes: \", len(driving_nicolas2)/250/60) \n",
        "\n",
        "# inspect fif file\n",
        "print(driving_and_nback_nicolas2.info[\"events\"])\n",
        "print(driving_and_nback_nicolas2.n_times)\n",
        "# crop dataframe according to events\n",
        "driving_and_nback_nicolas2.crop(tmin=28199/250, tmax=103879/250)\n",
        "# low pass filtering\n",
        "driving_and_nback_nicolas2 = driving_and_nback_nicolas2.filter(l_freq=None, h_freq=48., picks=\"all\",\n",
        "                                                               method=\"fir\", fir_window=\"hamming\", fir_design='firwin')\n",
        "# we want 5m of recording time\n",
        "print(\"driving_nicolas2 time in minutes: \", len(driving_and_nback_nicolas2)/250/60) "
      ],
      "metadata": {
        "id": "s59WKo0Dbuzk"
      },
      "execution_count": null,
      "outputs": []
    },
    {
      "cell_type": "code",
      "source": [
        "# remove outliers & standardize data\n",
        "\n",
        "channel_names = idle_donald.ch_names\n",
        "\n",
        "scenarios_dict_s1 = {\n",
        "    \"idle\": [idle_donald.get_data(), idle_ganavi.get_data(), idle_nicolas.get_data()],\n",
        "    \"nback\": [nback_donald.get_data(), nback_ganavi.get_data(), nback_nicolas.get_data()],\n",
        "    \"driving\": [driving_donald.get_data(), driving_ganavi.get_data(), driving_nicolas.get_data()],\n",
        "    \"driving_and_nback\": [driving_and_nback_donald.get_data(), driving_and_nback_ganavi.get_data(), driving_and_nback_nicolas.get_data()]\n",
        "}\n",
        "\n",
        "scenarios_dict_s2 = {\n",
        "    \"idle\": [idle_donald2.get_data(), idle_ganavi2.get_data(), idle_nicolas2.get_data()],\n",
        "    \"nback\": [nback_donald2.get_data(), nback_ganavi2.get_data(), nback_nicolas2.get_data()],\n",
        "    \"driving\": [driving_donald2.get_data(), driving_ganavi2.get_data(), driving_nicolas2.get_data()],\n",
        "    \"driving_and_nback\": [driving_and_nback_donald2.get_data(), driving_and_nback_ganavi2.get_data(), driving_and_nback_nicolas2.get_data()]\n",
        "}\n",
        "\n",
        "def standardize_data(scenarios_dict):\n",
        "    standardized_scenarios_dict = {}\n",
        "    # remove outliers by trimming off 5th and 95th \n",
        "    for scenario, scenario_data in scenarios_dict.items():\n",
        "        pp_scenario_data = []\n",
        "        for subject_data in scenario_data:\n",
        "            pp_subject_data = []\n",
        "            for channel in subject_data:\n",
        "                p5, p95 = np.percentile(channel, [5,95])\n",
        "                # replace extreme values with the appropriate percentiles\n",
        "                channel[channel < p5] = p5\n",
        "                channel[channel > p95] = p95\n",
        "                # standardize data\n",
        "                channel = (channel - channel.mean())/channel.std()\n",
        "                pp_subject_data.append(channel)\n",
        "            pp_scenario_data.append(pp_subject_data)\n",
        "        standardized_scenarios_dict.update({scenario:pp_scenario_data})\n",
        "    return standardized_scenarios_dict\n",
        "\n",
        "standardized_scenarios_dict_s1 = standardize_data(scenarios_dict_s1)\n",
        "standardized_scenarios_dict_s2 = standardize_data(scenarios_dict_s2)"
      ],
      "metadata": {
        "id": "tdIWzGmHbyea"
      },
      "execution_count": null,
      "outputs": []
    },
    {
      "cell_type": "code",
      "source": [
        "# merge individual subject datasets into one common scenario dataset and apply low pass filter at 48 Hz\n",
        "\n",
        "def merge_data(data):\n",
        "    scenarios_mne_dict = {}\n",
        "    info = mne.create_info(ch_names=channel_names,\n",
        "                          ch_types=['eeg'] * len(channel_names),\n",
        "                          sfreq=250)\n",
        "\n",
        "    for scenario_name, scenario_data in data.items():\n",
        "        data = np.concatenate(tuple(scenario_data), axis=1)\n",
        "        scenario_raw = mne.io.RawArray(data, info)\n",
        "        scenarios_mne_dict.update({scenario_name:scenario_raw})\n",
        "\n",
        "    # each scenario should be 3x5m = 15m\n",
        "    print(\"idle time in minutes: \", len(scenarios_mne_dict[\"idle\"])/250/60) \n",
        "    print(\"nback time in minutes: \", len(scenarios_mne_dict[\"nback\"])/250/60) \n",
        "    print(\"driving time in minutes: \", len(scenarios_mne_dict[\"driving\"])/250/60) \n",
        "    print(\"driving_and_nback time in minutes: \", len(scenarios_mne_dict[\"driving_and_nback\"])/250/60) \n",
        "\n",
        "    return scenarios_mne_dict\n",
        "\n",
        "scenarios_mne_dict_s1 = merge_data(standardized_scenarios_dict_s1)\n",
        "scenarios_mne_dict_s2 = merge_data(standardized_scenarios_dict_s1)"
      ],
      "metadata": {
        "id": "hc28uVRXb0ef"
      },
      "execution_count": null,
      "outputs": []
    },
    {
      "cell_type": "code",
      "source": [
        "# compute the psd of each single frequency across the entire time series data segmented\n",
        "# in 1s windows with a 50% overlap\n",
        "\n",
        "def compute_psd(data):\n",
        "    scenarios_psd_dict = {}\n",
        "    for scenario_name, scenario_data in data.items():\n",
        "      scenario_psd, _ = mne.time_frequency.psd_welch(scenario_data, fmin=0, fmax=50, tmin=None, tmax=None,\n",
        "                                                      n_fft=250, n_overlap=125, n_per_seg=250, picks=None,\n",
        "                                                      proj=False, n_jobs=1, reject_by_annotation=True, average=None,\n",
        "                                                      window='blackman', verbose=True)\n",
        "      scenarios_psd_dict.update({scenario_name:scenario_psd})\n",
        "      # pspds is of dim (8, 51, 639), i.e. (channels, frequencies, time segments)\n",
        "      print(scenario_name+\" shape: \", scenario_psd.shape)\n",
        "    return scenarios_psd_dict\n",
        "  \n",
        "scenarios_psd_dict_s1 = compute_psd(scenarios_mne_dict_s1)\n",
        "scenarios_psd_dict_s2 = compute_psd(scenarios_mne_dict_s2)"
      ],
      "metadata": {
        "id": "k_rA9FCib27F"
      },
      "execution_count": null,
      "outputs": []
    },
    {
      "cell_type": "code",
      "source": [
        "# extract features from psds\n",
        "# ASSUMPTION #\n",
        "# we take the average of the different frequencies defined in the ranges of δ (<4 Hz), θ (4–7 Hz),\n",
        "# α (8–12 Hz), β (12–30 Hz), and γ (31–50 Hz) to get a single representative value\n",
        "\n",
        "def extract_features(psds):\n",
        "    delta = psds[:,0:4,:]\n",
        "    theta = psds[:,4:8,:]\n",
        "    alpha = psds[:,8:13,:]\n",
        "    beta = psds[:,12:31,:]\n",
        "    gamma = psds[:,31:51,:]\n",
        "\n",
        "    delta_mean = np.mean(delta, axis=1)\n",
        "    theta_mean = np.mean(theta, axis=1)\n",
        "    alpha_mean = np.mean(alpha, axis=1)\n",
        "    beta_mean = np.mean(beta, axis=1)\n",
        "    gamma_mean = np.mean(gamma, axis=1)\n",
        "\n",
        "    # replace extreme value with the 5th and 95th percentile respectively\n",
        "    absolute_features = [delta_mean, theta_mean, alpha_mean, beta_mean, gamma_mean]\n",
        "    for feature in absolute_features:\n",
        "        p5s, p95s = np.percentile(feature, [5,95], axis=1)\n",
        "        for channel, (p5, p95) in enumerate(zip(p5s,p95s)):\n",
        "          feature[channel, feature[channel] < p5] = p5\n",
        "          feature[channel, feature[channel] > p95] = p95\n",
        "\n",
        "    # calculate some ratios given in the paper: \n",
        "    # Barua, Shaibal, Mobyen Uddin Ahmed, and Shahina Begum. \"Towards intelligent data analytics: \n",
        "    # A case study in driver cognitive load classification.\" Brain sciences 10.8 (2020): 526.\n",
        "\n",
        "    r1 = (alpha_mean + theta_mean)/beta_mean\n",
        "    r2 = alpha_mean/beta_mean\n",
        "    r3 = (alpha_mean + theta_mean)/(alpha_mean + beta_mean)\n",
        "    r4 = theta_mean/beta_mean\n",
        "\n",
        "    columns = {\n",
        "        \"Fz_delta\": delta_mean[0,:],\n",
        "        \"Fz_theta\": theta_mean[0,:],\n",
        "        \"Fz_alpha\": alpha_mean[0,:],\n",
        "        \"Fz_beta\": beta_mean[0,:],\n",
        "        \"Fz_gamma\": gamma_mean[0,:],\n",
        "        \"Fz_r1\": r1[0,:],\n",
        "        \"Fz_r2\": r2[0,:],\n",
        "        \"Fz_r3\": r3[0,:],\n",
        "        \"Fz_r4\": r4[0,:],\n",
        "\n",
        "        \"C3_delta\": delta_mean[1,:],\n",
        "        \"C3_theta\": theta_mean[1,:],\n",
        "        \"C3_alpha\": alpha_mean[1,:],\n",
        "        \"C3_beta\": beta_mean[1,:],\n",
        "        \"C3_gamma\": gamma_mean[1,:],\n",
        "        \"C3_r1\": r1[1,:],\n",
        "        \"C3_r2\": r2[1,:],\n",
        "        \"C3_r3\": r3[1,:],\n",
        "        \"C3_r4\": r4[1,:],\n",
        "\n",
        "        \"Cz_delta\": delta_mean[2,:],\n",
        "        \"Cz_theta\": theta_mean[2,:],\n",
        "        \"Cz_alpha\": alpha_mean[2,:],\n",
        "        \"Cz_beta\": beta_mean[2,:],\n",
        "        \"Cz_gamma\": gamma_mean[2,:],\n",
        "        \"Cz_r1\": r1[2,:],\n",
        "        \"Cz_r2\": r2[2,:],\n",
        "        \"Cz_r3\": r3[2,:],\n",
        "        \"Cz_r4\": r4[2,:],\n",
        "\n",
        "        \"C4_delta\": delta_mean[3,:],\n",
        "        \"C4_theta\": theta_mean[3,:],\n",
        "        \"C4_alpha\": alpha_mean[3,:],\n",
        "        \"C4_beta\": beta_mean[3,:],\n",
        "        \"C4_gamma\": gamma_mean[3,:],\n",
        "        \"C4_r1\": r1[3,:],\n",
        "        \"C4_r2\": r2[3,:],\n",
        "        \"C4_r3\": r3[3,:],\n",
        "        \"C4_r4\": r4[3,:],\n",
        "\n",
        "        \"Pz_delta\": delta_mean[4,:],\n",
        "        \"Pz_theta\": theta_mean[4,:],\n",
        "        \"Pz_alpha\": alpha_mean[4,:],\n",
        "        \"Pz_beta\": beta_mean[4,:],\n",
        "        \"Pz_gamma\": gamma_mean[4,:],\n",
        "        \"Pz_r1\": r1[4,:],\n",
        "        \"Pz_r2\": r2[4,:],\n",
        "        \"Pz_r3\": r3[4,:],\n",
        "        \"Pz_r4\": r4[4,:],\n",
        "\n",
        "        \"P07_delta\": delta_mean[5,:],\n",
        "        \"P07_theta\": theta_mean[5,:],\n",
        "        \"P07_alpha\": alpha_mean[5,:],\n",
        "        \"P07_beta\": beta_mean[5,:],\n",
        "        \"P07_gamma\": gamma_mean[5,:],\n",
        "        \"P07_r1\": r1[5,:],\n",
        "        \"P07_r2\": r2[5,:],\n",
        "        \"P07_r3\": r3[5,:],\n",
        "        \"P07_r4\": r4[5,:],\n",
        "\n",
        "        \"Oz_delta\": delta_mean[6,:],\n",
        "        \"Oz_theta\": theta_mean[6,:],\n",
        "        \"Oz_alpha\": alpha_mean[6,:],\n",
        "        \"Oz_beta\": beta_mean[6,:],\n",
        "        \"Oz_gamma\": gamma_mean[6,:],\n",
        "        \"Oz_r1\": r1[6,:],\n",
        "        \"Oz_r2\": r2[6,:],\n",
        "        \"Oz_r3\": r3[6,:],\n",
        "        \"Oz_r4\": r4[6,:],\n",
        "\n",
        "        \"P08_delta\": delta_mean[7,:],\n",
        "        \"P08_theta\": theta_mean[7,:],\n",
        "        \"P08_alpha\": alpha_mean[7,:],\n",
        "        \"P08_beta\": beta_mean[7,:],\n",
        "        \"P08_gamma\": gamma_mean[7,:],\n",
        "        \"P08_r1\": r1[7,:],\n",
        "        \"P08_r2\": r2[7,:],\n",
        "        \"P08_r3\": r3[7,:],\n",
        "        \"P08_r4\": r4[7,:]\n",
        "    }\n",
        "\n",
        "    #for key, value in columns.items():\n",
        "    #  print(key, value.shape)\n",
        "\n",
        "    return columns\n",
        "\n",
        "def remove_nan(data_dict):\n",
        "    scenario_features_dict = {}\n",
        "    for scenario_name, scenario_psds in data_dict.items():\n",
        "      data = extract_features(scenario_psds)\n",
        "      for key, value in data.items():\n",
        "        if np.isnan(value).any():\n",
        "          np.nan_to_num(value, copy=False, nan=0.0)\n",
        "      scenario_features_dict.update({scenario_name:data})\n",
        "    return scenario_features_dict\n",
        "\n",
        "scenario_features_dict_s1 = remove_nan(scenarios_psd_dict_s1)\n",
        "scenario_features_dict_s2 = remove_nan(scenarios_psd_dict_s2)"
      ],
      "metadata": {
        "colab": {
          "base_uri": "https://localhost:8080/"
        },
        "id": "afHyPcmBb4-y",
        "outputId": "b32ae8fe-33b0-431e-f69f-b271608abfd0"
      },
      "execution_count": null,
      "outputs": [
        {
          "output_type": "stream",
          "name": "stderr",
          "text": [
            "/usr/local/lib/python3.7/dist-packages/ipykernel_launcher.py:31: RuntimeWarning: invalid value encountered in true_divide\n",
            "/usr/local/lib/python3.7/dist-packages/ipykernel_launcher.py:32: RuntimeWarning: invalid value encountered in true_divide\n",
            "/usr/local/lib/python3.7/dist-packages/ipykernel_launcher.py:33: RuntimeWarning: invalid value encountered in true_divide\n",
            "/usr/local/lib/python3.7/dist-packages/ipykernel_launcher.py:34: RuntimeWarning: invalid value encountered in true_divide\n"
          ]
        }
      ]
    },
    {
      "cell_type": "code",
      "source": [
        "# gather data for each feature across all scenarios and trim datasets to get rid of extreme outliers\n",
        "\n",
        "features = scenario_features_dict_s1[\"idle\"].keys()\n",
        "print(features)\n",
        "feature_scenarios_dict = {}\n",
        "for feature in features:\n",
        "    scenarios_data = []\n",
        "    for scenario in scenario_features_dict_s1.values():\n",
        "      data = scenario[feature]\n",
        "      scenarios_data.append(data)\n",
        "    feature_scenarios_dict.update({feature:scenarios_data})\n",
        "\n",
        "for feature, data in feature_scenarios_dict.items():\n",
        "    data_shape = []\n",
        "    contains_null = []\n",
        "    for index, el in enumerate(data):\n",
        "        data_shape.append(el.shape)\n",
        "        if np.isnan(el).any() == True:\n",
        "          data[index] = np.nan_to_num(el, copy=True, nan=0.0)\n",
        "          feature_scenarios_dict.update({feature:data})\n",
        "          contains_null.append(True)\n",
        "        else: contains_null.append(False)\n",
        "    print(feature, \"shape across scenarios:\", data_shape, \"NaNs present:\", contains_null)\n",
        "\n",
        "print(\"number of features:\", len(features))\n",
        "delta_names = [key for key in features if \"delta\" in key]\n",
        "alpha_names = [key for key in features if \"alpha\" in key]\n",
        "beta_names = [key for key in features if \"beta\" in key]\n",
        "theta_names = [key for key in features if \"theta\" in key]\n",
        "gamma_names = [key for key in features if \"gamma\" in key]\n",
        "r1_names = [key for key in features if \"r1\" in key]\n",
        "r2_names = [key for key in features if \"r2\" in key]\n",
        "r3_names = [key for key in features if \"r3\" in key]\n",
        "r4_names = [key for key in features if \"r4\" in key]"
      ],
      "metadata": {
        "colab": {
          "base_uri": "https://localhost:8080/"
        },
        "id": "3t6YCjLPb9bx",
        "outputId": "8dc1d693-bc0e-4332-b849-abe2dacc7816"
      },
      "execution_count": null,
      "outputs": [
        {
          "output_type": "stream",
          "name": "stdout",
          "text": [
            "dict_keys(['Fz_delta', 'Fz_theta', 'Fz_alpha', 'Fz_beta', 'Fz_gamma', 'Fz_r1', 'Fz_r2', 'Fz_r3', 'Fz_r4', 'C3_delta', 'C3_theta', 'C3_alpha', 'C3_beta', 'C3_gamma', 'C3_r1', 'C3_r2', 'C3_r3', 'C3_r4', 'Cz_delta', 'Cz_theta', 'Cz_alpha', 'Cz_beta', 'Cz_gamma', 'Cz_r1', 'Cz_r2', 'Cz_r3', 'Cz_r4', 'C4_delta', 'C4_theta', 'C4_alpha', 'C4_beta', 'C4_gamma', 'C4_r1', 'C4_r2', 'C4_r3', 'C4_r4', 'Pz_delta', 'Pz_theta', 'Pz_alpha', 'Pz_beta', 'Pz_gamma', 'Pz_r1', 'Pz_r2', 'Pz_r3', 'Pz_r4', 'P07_delta', 'P07_theta', 'P07_alpha', 'P07_beta', 'P07_gamma', 'P07_r1', 'P07_r2', 'P07_r3', 'P07_r4', 'Oz_delta', 'Oz_theta', 'Oz_alpha', 'Oz_beta', 'Oz_gamma', 'Oz_r1', 'Oz_r2', 'Oz_r3', 'Oz_r4', 'P08_delta', 'P08_theta', 'P08_alpha', 'P08_beta', 'P08_gamma', 'P08_r1', 'P08_r2', 'P08_r3', 'P08_r4'])\n",
            "Fz_delta shape across scenarios: [(1817,), (1823,), (1831,), (1825,)] NaNs present: [False, False, False, False]\n",
            "Fz_theta shape across scenarios: [(1817,), (1823,), (1831,), (1825,)] NaNs present: [False, False, False, False]\n",
            "Fz_alpha shape across scenarios: [(1817,), (1823,), (1831,), (1825,)] NaNs present: [False, False, False, False]\n",
            "Fz_beta shape across scenarios: [(1817,), (1823,), (1831,), (1825,)] NaNs present: [False, False, False, False]\n",
            "Fz_gamma shape across scenarios: [(1817,), (1823,), (1831,), (1825,)] NaNs present: [False, False, False, False]\n",
            "Fz_r1 shape across scenarios: [(1817,), (1823,), (1831,), (1825,)] NaNs present: [False, False, False, False]\n",
            "Fz_r2 shape across scenarios: [(1817,), (1823,), (1831,), (1825,)] NaNs present: [False, False, False, False]\n",
            "Fz_r3 shape across scenarios: [(1817,), (1823,), (1831,), (1825,)] NaNs present: [False, False, False, False]\n",
            "Fz_r4 shape across scenarios: [(1817,), (1823,), (1831,), (1825,)] NaNs present: [False, False, False, False]\n",
            "C3_delta shape across scenarios: [(1817,), (1823,), (1831,), (1825,)] NaNs present: [False, False, False, False]\n",
            "C3_theta shape across scenarios: [(1817,), (1823,), (1831,), (1825,)] NaNs present: [False, False, False, False]\n",
            "C3_alpha shape across scenarios: [(1817,), (1823,), (1831,), (1825,)] NaNs present: [False, False, False, False]\n",
            "C3_beta shape across scenarios: [(1817,), (1823,), (1831,), (1825,)] NaNs present: [False, False, False, False]\n",
            "C3_gamma shape across scenarios: [(1817,), (1823,), (1831,), (1825,)] NaNs present: [False, False, False, False]\n",
            "C3_r1 shape across scenarios: [(1817,), (1823,), (1831,), (1825,)] NaNs present: [False, False, False, False]\n",
            "C3_r2 shape across scenarios: [(1817,), (1823,), (1831,), (1825,)] NaNs present: [False, False, False, False]\n",
            "C3_r3 shape across scenarios: [(1817,), (1823,), (1831,), (1825,)] NaNs present: [False, False, False, False]\n",
            "C3_r4 shape across scenarios: [(1817,), (1823,), (1831,), (1825,)] NaNs present: [False, False, False, False]\n",
            "Cz_delta shape across scenarios: [(1817,), (1823,), (1831,), (1825,)] NaNs present: [False, False, False, False]\n",
            "Cz_theta shape across scenarios: [(1817,), (1823,), (1831,), (1825,)] NaNs present: [False, False, False, False]\n",
            "Cz_alpha shape across scenarios: [(1817,), (1823,), (1831,), (1825,)] NaNs present: [False, False, False, False]\n",
            "Cz_beta shape across scenarios: [(1817,), (1823,), (1831,), (1825,)] NaNs present: [False, False, False, False]\n",
            "Cz_gamma shape across scenarios: [(1817,), (1823,), (1831,), (1825,)] NaNs present: [False, False, False, False]\n",
            "Cz_r1 shape across scenarios: [(1817,), (1823,), (1831,), (1825,)] NaNs present: [False, False, False, False]\n",
            "Cz_r2 shape across scenarios: [(1817,), (1823,), (1831,), (1825,)] NaNs present: [False, False, False, False]\n",
            "Cz_r3 shape across scenarios: [(1817,), (1823,), (1831,), (1825,)] NaNs present: [False, False, False, False]\n",
            "Cz_r4 shape across scenarios: [(1817,), (1823,), (1831,), (1825,)] NaNs present: [False, False, False, False]\n",
            "C4_delta shape across scenarios: [(1817,), (1823,), (1831,), (1825,)] NaNs present: [False, False, False, False]\n",
            "C4_theta shape across scenarios: [(1817,), (1823,), (1831,), (1825,)] NaNs present: [False, False, False, False]\n",
            "C4_alpha shape across scenarios: [(1817,), (1823,), (1831,), (1825,)] NaNs present: [False, False, False, False]\n",
            "C4_beta shape across scenarios: [(1817,), (1823,), (1831,), (1825,)] NaNs present: [False, False, False, False]\n",
            "C4_gamma shape across scenarios: [(1817,), (1823,), (1831,), (1825,)] NaNs present: [False, False, False, False]\n",
            "C4_r1 shape across scenarios: [(1817,), (1823,), (1831,), (1825,)] NaNs present: [False, False, False, False]\n",
            "C4_r2 shape across scenarios: [(1817,), (1823,), (1831,), (1825,)] NaNs present: [False, False, False, False]\n",
            "C4_r3 shape across scenarios: [(1817,), (1823,), (1831,), (1825,)] NaNs present: [False, False, False, False]\n",
            "C4_r4 shape across scenarios: [(1817,), (1823,), (1831,), (1825,)] NaNs present: [False, False, False, False]\n",
            "Pz_delta shape across scenarios: [(1817,), (1823,), (1831,), (1825,)] NaNs present: [False, False, False, False]\n",
            "Pz_theta shape across scenarios: [(1817,), (1823,), (1831,), (1825,)] NaNs present: [False, False, False, False]\n",
            "Pz_alpha shape across scenarios: [(1817,), (1823,), (1831,), (1825,)] NaNs present: [False, False, False, False]\n",
            "Pz_beta shape across scenarios: [(1817,), (1823,), (1831,), (1825,)] NaNs present: [False, False, False, False]\n",
            "Pz_gamma shape across scenarios: [(1817,), (1823,), (1831,), (1825,)] NaNs present: [False, False, False, False]\n",
            "Pz_r1 shape across scenarios: [(1817,), (1823,), (1831,), (1825,)] NaNs present: [False, False, False, False]\n",
            "Pz_r2 shape across scenarios: [(1817,), (1823,), (1831,), (1825,)] NaNs present: [False, False, False, False]\n",
            "Pz_r3 shape across scenarios: [(1817,), (1823,), (1831,), (1825,)] NaNs present: [False, False, False, False]\n",
            "Pz_r4 shape across scenarios: [(1817,), (1823,), (1831,), (1825,)] NaNs present: [False, False, False, False]\n",
            "P07_delta shape across scenarios: [(1817,), (1823,), (1831,), (1825,)] NaNs present: [False, False, False, False]\n",
            "P07_theta shape across scenarios: [(1817,), (1823,), (1831,), (1825,)] NaNs present: [False, False, False, False]\n",
            "P07_alpha shape across scenarios: [(1817,), (1823,), (1831,), (1825,)] NaNs present: [False, False, False, False]\n",
            "P07_beta shape across scenarios: [(1817,), (1823,), (1831,), (1825,)] NaNs present: [False, False, False, False]\n",
            "P07_gamma shape across scenarios: [(1817,), (1823,), (1831,), (1825,)] NaNs present: [False, False, False, False]\n",
            "P07_r1 shape across scenarios: [(1817,), (1823,), (1831,), (1825,)] NaNs present: [False, False, False, False]\n",
            "P07_r2 shape across scenarios: [(1817,), (1823,), (1831,), (1825,)] NaNs present: [False, False, False, False]\n",
            "P07_r3 shape across scenarios: [(1817,), (1823,), (1831,), (1825,)] NaNs present: [False, False, False, False]\n",
            "P07_r4 shape across scenarios: [(1817,), (1823,), (1831,), (1825,)] NaNs present: [False, False, False, False]\n",
            "Oz_delta shape across scenarios: [(1817,), (1823,), (1831,), (1825,)] NaNs present: [False, False, False, False]\n",
            "Oz_theta shape across scenarios: [(1817,), (1823,), (1831,), (1825,)] NaNs present: [False, False, False, False]\n",
            "Oz_alpha shape across scenarios: [(1817,), (1823,), (1831,), (1825,)] NaNs present: [False, False, False, False]\n",
            "Oz_beta shape across scenarios: [(1817,), (1823,), (1831,), (1825,)] NaNs present: [False, False, False, False]\n",
            "Oz_gamma shape across scenarios: [(1817,), (1823,), (1831,), (1825,)] NaNs present: [False, False, False, False]\n",
            "Oz_r1 shape across scenarios: [(1817,), (1823,), (1831,), (1825,)] NaNs present: [False, False, False, False]\n",
            "Oz_r2 shape across scenarios: [(1817,), (1823,), (1831,), (1825,)] NaNs present: [False, False, False, False]\n",
            "Oz_r3 shape across scenarios: [(1817,), (1823,), (1831,), (1825,)] NaNs present: [False, False, False, False]\n",
            "Oz_r4 shape across scenarios: [(1817,), (1823,), (1831,), (1825,)] NaNs present: [False, False, False, False]\n",
            "P08_delta shape across scenarios: [(1817,), (1823,), (1831,), (1825,)] NaNs present: [False, False, False, False]\n",
            "P08_theta shape across scenarios: [(1817,), (1823,), (1831,), (1825,)] NaNs present: [False, False, False, False]\n",
            "P08_alpha shape across scenarios: [(1817,), (1823,), (1831,), (1825,)] NaNs present: [False, False, False, False]\n",
            "P08_beta shape across scenarios: [(1817,), (1823,), (1831,), (1825,)] NaNs present: [False, False, False, False]\n",
            "P08_gamma shape across scenarios: [(1817,), (1823,), (1831,), (1825,)] NaNs present: [False, False, False, False]\n",
            "P08_r1 shape across scenarios: [(1817,), (1823,), (1831,), (1825,)] NaNs present: [False, False, False, False]\n",
            "P08_r2 shape across scenarios: [(1817,), (1823,), (1831,), (1825,)] NaNs present: [False, False, False, False]\n",
            "P08_r3 shape across scenarios: [(1817,), (1823,), (1831,), (1825,)] NaNs present: [False, False, False, False]\n",
            "P08_r4 shape across scenarios: [(1817,), (1823,), (1831,), (1825,)] NaNs present: [False, False, False, False]\n",
            "number of features: 72\n"
          ]
        }
      ]
    },
    {
      "cell_type": "code",
      "source": [
        "# construct datasets of first recording session\n",
        "idle_s1_df = pd.DataFrame(data=scenario_features_dict_s1[\"idle\"])\n",
        "nback_s1_df = pd.DataFrame(data=scenario_features_dict_s1[\"nback\"])\n",
        "driving_s1_df = pd.DataFrame(data=scenario_features_dict_s1[\"driving\"])\n",
        "driving_and_nback_s1_df = pd.DataFrame(data=scenario_features_dict_s1[\"driving_and_nback\"])\n",
        "\n",
        "# binary setting\n",
        "X_binary_train = pd.concat([driving_s1_df, driving_and_nback_s1_df])\n",
        "print(\"X_binary_train.shape: \", X_binary_train.shape)\n",
        "\n",
        "driving_labels_binary_s1 = np.zeros(len(driving_s1_df), dtype=np.int8)\n",
        "driving_and_nback_labels_binary_s1 = np.ones(len(driving_and_nback_s1_df), dtype=np.int8)\n",
        "y_binary_train = np.concatenate((driving_labels_binary_s1, driving_and_nback_labels_binary_s1),\n",
        "                                axis=0,\n",
        "                                dtype=np.int8)\n",
        "print(\"y_binary_train.shape:\", y_binary_train.shape)\n"
      ],
      "metadata": {
        "colab": {
          "base_uri": "https://localhost:8080/"
        },
        "id": "hjQPT0brb_vZ",
        "outputId": "f0a8ea84-c412-4d95-cb53-6e3323f38448"
      },
      "execution_count": null,
      "outputs": [
        {
          "output_type": "stream",
          "name": "stdout",
          "text": [
            "X_binary_train.shape:  (3656, 72)\n",
            "y_binary_train.shape: (3656,)\n"
          ]
        }
      ]
    },
    {
      "cell_type": "code",
      "source": [
        "# construct datasets of second recording session\n",
        "idle_s2_df = pd.DataFrame(data=scenario_features_dict_s2[\"idle\"])\n",
        "nback_s2_df = pd.DataFrame(data=scenario_features_dict_s2[\"nback\"])\n",
        "driving_s2_df = pd.DataFrame(data=scenario_features_dict_s2[\"driving\"])\n",
        "driving_and_nback_s2_df = pd.DataFrame(data=scenario_features_dict_s2[\"driving_and_nback\"])\n",
        "\n",
        "# binary setting\n",
        "X_binary_test = pd.concat([driving_s2_df, driving_and_nback_s2_df])\n",
        "print(\"X_binary_test.shape: \", X_binary_test.shape)\n",
        "\n",
        "driving_labels_binary_s2 = np.zeros(len(driving_s2_df), dtype=np.int8)\n",
        "driving_and_nback_labels_binary_s2 = np.ones(len(driving_and_nback_s2_df), dtype=np.int8)\n",
        "\n",
        "y_binary_test = np.concatenate((driving_labels_binary_s2, driving_and_nback_labels_binary_s2),\n",
        "                                axis=0,\n",
        "                                dtype=np.int8)\n",
        "print(\"y_binary_test.shape:\", y_binary_test.shape)\n"
      ],
      "metadata": {
        "colab": {
          "base_uri": "https://localhost:8080/"
        },
        "id": "c9kxpGfncEDR",
        "outputId": "866198ff-cf1b-45e4-ec15-631e46d877f8"
      },
      "execution_count": null,
      "outputs": [
        {
          "output_type": "stream",
          "name": "stdout",
          "text": [
            "X_binary_test.shape:  (3656, 72)\n",
            "y_binary_test.shape: (3656,)\n"
          ]
        }
      ]
    },
    {
      "cell_type": "code",
      "source": [
        "# construct datasets of second recording session\n",
        "idle_s2_df = pd.DataFrame(data=scenario_features_dict_s2[\"idle\"])\n",
        "nback_s2_df = pd.DataFrame(data=scenario_features_dict_s2[\"nback\"])\n",
        "driving_s2_df = pd.DataFrame(data=scenario_features_dict_s2[\"driving\"])\n",
        "driving_and_nback_s2_df = pd.DataFrame(data=scenario_features_dict_s2[\"driving_and_nback\"])\n",
        "\n",
        "# binary setting\n",
        "X_binary_test = pd.concat([driving_s2_df, driving_and_nback_s2_df])\n",
        "print(\"X_binary_test.shape: \", X_binary_test.shape)\n",
        "\n",
        "driving_labels_binary_s2 = np.zeros(len(driving_s2_df), dtype=np.int8)\n",
        "driving_and_nback_labels_binary_s2 = np.ones(len(driving_and_nback_s2_df), dtype=np.int8)\n",
        "\n",
        "y_binary_test = np.concatenate((driving_labels_binary_s2, driving_and_nback_labels_binary_s2),\n",
        "                                axis=0,\n",
        "                                dtype=np.int8)\n",
        "print(\"y_binary_test.shape:\", y_binary_test.shape)\n"
      ],
      "metadata": {
        "id": "syHS1_byfpvd",
        "colab": {
          "base_uri": "https://localhost:8080/"
        },
        "outputId": "c7e1a6b6-34cd-4501-b27c-0addc22a7079"
      },
      "execution_count": null,
      "outputs": [
        {
          "output_type": "stream",
          "name": "stdout",
          "text": [
            "X_binary_test.shape:  (3656, 72)\n",
            "y_binary_test.shape: (3656,)\n"
          ]
        }
      ]
    },
    {
      "cell_type": "code",
      "source": [
        "df_1 = X_binary_train.copy(deep= True)\n",
        "df_1['label'] = y_binary_train\n",
        "df_2 = X_binary_test.copy(deep=True)\n",
        "df_2['label'] = y_binary_test\n",
        "df = pd.concat([df_1, df_2], axis=0)\n",
        "df = shuffle(df)"
      ],
      "metadata": {
        "id": "pG3bFbTWcPho"
      },
      "execution_count": null,
      "outputs": []
    },
    {
      "cell_type": "code",
      "source": [
        "y = df['label']\n",
        "X = df.drop(labels=['label'], axis =1)"
      ],
      "metadata": {
        "id": "kpMsPLDycSdW"
      },
      "execution_count": null,
      "outputs": []
    },
    {
      "cell_type": "code",
      "source": [
        "df.head()"
      ],
      "metadata": {
        "id": "MTNk87QQJMGw"
      },
      "execution_count": null,
      "outputs": []
    },
    {
      "cell_type": "code",
      "source": [
        "from sklearn.model_selection import train_test_split\n",
        "X_train, X_test, y_train, y_test = train_test_split(X, y, test_size = 0.2, random_state = 0)\n",
        "X_train, X_val, y_train, y_val = train_test_split(X_train, y_train, test_size=0.25, random_state=1) # 0.25 x 0.8 = 0.2"
      ],
      "metadata": {
        "id": "Ww_9elkWcVsR"
      },
      "execution_count": null,
      "outputs": []
    },
    {
      "cell_type": "code",
      "source": [
        "X_train, X_test, y_train, y_test = train_test_split(X, y, test_size = 0.2, random_state = 0)"
      ],
      "metadata": {
        "id": "8ajaGRZR4cPw"
      },
      "execution_count": null,
      "outputs": []
    },
    {
      "cell_type": "markdown",
      "source": [
        "# **Classification - RF and KNN**"
      ],
      "metadata": {
        "id": "DtjRSorB1vd0"
      }
    },
    {
      "cell_type": "code",
      "source": [
        "#classification using RF\n",
        "from sklearn.ensemble import RandomForestClassifier\n",
        "clf = RandomForestClassifier(n_estimators=1000, max_depth=3, random_state=0)\n",
        "clf.fit(shuffle(X_train), shuffle(y_train))\n",
        "y_pred_RF = clf.predict(X_test)"
      ],
      "metadata": {
        "id": "F8zs-wll3m6y"
      },
      "execution_count": null,
      "outputs": []
    },
    {
      "cell_type": "code",
      "source": [
        "from sklearn.metrics import confusion_matrix, accuracy_score"
      ],
      "metadata": {
        "id": "KdKPOIus4OsW"
      },
      "execution_count": null,
      "outputs": []
    },
    {
      "cell_type": "code",
      "source": [
        "confusion_matrixRF = confusion_matrix(y_test, y_pred_RF)\n",
        "\n",
        "tn, fp, fn, tp = confusion_matrix(y_test, y_pred_RF).ravel()\n",
        "specificity = tn / (tn+fp)\n",
        "print(specificity)\n",
        "sensitivity = (tp)/(tp + fn)\n",
        "print(sensitivity)"
      ],
      "metadata": {
        "colab": {
          "base_uri": "https://localhost:8080/"
        },
        "id": "BMmHvNPw4O8b",
        "outputId": "3b7d13ae-3bfd-47e0-efec-b63f41535ce9"
      },
      "execution_count": null,
      "outputs": [
        {
          "output_type": "stream",
          "name": "stdout",
          "text": [
            "0.49722222222222223\n",
            "0.5491251682368775\n"
          ]
        }
      ]
    },
    {
      "cell_type": "code",
      "source": [
        "tn, fp, fn, tp"
      ],
      "metadata": {
        "colab": {
          "base_uri": "https://localhost:8080/"
        },
        "id": "i8lQPAwyIpku",
        "outputId": "1f89d6ea-e9e5-4e46-d2ec-d11fb66c1fb7"
      },
      "execution_count": null,
      "outputs": [
        {
          "output_type": "execute_result",
          "data": {
            "text/plain": [
              "(452, 268, 550, 193)"
            ]
          },
          "metadata": {},
          "execution_count": 36
        }
      ]
    },
    {
      "cell_type": "code",
      "source": [
        "confusion_matrixRF"
      ],
      "metadata": {
        "colab": {
          "base_uri": "https://localhost:8080/"
        },
        "id": "IvWB_M4BIv41",
        "outputId": "d63ead1b-9eaa-487e-f47c-d4336c3482b2"
      },
      "execution_count": null,
      "outputs": [
        {
          "output_type": "execute_result",
          "data": {
            "text/plain": [
              "array([[364, 386],\n",
              "       [162, 551]])"
            ]
          },
          "metadata": {},
          "execution_count": 47
        }
      ]
    },
    {
      "cell_type": "code",
      "source": [
        "#Calculating Model Accuracy\n",
        "accuracyRF = accuracy_score(y_test, y_pred_RF)*100\n",
        "print('Accuracy of the model:' + str(round(accuracyRF, 2)) + ' %.')"
      ],
      "metadata": {
        "colab": {
          "base_uri": "https://localhost:8080/"
        },
        "id": "DLAn49PL4Cu7",
        "outputId": "aea1cb14-695b-46c5-ce9a-7b5ea0e268ef"
      },
      "execution_count": null,
      "outputs": [
        {
          "output_type": "stream",
          "name": "stdout",
          "text": [
            "Accuracy of the model:62.54 %.\n"
          ]
        }
      ]
    },
    {
      "cell_type": "code",
      "source": [
        "from sklearn.neighbors import KNeighborsClassifier\n",
        "classifier = KNeighborsClassifier(n_neighbors=17)\n",
        "classifier.fit(X_train, y_train)\n",
        "y_pred_KNN = classifier.predict(X_test)"
      ],
      "metadata": {
        "id": "OIDlL30N5AuO"
      },
      "execution_count": null,
      "outputs": []
    },
    {
      "cell_type": "code",
      "source": [
        "y_pred_KNN"
      ],
      "metadata": {
        "colab": {
          "base_uri": "https://localhost:8080/"
        },
        "id": "NBz16sMaEZoE",
        "outputId": "433005b8-3323-4485-9097-772bec73fef6"
      },
      "execution_count": null,
      "outputs": [
        {
          "output_type": "execute_result",
          "data": {
            "text/plain": [
              "array([0, 0, 1, ..., 0, 0, 0], dtype=int8)"
            ]
          },
          "metadata": {},
          "execution_count": 45
        }
      ]
    },
    {
      "cell_type": "code",
      "source": [
        "confusion_matrixKNN = confusion_matrix(y_test, y_pred_KNN)\n",
        "confusion_matrixKNN"
      ],
      "metadata": {
        "colab": {
          "base_uri": "https://localhost:8080/"
        },
        "id": "koXKH5AN5LmF",
        "outputId": "44bfa8de-57d1-4e55-bbfa-4c71ddac0d4c"
      },
      "execution_count": null,
      "outputs": [
        {
          "output_type": "execute_result",
          "data": {
            "text/plain": [
              "array([[506, 244],\n",
              "       [268, 445]])"
            ]
          },
          "metadata": {},
          "execution_count": 54
        }
      ]
    },
    {
      "cell_type": "code",
      "source": [
        "tn, fp, fn, tp = confusion_matrix(y_test, y_pred_KNN).ravel()\n",
        "specificity = tn / (tn+fp)\n",
        "print(specificity)\n",
        "sensitivity = (tp)/(tp + fn)\n",
        "print(sensitivity)"
      ],
      "metadata": {
        "colab": {
          "base_uri": "https://localhost:8080/"
        },
        "id": "ZMjLfwoUK-6v",
        "outputId": "db1332ec-2868-47de-fa6c-ac32dcdcbe74"
      },
      "execution_count": null,
      "outputs": [
        {
          "output_type": "stream",
          "name": "stdout",
          "text": [
            "0.6746666666666666\n",
            "0.6241234221598878\n"
          ]
        }
      ]
    },
    {
      "cell_type": "code",
      "source": [
        "tn, fp, fn, tp"
      ],
      "metadata": {
        "colab": {
          "base_uri": "https://localhost:8080/"
        },
        "id": "qHTT01c1LJMm",
        "outputId": "f1c6e69d-5ea2-45e8-9224-8bcf6dfac142"
      },
      "execution_count": null,
      "outputs": [
        {
          "output_type": "execute_result",
          "data": {
            "text/plain": [
              "(506, 244, 268, 445)"
            ]
          },
          "metadata": {},
          "execution_count": 56
        }
      ]
    },
    {
      "cell_type": "code",
      "source": [
        "#Calculating Model Accuracy\n",
        "accuracyKNN = accuracy_score(y_test, y_pred_KNN)*100\n",
        "print('Accuracy of the model:' + str(round(accuracyKNN, 2)) + ' %.')"
      ],
      "metadata": {
        "colab": {
          "base_uri": "https://localhost:8080/"
        },
        "id": "CUx9QcaQ5QNB",
        "outputId": "e17eb69b-bec9-4cac-8cec-3b1a5a4669ac"
      },
      "execution_count": null,
      "outputs": [
        {
          "output_type": "stream",
          "name": "stdout",
          "text": [
            "Accuracy of the model:65.0 %.\n"
          ]
        }
      ]
    },
    {
      "cell_type": "markdown",
      "source": [
        "## **Neural Networks/ MLP Models**"
      ],
      "metadata": {
        "id": "74XUd0ex19eh"
      }
    },
    {
      "cell_type": "code",
      "source": [
        "from keras.models import Sequential\n",
        "from keras.layers import Dense, Dropout, Activation\n",
        "from tensorflow.keras.optimizers import SGD"
      ],
      "metadata": {
        "id": "VAEI0nZqcgIC"
      },
      "execution_count": null,
      "outputs": []
    },
    {
      "cell_type": "code",
      "source": [
        "import tensorflow as tf"
      ],
      "metadata": {
        "id": "UgQEno6ccsru"
      },
      "execution_count": null,
      "outputs": []
    },
    {
      "cell_type": "code",
      "source": [
        "callback = tf.keras.callbacks.EarlyStopping(monitor='val_loss', mode='min', verbose=1, patience=20)"
      ],
      "metadata": {
        "id": "VdVO05H6cmmS"
      },
      "execution_count": null,
      "outputs": []
    },
    {
      "cell_type": "code",
      "source": [
        "model_a = Sequential() \n",
        "model_a.add(Dense(64, activation='relu', input_dim=72))\n",
        "model_a.add(Dense(64, activation='relu'))\n",
        "model_a.add(Dense(32, activation='relu'))\n",
        "model_a.add(Dense(32, activation='relu'))\n",
        "model_a.add(Dense(1, activation='sigmoid'))\n",
        "model_a.compile(loss='binary_crossentropy', optimizer='adam', metrics=['accuracy']) \n",
        "model_a.summary()"
      ],
      "metadata": {
        "colab": {
          "base_uri": "https://localhost:8080/"
        },
        "id": "BYD1ClsHrVvP",
        "outputId": "5bbcb1d9-f703-4b34-cb1a-1990570fa061"
      },
      "execution_count": null,
      "outputs": [
        {
          "output_type": "stream",
          "name": "stdout",
          "text": [
            "Model: \"sequential\"\n",
            "_________________________________________________________________\n",
            " Layer (type)                Output Shape              Param #   \n",
            "=================================================================\n",
            " dense (Dense)               (None, 64)                4672      \n",
            "                                                                 \n",
            " dense_1 (Dense)             (None, 64)                4160      \n",
            "                                                                 \n",
            " dense_2 (Dense)             (None, 32)                2080      \n",
            "                                                                 \n",
            " dense_3 (Dense)             (None, 32)                1056      \n",
            "                                                                 \n",
            " dense_4 (Dense)             (None, 1)                 33        \n",
            "                                                                 \n",
            "=================================================================\n",
            "Total params: 12,001\n",
            "Trainable params: 12,001\n",
            "Non-trainable params: 0\n",
            "_________________________________________________________________\n"
          ]
        }
      ]
    },
    {
      "cell_type": "code",
      "source": [
        "hist_a = model_a.fit(X_train, y_train, validation_data=(X_val, y_val), epochs=100, batch_size=128, callbacks=[callback])"
      ],
      "metadata": {
        "colab": {
          "base_uri": "https://localhost:8080/"
        },
        "id": "cJZzLomDsm4L",
        "outputId": "696ddaca-e958-4007-d086-859be2f7f6e9"
      },
      "execution_count": null,
      "outputs": [
        {
          "output_type": "stream",
          "name": "stdout",
          "text": [
            "Epoch 1/100\n",
            "46/46 [==============================] - 1s 5ms/step - loss: 0.6949 - accuracy: 0.5421 - val_loss: 0.6620 - val_accuracy: 0.5988\n",
            "Epoch 2/100\n",
            "46/46 [==============================] - 0s 2ms/step - loss: 0.6683 - accuracy: 0.5878 - val_loss: 0.6475 - val_accuracy: 0.6364\n",
            "Epoch 3/100\n",
            "46/46 [==============================] - 0s 2ms/step - loss: 0.6591 - accuracy: 0.6023 - val_loss: 0.6404 - val_accuracy: 0.6364\n",
            "Epoch 4/100\n",
            "46/46 [==============================] - 0s 2ms/step - loss: 0.6477 - accuracy: 0.6134 - val_loss: 0.6351 - val_accuracy: 0.6282\n",
            "Epoch 5/100\n",
            "46/46 [==============================] - 0s 2ms/step - loss: 0.6360 - accuracy: 0.6225 - val_loss: 0.6215 - val_accuracy: 0.6302\n",
            "Epoch 6/100\n",
            "46/46 [==============================] - 0s 2ms/step - loss: 0.6250 - accuracy: 0.6345 - val_loss: 0.6062 - val_accuracy: 0.6576\n",
            "Epoch 7/100\n",
            "46/46 [==============================] - 0s 2ms/step - loss: 0.6142 - accuracy: 0.6466 - val_loss: 0.5996 - val_accuracy: 0.6562\n",
            "Epoch 8/100\n",
            "46/46 [==============================] - 0s 2ms/step - loss: 0.6049 - accuracy: 0.6603 - val_loss: 0.5969 - val_accuracy: 0.6699\n",
            "Epoch 9/100\n",
            "46/46 [==============================] - 0s 2ms/step - loss: 0.5917 - accuracy: 0.6663 - val_loss: 0.5792 - val_accuracy: 0.6692\n",
            "Epoch 10/100\n",
            "46/46 [==============================] - 0s 2ms/step - loss: 0.5826 - accuracy: 0.6750 - val_loss: 0.5572 - val_accuracy: 0.6999\n",
            "Epoch 11/100\n",
            "46/46 [==============================] - 0s 2ms/step - loss: 0.5706 - accuracy: 0.6842 - val_loss: 0.5640 - val_accuracy: 0.6876\n",
            "Epoch 12/100\n",
            "46/46 [==============================] - 0s 3ms/step - loss: 0.5575 - accuracy: 0.6941 - val_loss: 0.5404 - val_accuracy: 0.7081\n",
            "Epoch 13/100\n",
            "46/46 [==============================] - 0s 2ms/step - loss: 0.5545 - accuracy: 0.6953 - val_loss: 0.5444 - val_accuracy: 0.7047\n",
            "Epoch 14/100\n",
            "46/46 [==============================] - 0s 2ms/step - loss: 0.5441 - accuracy: 0.7029 - val_loss: 0.5338 - val_accuracy: 0.7102\n",
            "Epoch 15/100\n",
            "46/46 [==============================] - 0s 2ms/step - loss: 0.5337 - accuracy: 0.7169 - val_loss: 0.5403 - val_accuracy: 0.7102\n",
            "Epoch 16/100\n",
            "46/46 [==============================] - 0s 2ms/step - loss: 0.5221 - accuracy: 0.7263 - val_loss: 0.5136 - val_accuracy: 0.7259\n",
            "Epoch 17/100\n",
            "46/46 [==============================] - 0s 2ms/step - loss: 0.5175 - accuracy: 0.7254 - val_loss: 0.5252 - val_accuracy: 0.7177\n",
            "Epoch 18/100\n",
            "46/46 [==============================] - 0s 2ms/step - loss: 0.4995 - accuracy: 0.7468 - val_loss: 0.4780 - val_accuracy: 0.7635\n",
            "Epoch 19/100\n",
            "46/46 [==============================] - 0s 2ms/step - loss: 0.4951 - accuracy: 0.7418 - val_loss: 0.4889 - val_accuracy: 0.7464\n",
            "Epoch 20/100\n",
            "46/46 [==============================] - 0s 2ms/step - loss: 0.4762 - accuracy: 0.7594 - val_loss: 0.4778 - val_accuracy: 0.7491\n",
            "Epoch 21/100\n",
            "46/46 [==============================] - 0s 2ms/step - loss: 0.4734 - accuracy: 0.7572 - val_loss: 0.4710 - val_accuracy: 0.7573\n",
            "Epoch 22/100\n",
            "46/46 [==============================] - 0s 2ms/step - loss: 0.4629 - accuracy: 0.7647 - val_loss: 0.4563 - val_accuracy: 0.7573\n",
            "Epoch 23/100\n",
            "46/46 [==============================] - 0s 2ms/step - loss: 0.4545 - accuracy: 0.7767 - val_loss: 0.4514 - val_accuracy: 0.7744\n",
            "Epoch 24/100\n",
            "46/46 [==============================] - 0s 2ms/step - loss: 0.4498 - accuracy: 0.7752 - val_loss: 0.4453 - val_accuracy: 0.7751\n",
            "Epoch 25/100\n",
            "46/46 [==============================] - 0s 2ms/step - loss: 0.4422 - accuracy: 0.7777 - val_loss: 0.4377 - val_accuracy: 0.7765\n",
            "Epoch 26/100\n",
            "46/46 [==============================] - 0s 2ms/step - loss: 0.4361 - accuracy: 0.7861 - val_loss: 0.4609 - val_accuracy: 0.7580\n",
            "Epoch 27/100\n",
            "46/46 [==============================] - 0s 2ms/step - loss: 0.4135 - accuracy: 0.7984 - val_loss: 0.4266 - val_accuracy: 0.7881\n",
            "Epoch 28/100\n",
            "46/46 [==============================] - 0s 2ms/step - loss: 0.4031 - accuracy: 0.8087 - val_loss: 0.4099 - val_accuracy: 0.7963\n",
            "Epoch 29/100\n",
            "46/46 [==============================] - 0s 2ms/step - loss: 0.3970 - accuracy: 0.8107 - val_loss: 0.4223 - val_accuracy: 0.7867\n",
            "Epoch 30/100\n",
            "46/46 [==============================] - 0s 2ms/step - loss: 0.3882 - accuracy: 0.8186 - val_loss: 0.3955 - val_accuracy: 0.8195\n",
            "Epoch 31/100\n",
            "46/46 [==============================] - 0s 2ms/step - loss: 0.3761 - accuracy: 0.8307 - val_loss: 0.4045 - val_accuracy: 0.8059\n",
            "Epoch 32/100\n",
            "46/46 [==============================] - 0s 2ms/step - loss: 0.3767 - accuracy: 0.8217 - val_loss: 0.3820 - val_accuracy: 0.8127\n",
            "Epoch 33/100\n",
            "46/46 [==============================] - 0s 2ms/step - loss: 0.3727 - accuracy: 0.8258 - val_loss: 0.3866 - val_accuracy: 0.8093\n",
            "Epoch 34/100\n",
            "46/46 [==============================] - 0s 2ms/step - loss: 0.3579 - accuracy: 0.8396 - val_loss: 0.3824 - val_accuracy: 0.8223\n",
            "Epoch 35/100\n",
            "46/46 [==============================] - 0s 2ms/step - loss: 0.3385 - accuracy: 0.8485 - val_loss: 0.3574 - val_accuracy: 0.8387\n",
            "Epoch 36/100\n",
            "46/46 [==============================] - 0s 2ms/step - loss: 0.3320 - accuracy: 0.8514 - val_loss: 0.3593 - val_accuracy: 0.8298\n",
            "Epoch 37/100\n",
            "46/46 [==============================] - 0s 2ms/step - loss: 0.3276 - accuracy: 0.8523 - val_loss: 0.3451 - val_accuracy: 0.8469\n",
            "Epoch 38/100\n",
            "46/46 [==============================] - 0s 2ms/step - loss: 0.3101 - accuracy: 0.8656 - val_loss: 0.3200 - val_accuracy: 0.8565\n",
            "Epoch 39/100\n",
            "46/46 [==============================] - 0s 2ms/step - loss: 0.3069 - accuracy: 0.8653 - val_loss: 0.3365 - val_accuracy: 0.8483\n",
            "Epoch 40/100\n",
            "46/46 [==============================] - 0s 2ms/step - loss: 0.3068 - accuracy: 0.8637 - val_loss: 0.3539 - val_accuracy: 0.8312\n",
            "Epoch 41/100\n",
            "46/46 [==============================] - 0s 2ms/step - loss: 0.3035 - accuracy: 0.8629 - val_loss: 0.3000 - val_accuracy: 0.8729\n",
            "Epoch 42/100\n",
            "46/46 [==============================] - 0s 2ms/step - loss: 0.2920 - accuracy: 0.8740 - val_loss: 0.2973 - val_accuracy: 0.8688\n",
            "Epoch 43/100\n",
            "46/46 [==============================] - 0s 2ms/step - loss: 0.2827 - accuracy: 0.8767 - val_loss: 0.2909 - val_accuracy: 0.8811\n",
            "Epoch 44/100\n",
            "46/46 [==============================] - 0s 2ms/step - loss: 0.2824 - accuracy: 0.8798 - val_loss: 0.2841 - val_accuracy: 0.8900\n",
            "Epoch 45/100\n",
            "46/46 [==============================] - 0s 2ms/step - loss: 0.2808 - accuracy: 0.8725 - val_loss: 0.2865 - val_accuracy: 0.8824\n",
            "Epoch 46/100\n",
            "46/46 [==============================] - 0s 2ms/step - loss: 0.2720 - accuracy: 0.8870 - val_loss: 0.2847 - val_accuracy: 0.8804\n",
            "Epoch 47/100\n",
            "46/46 [==============================] - 0s 2ms/step - loss: 0.2687 - accuracy: 0.8866 - val_loss: 0.2863 - val_accuracy: 0.8749\n",
            "Epoch 48/100\n",
            "46/46 [==============================] - 0s 2ms/step - loss: 0.2493 - accuracy: 0.8945 - val_loss: 0.2710 - val_accuracy: 0.8906\n",
            "Epoch 49/100\n",
            "46/46 [==============================] - 0s 2ms/step - loss: 0.2309 - accuracy: 0.9063 - val_loss: 0.2908 - val_accuracy: 0.8756\n",
            "Epoch 50/100\n",
            "46/46 [==============================] - 0s 2ms/step - loss: 0.2350 - accuracy: 0.9056 - val_loss: 0.2431 - val_accuracy: 0.9050\n",
            "Epoch 51/100\n",
            "46/46 [==============================] - 0s 2ms/step - loss: 0.2243 - accuracy: 0.9096 - val_loss: 0.2699 - val_accuracy: 0.8941\n",
            "Epoch 52/100\n",
            "46/46 [==============================] - 0s 2ms/step - loss: 0.2278 - accuracy: 0.9037 - val_loss: 0.2462 - val_accuracy: 0.9036\n",
            "Epoch 53/100\n",
            "46/46 [==============================] - 0s 2ms/step - loss: 0.2165 - accuracy: 0.9101 - val_loss: 0.2765 - val_accuracy: 0.8934\n",
            "Epoch 54/100\n",
            "46/46 [==============================] - 0s 2ms/step - loss: 0.2169 - accuracy: 0.9111 - val_loss: 0.2278 - val_accuracy: 0.9193\n",
            "Epoch 55/100\n",
            "46/46 [==============================] - 0s 2ms/step - loss: 0.2037 - accuracy: 0.9200 - val_loss: 0.3180 - val_accuracy: 0.8776\n",
            "Epoch 56/100\n",
            "46/46 [==============================] - 0s 2ms/step - loss: 0.2327 - accuracy: 0.9017 - val_loss: 0.2246 - val_accuracy: 0.9111\n",
            "Epoch 57/100\n",
            "46/46 [==============================] - 0s 2ms/step - loss: 0.2130 - accuracy: 0.9128 - val_loss: 0.2412 - val_accuracy: 0.9036\n",
            "Epoch 58/100\n",
            "46/46 [==============================] - 0s 2ms/step - loss: 0.2062 - accuracy: 0.9184 - val_loss: 0.2632 - val_accuracy: 0.9043\n",
            "Epoch 59/100\n",
            "46/46 [==============================] - 0s 2ms/step - loss: 0.2090 - accuracy: 0.9109 - val_loss: 0.2415 - val_accuracy: 0.9043\n",
            "Epoch 60/100\n",
            "46/46 [==============================] - 0s 2ms/step - loss: 0.1830 - accuracy: 0.9255 - val_loss: 0.2021 - val_accuracy: 0.9337\n",
            "Epoch 61/100\n",
            "46/46 [==============================] - 0s 2ms/step - loss: 0.1629 - accuracy: 0.9390 - val_loss: 0.2027 - val_accuracy: 0.9269\n",
            "Epoch 62/100\n",
            "46/46 [==============================] - 0s 2ms/step - loss: 0.1545 - accuracy: 0.9475 - val_loss: 0.2167 - val_accuracy: 0.9207\n",
            "Epoch 63/100\n",
            "46/46 [==============================] - 0s 2ms/step - loss: 0.1623 - accuracy: 0.9369 - val_loss: 0.2412 - val_accuracy: 0.9009\n",
            "Epoch 64/100\n",
            "46/46 [==============================] - 0s 2ms/step - loss: 0.1588 - accuracy: 0.9383 - val_loss: 0.1943 - val_accuracy: 0.9330\n",
            "Epoch 65/100\n",
            "46/46 [==============================] - 0s 2ms/step - loss: 0.1513 - accuracy: 0.9451 - val_loss: 0.2016 - val_accuracy: 0.9248\n",
            "Epoch 66/100\n",
            "46/46 [==============================] - 0s 2ms/step - loss: 0.1409 - accuracy: 0.9509 - val_loss: 0.2095 - val_accuracy: 0.9207\n",
            "Epoch 67/100\n",
            "46/46 [==============================] - 0s 2ms/step - loss: 0.1746 - accuracy: 0.9272 - val_loss: 0.3079 - val_accuracy: 0.8859\n",
            "Epoch 68/100\n",
            "46/46 [==============================] - 0s 2ms/step - loss: 0.1852 - accuracy: 0.9231 - val_loss: 0.2362 - val_accuracy: 0.9132\n",
            "Epoch 69/100\n",
            "46/46 [==============================] - 0s 2ms/step - loss: 0.1986 - accuracy: 0.9174 - val_loss: 0.2510 - val_accuracy: 0.9036\n",
            "Epoch 70/100\n",
            "46/46 [==============================] - 0s 2ms/step - loss: 0.2237 - accuracy: 0.9118 - val_loss: 0.2353 - val_accuracy: 0.9132\n",
            "Epoch 71/100\n",
            "46/46 [==============================] - 0s 2ms/step - loss: 0.1709 - accuracy: 0.9265 - val_loss: 0.1940 - val_accuracy: 0.9330\n",
            "Epoch 72/100\n",
            "46/46 [==============================] - 0s 2ms/step - loss: 0.1517 - accuracy: 0.9393 - val_loss: 0.1872 - val_accuracy: 0.9337\n",
            "Epoch 73/100\n",
            "46/46 [==============================] - 0s 2ms/step - loss: 0.1274 - accuracy: 0.9567 - val_loss: 0.1647 - val_accuracy: 0.9460\n",
            "Epoch 74/100\n",
            "46/46 [==============================] - 0s 2ms/step - loss: 0.1122 - accuracy: 0.9643 - val_loss: 0.1609 - val_accuracy: 0.9501\n",
            "Epoch 75/100\n",
            "46/46 [==============================] - 0s 2ms/step - loss: 0.1066 - accuracy: 0.9660 - val_loss: 0.1507 - val_accuracy: 0.9590\n",
            "Epoch 76/100\n",
            "46/46 [==============================] - 0s 2ms/step - loss: 0.1040 - accuracy: 0.9651 - val_loss: 0.1558 - val_accuracy: 0.9563\n",
            "Epoch 77/100\n",
            "46/46 [==============================] - 0s 2ms/step - loss: 0.1118 - accuracy: 0.9619 - val_loss: 0.1527 - val_accuracy: 0.9542\n",
            "Epoch 78/100\n",
            "46/46 [==============================] - 0s 2ms/step - loss: 0.0951 - accuracy: 0.9689 - val_loss: 0.1438 - val_accuracy: 0.9563\n",
            "Epoch 79/100\n",
            "46/46 [==============================] - 0s 2ms/step - loss: 0.0899 - accuracy: 0.9701 - val_loss: 0.1405 - val_accuracy: 0.9590\n",
            "Epoch 80/100\n",
            "46/46 [==============================] - 0s 2ms/step - loss: 0.0865 - accuracy: 0.9742 - val_loss: 0.1735 - val_accuracy: 0.9440\n",
            "Epoch 81/100\n",
            "46/46 [==============================] - 0s 2ms/step - loss: 0.1103 - accuracy: 0.9636 - val_loss: 0.1541 - val_accuracy: 0.9528\n",
            "Epoch 82/100\n",
            "46/46 [==============================] - 0s 2ms/step - loss: 0.1020 - accuracy: 0.9668 - val_loss: 0.1414 - val_accuracy: 0.9597\n",
            "Epoch 83/100\n",
            "46/46 [==============================] - 0s 2ms/step - loss: 0.1062 - accuracy: 0.9598 - val_loss: 0.1877 - val_accuracy: 0.9316\n",
            "Epoch 84/100\n",
            "46/46 [==============================] - 0s 2ms/step - loss: 0.1462 - accuracy: 0.9443 - val_loss: 0.2428 - val_accuracy: 0.9057\n",
            "Epoch 85/100\n",
            "46/46 [==============================] - 0s 2ms/step - loss: 0.1735 - accuracy: 0.9335 - val_loss: 0.2169 - val_accuracy: 0.9337\n",
            "Epoch 86/100\n",
            "46/46 [==============================] - 0s 2ms/step - loss: 0.1211 - accuracy: 0.9545 - val_loss: 0.1877 - val_accuracy: 0.9364\n",
            "Epoch 87/100\n",
            "46/46 [==============================] - 0s 2ms/step - loss: 0.0999 - accuracy: 0.9653 - val_loss: 0.1597 - val_accuracy: 0.9508\n",
            "Epoch 88/100\n",
            "46/46 [==============================] - 0s 2ms/step - loss: 0.0845 - accuracy: 0.9732 - val_loss: 0.1407 - val_accuracy: 0.9706\n",
            "Epoch 89/100\n",
            "46/46 [==============================] - 0s 2ms/step - loss: 0.0834 - accuracy: 0.9720 - val_loss: 0.1386 - val_accuracy: 0.9610\n",
            "Epoch 90/100\n",
            "46/46 [==============================] - 0s 2ms/step - loss: 0.0781 - accuracy: 0.9769 - val_loss: 0.1401 - val_accuracy: 0.9699\n",
            "Epoch 91/100\n",
            "46/46 [==============================] - 0s 2ms/step - loss: 0.0751 - accuracy: 0.9766 - val_loss: 0.1350 - val_accuracy: 0.9706\n",
            "Epoch 92/100\n",
            "46/46 [==============================] - 0s 2ms/step - loss: 0.0831 - accuracy: 0.9726 - val_loss: 0.1488 - val_accuracy: 0.9590\n",
            "Epoch 93/100\n",
            "46/46 [==============================] - 0s 2ms/step - loss: 0.0773 - accuracy: 0.9737 - val_loss: 0.1391 - val_accuracy: 0.9665\n",
            "Epoch 94/100\n",
            "46/46 [==============================] - 0s 2ms/step - loss: 0.0695 - accuracy: 0.9786 - val_loss: 0.1284 - val_accuracy: 0.9665\n",
            "Epoch 95/100\n",
            "46/46 [==============================] - 0s 2ms/step - loss: 0.0639 - accuracy: 0.9812 - val_loss: 0.1321 - val_accuracy: 0.9740\n",
            "Epoch 96/100\n",
            "46/46 [==============================] - 0s 2ms/step - loss: 0.0605 - accuracy: 0.9831 - val_loss: 0.1307 - val_accuracy: 0.9706\n",
            "Epoch 97/100\n",
            "46/46 [==============================] - 0s 2ms/step - loss: 0.0581 - accuracy: 0.9836 - val_loss: 0.1230 - val_accuracy: 0.9740\n",
            "Epoch 98/100\n",
            "46/46 [==============================] - 0s 2ms/step - loss: 0.0624 - accuracy: 0.9798 - val_loss: 0.1335 - val_accuracy: 0.9706\n",
            "Epoch 99/100\n",
            "46/46 [==============================] - 0s 3ms/step - loss: 0.0703 - accuracy: 0.9771 - val_loss: 0.1264 - val_accuracy: 0.9720\n",
            "Epoch 100/100\n",
            "46/46 [==============================] - 0s 4ms/step - loss: 0.0651 - accuracy: 0.9790 - val_loss: 0.1503 - val_accuracy: 0.9583\n"
          ]
        }
      ]
    },
    {
      "cell_type": "code",
      "source": [
        "sns.set()\n",
        "acc = hist_a.history['accuracy']\n",
        "val = hist_a.history['val_accuracy']\n",
        "epochs = range(1, len(acc) + 1)\n",
        " \n",
        "plt.plot(epochs, acc, '-', label='Training accuracy')\n",
        "plt.plot(epochs, val, ':', label='Validation accuracy')\n",
        "plt.title('Training and Validation Accuracy')\n",
        "plt.xlabel('Epoch')\n",
        "plt.ylabel('Accuracy')\n",
        "plt.legend(loc='best')\n",
        "plt.plot()"
      ],
      "metadata": {
        "colab": {
          "base_uri": "https://localhost:8080/",
          "height": 319
        },
        "id": "tjFSgbgasnUX",
        "outputId": "f735f388-68e4-448a-dd01-c032fe14f062"
      },
      "execution_count": null,
      "outputs": [
        {
          "output_type": "execute_result",
          "data": {
            "text/plain": [
              "[]"
            ]
          },
          "metadata": {},
          "execution_count": 63
        },
        {
          "output_type": "display_data",
          "data": {
            "text/plain": [
              "<Figure size 432x288 with 1 Axes>"
            ],
            "image/png": "[encoded data removed]"
          },
          "metadata": {}
        }
      ]
    },
    {
      "cell_type": "code",
      "source": [
        "model_a.evaluate(X_test, y_test)"
      ],
      "metadata": {
        "colab": {
          "base_uri": "https://localhost:8080/"
        },
        "id": "AVQU9pv4smBc",
        "outputId": "0a0f9f2e-f24d-4e0d-d879-5232b2213ba8"
      },
      "execution_count": null,
      "outputs": [
        {
          "output_type": "stream",
          "name": "stdout",
          "text": [
            "46/46 [==============================] - 0s 1ms/step - loss: 0.4964 - accuracy: 0.8975\n"
          ]
        },
        {
          "output_type": "execute_result",
          "data": {
            "text/plain": [
              "[0.49644920229911804, 0.8974709510803223]"
            ]
          },
          "metadata": {},
          "execution_count": 64
        }
      ]
    },
    {
      "cell_type": "code",
      "source": [
        "loss = hist_a.history['loss']\n",
        "epochs = range(1, len(loss) + 1)\n",
        "plt.plot(epochs, loss, '-', label='Loss')\n",
        "plt.title('Loss graph')\n",
        "plt.xlabel('Epoch')\n",
        "plt.ylabel('Loss')\n",
        "plt.legend(loc='best')\n",
        "plt.plot()"
      ],
      "metadata": {
        "colab": {
          "base_uri": "https://localhost:8080/",
          "height": 319
        },
        "id": "hr8b2aMit-g8",
        "outputId": "86ea4f09-1e26-4986-e93f-2b88241f43f5"
      },
      "execution_count": null,
      "outputs": [
        {
          "output_type": "execute_result",
          "data": {
            "text/plain": [
              "[]"
            ]
          },
          "metadata": {},
          "execution_count": 66
        },
        {
          "output_type": "display_data",
          "data": {
            "text/plain": [
              "<Figure size 432x288 with 1 Axes>"
            ],
            "image/png": "[encoded data removed]"
          },
          "metadata": {}
        }
      ]
    },
    {
      "cell_type": "code",
      "source": [
        "model_a.save(\"BestModelYet\")"
      ],
      "metadata": {
        "id": "mNnB6yGyuL8y"
      },
      "execution_count": null,
      "outputs": []
    },
    {
      "cell_type": "markdown",
      "source": [
        "# **MLP with/without Early Stopping**"
      ],
      "metadata": {
        "id": "4smp9TFyfWhn"
      }
    },
    {
      "cell_type": "code",
      "source": [
        "model = Sequential()\n",
        "model.add(Dense(64, activation='relu', input_dim=72))\n",
        "model.add(Dense(64, activation='relu'))\n",
        "model.add(Dense(32, activation='relu'))\n",
        "model.add(Dense(32, activation='relu'))\n",
        "model.add(Dense(1, activation='sigmoid'))\n",
        "model.compile(loss='binary_crossentropy', optimizer='adam', metrics=['accuracy'])\n",
        "model.summary()"
      ],
      "metadata": {
        "colab": {
          "base_uri": "https://localhost:8080/"
        },
        "id": "zcpc_Stcc2cd",
        "outputId": "b645ef90-c077-4f0d-a029-be4c42d0a523"
      },
      "execution_count": null,
      "outputs": [
        {
          "output_type": "stream",
          "name": "stdout",
          "text": [
            "Model: \"sequential_1\"\n",
            "_________________________________________________________________\n",
            " Layer (type)                Output Shape              Param #   \n",
            "=================================================================\n",
            " dense_5 (Dense)             (None, 64)                4672      \n",
            "                                                                 \n",
            " dense_6 (Dense)             (None, 64)                4160      \n",
            "                                                                 \n",
            " dense_7 (Dense)             (None, 32)                2080      \n",
            "                                                                 \n",
            " dense_8 (Dense)             (None, 32)                1056      \n",
            "                                                                 \n",
            " dense_9 (Dense)             (None, 1)                 33        \n",
            "                                                                 \n",
            "=================================================================\n",
            "Total params: 12,001\n",
            "Trainable params: 12,001\n",
            "Non-trainable params: 0\n",
            "_________________________________________________________________\n"
          ]
        }
      ]
    },
    {
      "cell_type": "code",
      "source": [
        "hist = model.fit(X_train, y_train, validation_data=(X_val, y_val), epochs=100, batch_size=128)"
      ],
      "metadata": {
        "colab": {
          "base_uri": "https://localhost:8080/"
        },
        "id": "926TWGI4j8Gu",
        "outputId": "aeb8aba8-e8c8-4406-b7f3-fac36d492b9a"
      },
      "execution_count": null,
      "outputs": [
        {
          "output_type": "stream",
          "name": "stdout",
          "text": [
            "Epoch 1/100\n",
            "46/46 [==============================] - 1s 5ms/step - loss: 0.7162 - accuracy: 0.5345 - val_loss: 0.6713 - val_accuracy: 0.5632\n",
            "Epoch 2/100\n",
            "46/46 [==============================] - 0s 3ms/step - loss: 0.6744 - accuracy: 0.5712 - val_loss: 0.6624 - val_accuracy: 0.5947\n",
            "Epoch 3/100\n",
            "46/46 [==============================] - 0s 2ms/step - loss: 0.6695 - accuracy: 0.5693 - val_loss: 0.6585 - val_accuracy: 0.5769\n",
            "Epoch 4/100\n",
            "46/46 [==============================] - 0s 2ms/step - loss: 0.6609 - accuracy: 0.5933 - val_loss: 0.6461 - val_accuracy: 0.6056\n",
            "Epoch 5/100\n",
            "46/46 [==============================] - 0s 2ms/step - loss: 0.6553 - accuracy: 0.5991 - val_loss: 0.6368 - val_accuracy: 0.6145\n",
            "Epoch 6/100\n",
            "46/46 [==============================] - 0s 2ms/step - loss: 0.6513 - accuracy: 0.6015 - val_loss: 0.6320 - val_accuracy: 0.6241\n",
            "Epoch 7/100\n",
            "46/46 [==============================] - 0s 2ms/step - loss: 0.6409 - accuracy: 0.6196 - val_loss: 0.6293 - val_accuracy: 0.6282\n",
            "Epoch 8/100\n",
            "46/46 [==============================] - 0s 2ms/step - loss: 0.6350 - accuracy: 0.6297 - val_loss: 0.6150 - val_accuracy: 0.6569\n",
            "Epoch 9/100\n",
            "46/46 [==============================] - 0s 2ms/step - loss: 0.6255 - accuracy: 0.6336 - val_loss: 0.6135 - val_accuracy: 0.6459\n",
            "Epoch 10/100\n",
            "46/46 [==============================] - 0s 2ms/step - loss: 0.6179 - accuracy: 0.6434 - val_loss: 0.6083 - val_accuracy: 0.6411\n",
            "Epoch 11/100\n",
            "46/46 [==============================] - 0s 2ms/step - loss: 0.6106 - accuracy: 0.6504 - val_loss: 0.5950 - val_accuracy: 0.6746\n",
            "Epoch 12/100\n",
            "46/46 [==============================] - 0s 2ms/step - loss: 0.5990 - accuracy: 0.6635 - val_loss: 0.5898 - val_accuracy: 0.6760\n",
            "Epoch 13/100\n",
            "46/46 [==============================] - 0s 2ms/step - loss: 0.5885 - accuracy: 0.6752 - val_loss: 0.5788 - val_accuracy: 0.6794\n",
            "Epoch 14/100\n",
            "46/46 [==============================] - 0s 2ms/step - loss: 0.5803 - accuracy: 0.6858 - val_loss: 0.5817 - val_accuracy: 0.6740\n",
            "Epoch 15/100\n",
            "46/46 [==============================] - 0s 2ms/step - loss: 0.5742 - accuracy: 0.6882 - val_loss: 0.5670 - val_accuracy: 0.6945\n",
            "Epoch 16/100\n",
            "46/46 [==============================] - 0s 2ms/step - loss: 0.5740 - accuracy: 0.6842 - val_loss: 0.5688 - val_accuracy: 0.6863\n",
            "Epoch 17/100\n",
            "46/46 [==============================] - 0s 2ms/step - loss: 0.5585 - accuracy: 0.6991 - val_loss: 0.5449 - val_accuracy: 0.7129\n",
            "Epoch 18/100\n",
            "46/46 [==============================] - 0s 2ms/step - loss: 0.5426 - accuracy: 0.7182 - val_loss: 0.5443 - val_accuracy: 0.7061\n",
            "Epoch 19/100\n",
            "46/46 [==============================] - 0s 2ms/step - loss: 0.5332 - accuracy: 0.7150 - val_loss: 0.5460 - val_accuracy: 0.7122\n",
            "Epoch 20/100\n",
            "46/46 [==============================] - 0s 2ms/step - loss: 0.5289 - accuracy: 0.7157 - val_loss: 0.5255 - val_accuracy: 0.7252\n",
            "Epoch 21/100\n",
            "46/46 [==============================] - 0s 2ms/step - loss: 0.5228 - accuracy: 0.7263 - val_loss: 0.5199 - val_accuracy: 0.7307\n",
            "Epoch 22/100\n",
            "46/46 [==============================] - 0s 2ms/step - loss: 0.5143 - accuracy: 0.7297 - val_loss: 0.5253 - val_accuracy: 0.7368\n",
            "Epoch 23/100\n",
            "46/46 [==============================] - 0s 2ms/step - loss: 0.5062 - accuracy: 0.7384 - val_loss: 0.4971 - val_accuracy: 0.7621\n",
            "Epoch 24/100\n",
            "46/46 [==============================] - 0s 2ms/step - loss: 0.4917 - accuracy: 0.7511 - val_loss: 0.5137 - val_accuracy: 0.7355\n",
            "Epoch 25/100\n",
            "46/46 [==============================] - 0s 2ms/step - loss: 0.4878 - accuracy: 0.7555 - val_loss: 0.4771 - val_accuracy: 0.7546\n",
            "Epoch 26/100\n",
            "46/46 [==============================] - 0s 2ms/step - loss: 0.4662 - accuracy: 0.7670 - val_loss: 0.4765 - val_accuracy: 0.7601\n",
            "Epoch 27/100\n",
            "46/46 [==============================] - 0s 2ms/step - loss: 0.4595 - accuracy: 0.7791 - val_loss: 0.4591 - val_accuracy: 0.7614\n",
            "Epoch 28/100\n",
            "46/46 [==============================] - 0s 2ms/step - loss: 0.4593 - accuracy: 0.7762 - val_loss: 0.4659 - val_accuracy: 0.7601\n",
            "Epoch 29/100\n",
            "46/46 [==============================] - 0s 2ms/step - loss: 0.4610 - accuracy: 0.7711 - val_loss: 0.4627 - val_accuracy: 0.7580\n",
            "Epoch 30/100\n",
            "46/46 [==============================] - 0s 2ms/step - loss: 0.4352 - accuracy: 0.7870 - val_loss: 0.4359 - val_accuracy: 0.7772\n",
            "Epoch 31/100\n",
            "46/46 [==============================] - 0s 2ms/step - loss: 0.4361 - accuracy: 0.7904 - val_loss: 0.4626 - val_accuracy: 0.7628\n",
            "Epoch 32/100\n",
            "46/46 [==============================] - 0s 2ms/step - loss: 0.4285 - accuracy: 0.7897 - val_loss: 0.4362 - val_accuracy: 0.7908\n",
            "Epoch 33/100\n",
            "46/46 [==============================] - 0s 2ms/step - loss: 0.4153 - accuracy: 0.8015 - val_loss: 0.4134 - val_accuracy: 0.7915\n",
            "Epoch 34/100\n",
            "46/46 [==============================] - 0s 2ms/step - loss: 0.4066 - accuracy: 0.8044 - val_loss: 0.4359 - val_accuracy: 0.7820\n",
            "Epoch 35/100\n",
            "46/46 [==============================] - 0s 2ms/step - loss: 0.4105 - accuracy: 0.8077 - val_loss: 0.4074 - val_accuracy: 0.7970\n",
            "Epoch 36/100\n",
            "46/46 [==============================] - 0s 2ms/step - loss: 0.3898 - accuracy: 0.8099 - val_loss: 0.3990 - val_accuracy: 0.8031\n",
            "Epoch 37/100\n",
            "46/46 [==============================] - 0s 2ms/step - loss: 0.3893 - accuracy: 0.8157 - val_loss: 0.4002 - val_accuracy: 0.7949\n",
            "Epoch 38/100\n",
            "46/46 [==============================] - 0s 2ms/step - loss: 0.3686 - accuracy: 0.8306 - val_loss: 0.3777 - val_accuracy: 0.8175\n",
            "Epoch 39/100\n",
            "46/46 [==============================] - 0s 2ms/step - loss: 0.3671 - accuracy: 0.8253 - val_loss: 0.3733 - val_accuracy: 0.8257\n",
            "Epoch 40/100\n",
            "46/46 [==============================] - 0s 2ms/step - loss: 0.3547 - accuracy: 0.8362 - val_loss: 0.3993 - val_accuracy: 0.7949\n",
            "Epoch 41/100\n",
            "46/46 [==============================] - 0s 2ms/step - loss: 0.3489 - accuracy: 0.8360 - val_loss: 0.3578 - val_accuracy: 0.8360\n",
            "Epoch 42/100\n",
            "46/46 [==============================] - 0s 2ms/step - loss: 0.3443 - accuracy: 0.8384 - val_loss: 0.3855 - val_accuracy: 0.8148\n",
            "Epoch 43/100\n",
            "46/46 [==============================] - 0s 2ms/step - loss: 0.3459 - accuracy: 0.8412 - val_loss: 0.3542 - val_accuracy: 0.8319\n",
            "Epoch 44/100\n",
            "46/46 [==============================] - 0s 2ms/step - loss: 0.3209 - accuracy: 0.8525 - val_loss: 0.3699 - val_accuracy: 0.8195\n",
            "Epoch 45/100\n",
            "46/46 [==============================] - 0s 2ms/step - loss: 0.3207 - accuracy: 0.8598 - val_loss: 0.3510 - val_accuracy: 0.8332\n",
            "Epoch 46/100\n",
            "46/46 [==============================] - 0s 2ms/step - loss: 0.3199 - accuracy: 0.8595 - val_loss: 0.3595 - val_accuracy: 0.8257\n",
            "Epoch 47/100\n",
            "46/46 [==============================] - 0s 2ms/step - loss: 0.2965 - accuracy: 0.8666 - val_loss: 0.3240 - val_accuracy: 0.8585\n",
            "Epoch 48/100\n",
            "46/46 [==============================] - 0s 2ms/step - loss: 0.2827 - accuracy: 0.8803 - val_loss: 0.3011 - val_accuracy: 0.8688\n",
            "Epoch 49/100\n",
            "46/46 [==============================] - 0s 2ms/step - loss: 0.2862 - accuracy: 0.8750 - val_loss: 0.3437 - val_accuracy: 0.8401\n",
            "Epoch 50/100\n",
            "46/46 [==============================] - 0s 2ms/step - loss: 0.2862 - accuracy: 0.8778 - val_loss: 0.3012 - val_accuracy: 0.8667\n",
            "Epoch 51/100\n",
            "46/46 [==============================] - 0s 2ms/step - loss: 0.2683 - accuracy: 0.8877 - val_loss: 0.3152 - val_accuracy: 0.8606\n",
            "Epoch 52/100\n",
            "46/46 [==============================] - 0s 2ms/step - loss: 0.2616 - accuracy: 0.8892 - val_loss: 0.2977 - val_accuracy: 0.8770\n",
            "Epoch 53/100\n",
            "46/46 [==============================] - 0s 2ms/step - loss: 0.2501 - accuracy: 0.8984 - val_loss: 0.2890 - val_accuracy: 0.8763\n",
            "Epoch 54/100\n",
            "46/46 [==============================] - 0s 2ms/step - loss: 0.2411 - accuracy: 0.9010 - val_loss: 0.2868 - val_accuracy: 0.8824\n",
            "Epoch 55/100\n",
            "46/46 [==============================] - 0s 2ms/step - loss: 0.2402 - accuracy: 0.9031 - val_loss: 0.2870 - val_accuracy: 0.8797\n",
            "Epoch 56/100\n",
            "46/46 [==============================] - 0s 2ms/step - loss: 0.2443 - accuracy: 0.8979 - val_loss: 0.3037 - val_accuracy: 0.8681\n",
            "Epoch 57/100\n",
            "46/46 [==============================] - 0s 2ms/step - loss: 0.2463 - accuracy: 0.8981 - val_loss: 0.3030 - val_accuracy: 0.8701\n",
            "Epoch 58/100\n",
            "46/46 [==============================] - 0s 2ms/step - loss: 0.2335 - accuracy: 0.9087 - val_loss: 0.2647 - val_accuracy: 0.9002\n",
            "Epoch 59/100\n",
            "46/46 [==============================] - 0s 2ms/step - loss: 0.2103 - accuracy: 0.9191 - val_loss: 0.2483 - val_accuracy: 0.9064\n",
            "Epoch 60/100\n",
            "46/46 [==============================] - 0s 2ms/step - loss: 0.2087 - accuracy: 0.9188 - val_loss: 0.2534 - val_accuracy: 0.9009\n",
            "Epoch 61/100\n",
            "46/46 [==============================] - 0s 2ms/step - loss: 0.2040 - accuracy: 0.9188 - val_loss: 0.2580 - val_accuracy: 0.9043\n",
            "Epoch 62/100\n",
            "46/46 [==============================] - 0s 2ms/step - loss: 0.2065 - accuracy: 0.9191 - val_loss: 0.2523 - val_accuracy: 0.9050\n",
            "Epoch 63/100\n",
            "46/46 [==============================] - 0s 2ms/step - loss: 0.2039 - accuracy: 0.9184 - val_loss: 0.2350 - val_accuracy: 0.9166\n",
            "Epoch 64/100\n",
            "46/46 [==============================] - 0s 2ms/step - loss: 0.1846 - accuracy: 0.9323 - val_loss: 0.2429 - val_accuracy: 0.9023\n",
            "Epoch 65/100\n",
            "46/46 [==============================] - 0s 2ms/step - loss: 0.1847 - accuracy: 0.9316 - val_loss: 0.2466 - val_accuracy: 0.8995\n",
            "Epoch 66/100\n",
            "46/46 [==============================] - 0s 2ms/step - loss: 0.1855 - accuracy: 0.9268 - val_loss: 0.2596 - val_accuracy: 0.9057\n",
            "Epoch 67/100\n",
            "46/46 [==============================] - 0s 2ms/step - loss: 0.1910 - accuracy: 0.9263 - val_loss: 0.2541 - val_accuracy: 0.9118\n",
            "Epoch 68/100\n",
            "46/46 [==============================] - 0s 2ms/step - loss: 0.1770 - accuracy: 0.9316 - val_loss: 0.2238 - val_accuracy: 0.9296\n",
            "Epoch 69/100\n",
            "46/46 [==============================] - 0s 2ms/step - loss: 0.1622 - accuracy: 0.9427 - val_loss: 0.2075 - val_accuracy: 0.9351\n",
            "Epoch 70/100\n",
            "46/46 [==============================] - 0s 2ms/step - loss: 0.1599 - accuracy: 0.9400 - val_loss: 0.2239 - val_accuracy: 0.9241\n",
            "Epoch 71/100\n",
            "46/46 [==============================] - 0s 2ms/step - loss: 0.1542 - accuracy: 0.9465 - val_loss: 0.2141 - val_accuracy: 0.9248\n",
            "Epoch 72/100\n",
            "46/46 [==============================] - 0s 2ms/step - loss: 0.1905 - accuracy: 0.9226 - val_loss: 0.3030 - val_accuracy: 0.8667\n",
            "Epoch 73/100\n",
            "46/46 [==============================] - 0s 3ms/step - loss: 0.1826 - accuracy: 0.9320 - val_loss: 0.2415 - val_accuracy: 0.9118\n",
            "Epoch 74/100\n",
            "46/46 [==============================] - 0s 2ms/step - loss: 0.1714 - accuracy: 0.9332 - val_loss: 0.2525 - val_accuracy: 0.9084\n",
            "Epoch 75/100\n",
            "46/46 [==============================] - 0s 2ms/step - loss: 0.1474 - accuracy: 0.9509 - val_loss: 0.1995 - val_accuracy: 0.9378\n",
            "Epoch 76/100\n",
            "46/46 [==============================] - 0s 2ms/step - loss: 0.1285 - accuracy: 0.9579 - val_loss: 0.2072 - val_accuracy: 0.9269\n",
            "Epoch 77/100\n",
            "46/46 [==============================] - 0s 2ms/step - loss: 0.1317 - accuracy: 0.9566 - val_loss: 0.2098 - val_accuracy: 0.9289\n",
            "Epoch 78/100\n",
            "46/46 [==============================] - 0s 2ms/step - loss: 0.1303 - accuracy: 0.9530 - val_loss: 0.1943 - val_accuracy: 0.9426\n",
            "Epoch 79/100\n",
            "46/46 [==============================] - 0s 2ms/step - loss: 0.1310 - accuracy: 0.9549 - val_loss: 0.1941 - val_accuracy: 0.9426\n",
            "Epoch 80/100\n",
            "46/46 [==============================] - 0s 2ms/step - loss: 0.1430 - accuracy: 0.9472 - val_loss: 0.1942 - val_accuracy: 0.9392\n",
            "Epoch 81/100\n",
            "46/46 [==============================] - 0s 2ms/step - loss: 0.1164 - accuracy: 0.9615 - val_loss: 0.1700 - val_accuracy: 0.9501\n",
            "Epoch 82/100\n",
            "46/46 [==============================] - 0s 2ms/step - loss: 0.1281 - accuracy: 0.9564 - val_loss: 0.2355 - val_accuracy: 0.9269\n",
            "Epoch 83/100\n",
            "46/46 [==============================] - 0s 2ms/step - loss: 0.2362 - accuracy: 0.9196 - val_loss: 0.3038 - val_accuracy: 0.8927\n",
            "Epoch 84/100\n",
            "46/46 [==============================] - 0s 2ms/step - loss: 0.1990 - accuracy: 0.9183 - val_loss: 0.2508 - val_accuracy: 0.9064\n",
            "Epoch 85/100\n",
            "46/46 [==============================] - 0s 2ms/step - loss: 0.1717 - accuracy: 0.9355 - val_loss: 0.2148 - val_accuracy: 0.9323\n",
            "Epoch 86/100\n",
            "46/46 [==============================] - 0s 2ms/step - loss: 0.1238 - accuracy: 0.9545 - val_loss: 0.1778 - val_accuracy: 0.9528\n",
            "Epoch 87/100\n",
            "46/46 [==============================] - 0s 3ms/step - loss: 0.1018 - accuracy: 0.9692 - val_loss: 0.1642 - val_accuracy: 0.9556\n",
            "Epoch 88/100\n",
            "46/46 [==============================] - 0s 2ms/step - loss: 0.0961 - accuracy: 0.9713 - val_loss: 0.1674 - val_accuracy: 0.9576\n",
            "Epoch 89/100\n",
            "46/46 [==============================] - 0s 2ms/step - loss: 0.0973 - accuracy: 0.9711 - val_loss: 0.1680 - val_accuracy: 0.9522\n",
            "Epoch 90/100\n",
            "46/46 [==============================] - 0s 2ms/step - loss: 0.0887 - accuracy: 0.9735 - val_loss: 0.1696 - val_accuracy: 0.9556\n",
            "Epoch 91/100\n",
            "46/46 [==============================] - 0s 2ms/step - loss: 0.0892 - accuracy: 0.9733 - val_loss: 0.1712 - val_accuracy: 0.9556\n",
            "Epoch 92/100\n",
            "46/46 [==============================] - 0s 2ms/step - loss: 0.0871 - accuracy: 0.9725 - val_loss: 0.1637 - val_accuracy: 0.9576\n",
            "Epoch 93/100\n",
            "46/46 [==============================] - 0s 2ms/step - loss: 0.0848 - accuracy: 0.9761 - val_loss: 0.1694 - val_accuracy: 0.9563\n",
            "Epoch 94/100\n",
            "46/46 [==============================] - 0s 2ms/step - loss: 0.0944 - accuracy: 0.9684 - val_loss: 0.1735 - val_accuracy: 0.9556\n",
            "Epoch 95/100\n",
            "46/46 [==============================] - 0s 2ms/step - loss: 0.0869 - accuracy: 0.9737 - val_loss: 0.1610 - val_accuracy: 0.9617\n",
            "Epoch 96/100\n",
            "46/46 [==============================] - 0s 2ms/step - loss: 0.0871 - accuracy: 0.9716 - val_loss: 0.2055 - val_accuracy: 0.9440\n",
            "Epoch 97/100\n",
            "46/46 [==============================] - 0s 2ms/step - loss: 0.0808 - accuracy: 0.9761 - val_loss: 0.1950 - val_accuracy: 0.9371\n",
            "Epoch 98/100\n",
            "46/46 [==============================] - 0s 2ms/step - loss: 0.0995 - accuracy: 0.9641 - val_loss: 0.1851 - val_accuracy: 0.9508\n",
            "Epoch 99/100\n",
            "46/46 [==============================] - 0s 2ms/step - loss: 0.0994 - accuracy: 0.9624 - val_loss: 0.2021 - val_accuracy: 0.9426\n",
            "Epoch 100/100\n",
            "46/46 [==============================] - 0s 2ms/step - loss: 0.2308 - accuracy: 0.9157 - val_loss: 0.2582 - val_accuracy: 0.9132\n"
          ]
        }
      ]
    },
    {
      "cell_type": "code",
      "source": [
        "sns.set()\n",
        "acc = hist.history['accuracy']\n",
        "val = hist.history['val_accuracy']\n",
        "epochs = range(1, len(acc) + 1)\n",
        " \n",
        "plt.plot(epochs, acc, '-', label='Training accuracy')\n",
        "plt.plot(epochs, val, ':', label='Validation accuracy')\n",
        "plt.title('Training and Validation Accuracy')\n",
        "plt.xlabel('Epoch')\n",
        "plt.ylabel('Accuracy')\n",
        "plt.legend(loc='best')\n",
        "plt.plot()"
      ],
      "metadata": {
        "colab": {
          "base_uri": "https://localhost:8080/",
          "height": 319
        },
        "id": "vaBP3JrikTVf",
        "outputId": "ba0db83c-f8bc-4622-ca0c-3ef80a4c27e0"
      },
      "execution_count": null,
      "outputs": [
        {
          "output_type": "execute_result",
          "data": {
            "text/plain": [
              "[]"
            ]
          },
          "metadata": {},
          "execution_count": 70
        },
        {
          "output_type": "display_data",
          "data": {
            "text/plain": [
              "<Figure size 432x288 with 1 Axes>"
            ],
            "image/png": "[encoded data removed]"
          },
          "metadata": {}
        }
      ]
    },
    {
      "cell_type": "code",
      "source": [
        "model.save(\"Model1\")"
      ],
      "metadata": {
        "id": "E0FK2ZrPlJPY"
      },
      "execution_count": null,
      "outputs": []
    },
    {
      "cell_type": "code",
      "source": [
        "model.evaluate(X_test, y_test)"
      ],
      "metadata": {
        "colab": {
          "base_uri": "https://localhost:8080/"
        },
        "id": "Lic8LKrulLRq",
        "outputId": "0bb4636b-9627-4db6-9226-138ed79ec878"
      },
      "execution_count": null,
      "outputs": [
        {
          "output_type": "stream",
          "name": "stdout",
          "text": [
            "46/46 [==============================] - 0s 910us/step - loss: 0.5244 - accuracy: 0.8476\n"
          ]
        },
        {
          "output_type": "execute_result",
          "data": {
            "text/plain": [
              "[0.5244479179382324, 0.847573459148407]"
            ]
          },
          "metadata": {},
          "execution_count": 71
        }
      ]
    },
    {
      "cell_type": "code",
      "source": [
        "loss = hist.history['loss']\n",
        "epochs = range(1, len(loss) + 1)\n",
        "plt.plot(epochs, loss, '-', label='Loss')\n",
        "plt.title('Loss graph')\n",
        "plt.xlabel('Epoch')\n",
        "plt.ylabel('Loss')\n",
        "plt.legend(loc='best')\n",
        "plt.plot()"
      ],
      "metadata": {
        "colab": {
          "base_uri": "https://localhost:8080/",
          "height": 319
        },
        "id": "hBN9i9URlUBV",
        "outputId": "bf685652-a930-465b-f882-2bbd9382b6fa"
      },
      "execution_count": null,
      "outputs": [
        {
          "output_type": "execute_result",
          "data": {
            "text/plain": [
              "[]"
            ]
          },
          "metadata": {},
          "execution_count": 73
        },
        {
          "output_type": "display_data",
          "data": {
            "text/plain": [
              "<Figure size 432x288 with 1 Axes>"
            ],
            "image/png": "[encoded data removed]"
          },
          "metadata": {}
        }
      ]
    },
    {
      "cell_type": "code",
      "source": [
        "hist_es = model.fit(X_train, y_train, validation_data=(X_val, y_val), epochs=100, batch_size=128, callbacks=[callback] )"
      ],
      "metadata": {
        "colab": {
          "base_uri": "https://localhost:8080/"
        },
        "id": "rijcFSmZlZBz",
        "outputId": "a1a8da11-3960-46db-d381-60c1bd50efe2"
      },
      "execution_count": null,
      "outputs": [
        {
          "output_type": "stream",
          "name": "stdout",
          "text": [
            "Epoch 1/100\n",
            "46/46 [==============================] - 0s 3ms/step - loss: 0.1459 - accuracy: 0.9438 - val_loss: 0.1932 - val_accuracy: 0.9453\n",
            "Epoch 2/100\n",
            "46/46 [==============================] - 0s 2ms/step - loss: 0.0985 - accuracy: 0.9663 - val_loss: 0.1909 - val_accuracy: 0.9481\n",
            "Epoch 3/100\n",
            "46/46 [==============================] - 0s 2ms/step - loss: 0.0963 - accuracy: 0.9672 - val_loss: 0.2113 - val_accuracy: 0.9357\n",
            "Epoch 4/100\n",
            "46/46 [==============================] - 0s 2ms/step - loss: 0.1153 - accuracy: 0.9583 - val_loss: 0.1913 - val_accuracy: 0.9542\n",
            "Epoch 5/100\n",
            "46/46 [==============================] - 0s 2ms/step - loss: 0.0964 - accuracy: 0.9646 - val_loss: 0.1607 - val_accuracy: 0.9624\n",
            "Epoch 6/100\n",
            "46/46 [==============================] - 0s 2ms/step - loss: 0.0757 - accuracy: 0.9786 - val_loss: 0.1689 - val_accuracy: 0.9638\n",
            "Epoch 7/100\n",
            "46/46 [==============================] - 0s 2ms/step - loss: 0.0631 - accuracy: 0.9820 - val_loss: 0.1501 - val_accuracy: 0.9686\n",
            "Epoch 8/100\n",
            "46/46 [==============================] - 0s 2ms/step - loss: 0.0558 - accuracy: 0.9865 - val_loss: 0.1516 - val_accuracy: 0.9679\n",
            "Epoch 9/100\n",
            "46/46 [==============================] - 0s 2ms/step - loss: 0.0771 - accuracy: 0.9791 - val_loss: 0.2446 - val_accuracy: 0.9282\n",
            "Epoch 10/100\n",
            "46/46 [==============================] - 0s 2ms/step - loss: 0.0818 - accuracy: 0.9726 - val_loss: 0.1746 - val_accuracy: 0.9597\n",
            "Epoch 11/100\n",
            "46/46 [==============================] - 0s 2ms/step - loss: 0.0633 - accuracy: 0.9810 - val_loss: 0.1514 - val_accuracy: 0.9651\n",
            "Epoch 12/100\n",
            "46/46 [==============================] - 0s 2ms/step - loss: 0.0668 - accuracy: 0.9759 - val_loss: 0.1657 - val_accuracy: 0.9549\n",
            "Epoch 13/100\n",
            "46/46 [==============================] - 0s 2ms/step - loss: 0.0649 - accuracy: 0.9798 - val_loss: 0.1432 - val_accuracy: 0.9706\n",
            "Epoch 14/100\n",
            "46/46 [==============================] - 0s 2ms/step - loss: 0.0588 - accuracy: 0.9829 - val_loss: 0.1621 - val_accuracy: 0.9679\n",
            "Epoch 15/100\n",
            "46/46 [==============================] - 0s 2ms/step - loss: 0.0629 - accuracy: 0.9812 - val_loss: 0.1517 - val_accuracy: 0.9672\n",
            "Epoch 16/100\n",
            "46/46 [==============================] - 0s 2ms/step - loss: 0.0625 - accuracy: 0.9812 - val_loss: 0.1734 - val_accuracy: 0.9583\n",
            "Epoch 17/100\n",
            "46/46 [==============================] - 0s 2ms/step - loss: 0.0839 - accuracy: 0.9713 - val_loss: 0.2191 - val_accuracy: 0.9446\n",
            "Epoch 18/100\n",
            "46/46 [==============================] - 0s 2ms/step - loss: 0.1084 - accuracy: 0.9607 - val_loss: 0.2469 - val_accuracy: 0.9262\n",
            "Epoch 19/100\n",
            "46/46 [==============================] - 0s 2ms/step - loss: 0.1149 - accuracy: 0.9571 - val_loss: 0.1915 - val_accuracy: 0.9460\n",
            "Epoch 20/100\n",
            "46/46 [==============================] - 0s 2ms/step - loss: 0.0891 - accuracy: 0.9713 - val_loss: 0.1607 - val_accuracy: 0.9624\n",
            "Epoch 21/100\n",
            "46/46 [==============================] - 0s 2ms/step - loss: 0.0599 - accuracy: 0.9820 - val_loss: 0.1513 - val_accuracy: 0.9665\n",
            "Epoch 22/100\n",
            "46/46 [==============================] - 0s 2ms/step - loss: 0.0536 - accuracy: 0.9846 - val_loss: 0.1623 - val_accuracy: 0.9692\n",
            "Epoch 23/100\n",
            "46/46 [==============================] - 0s 2ms/step - loss: 0.0471 - accuracy: 0.9885 - val_loss: 0.1532 - val_accuracy: 0.9679\n",
            "Epoch 24/100\n",
            "46/46 [==============================] - 0s 2ms/step - loss: 0.0456 - accuracy: 0.9860 - val_loss: 0.1614 - val_accuracy: 0.9699\n",
            "Epoch 25/100\n",
            "46/46 [==============================] - 0s 2ms/step - loss: 0.0594 - accuracy: 0.9791 - val_loss: 0.1740 - val_accuracy: 0.9651\n",
            "Epoch 26/100\n",
            "46/46 [==============================] - 0s 2ms/step - loss: 0.0560 - accuracy: 0.9826 - val_loss: 0.1600 - val_accuracy: 0.9720\n",
            "Epoch 27/100\n",
            "46/46 [==============================] - 0s 2ms/step - loss: 0.0486 - accuracy: 0.9870 - val_loss: 0.1717 - val_accuracy: 0.9699\n",
            "Epoch 28/100\n",
            "46/46 [==============================] - 0s 2ms/step - loss: 0.0624 - accuracy: 0.9800 - val_loss: 0.1649 - val_accuracy: 0.9727\n",
            "Epoch 29/100\n",
            "46/46 [==============================] - 0s 2ms/step - loss: 0.0552 - accuracy: 0.9831 - val_loss: 0.1736 - val_accuracy: 0.9651\n",
            "Epoch 30/100\n",
            "46/46 [==============================] - 0s 2ms/step - loss: 0.0673 - accuracy: 0.9766 - val_loss: 0.1947 - val_accuracy: 0.9576\n",
            "Epoch 31/100\n",
            "46/46 [==============================] - 0s 2ms/step - loss: 0.2324 - accuracy: 0.9173 - val_loss: 0.4175 - val_accuracy: 0.8811\n",
            "Epoch 32/100\n",
            "46/46 [==============================] - 0s 2ms/step - loss: 0.1597 - accuracy: 0.9405 - val_loss: 0.1901 - val_accuracy: 0.9583\n",
            "Epoch 33/100\n",
            "46/46 [==============================] - 0s 2ms/step - loss: 0.0791 - accuracy: 0.9704 - val_loss: 0.1697 - val_accuracy: 0.9610\n",
            "Epoch 33: early stopping\n"
          ]
        }
      ]
    },
    {
      "cell_type": "code",
      "source": [
        "sns.set()\n",
        "acc = hist_es.history['accuracy']\n",
        "val = hist_es.history['val_accuracy']\n",
        "epochs = range(1, len(acc) + 1)\n",
        "plt.plot(epochs, acc, '-', label='Training accuracy')\n",
        "plt.plot(epochs, val, ':', label='Validation accuracy')\n",
        "plt.title('Training and Validation Accuracy')\n",
        "plt.xlabel('Epoch')\n",
        "plt.ylabel('Accuracy')\n",
        "plt.legend(loc='best')\n",
        "plt.plot()"
      ],
      "metadata": {
        "colab": {
          "base_uri": "https://localhost:8080/",
          "height": 319
        },
        "id": "P0yqwQx6linR",
        "outputId": "e08b1726-2b24-4abf-b982-3d4a012e3242"
      },
      "execution_count": null,
      "outputs": [
        {
          "output_type": "execute_result",
          "data": {
            "text/plain": [
              "[]"
            ]
          },
          "metadata": {},
          "execution_count": 75
        },
        {
          "output_type": "display_data",
          "data": {
            "text/plain": [
              "<Figure size 432x288 with 1 Axes>"
            ],
            "image/png": "[encoded data removed]"
          },
          "metadata": {}
        }
      ]
    },
    {
      "cell_type": "code",
      "source": [
        "loss = hist_es.history['loss']\n",
        "epochs = range(1, len(loss) + 1)\n",
        "plt.plot(epochs, loss, '-', label='Loss')\n",
        "plt.title('Loss graph')\n",
        "plt.xlabel('Epoch')\n",
        "plt.ylabel('Loss')\n",
        "plt.legend(loc='best')\n",
        "plt.plot()"
      ],
      "metadata": {
        "colab": {
          "base_uri": "https://localhost:8080/",
          "height": 319
        },
        "id": "FXPfg21DluQ1",
        "outputId": "132addb1-eaf6-4e3d-996b-5ffdec9a7ddc"
      },
      "execution_count": null,
      "outputs": [
        {
          "output_type": "execute_result",
          "data": {
            "text/plain": [
              "[]"
            ]
          },
          "metadata": {},
          "execution_count": 77
        },
        {
          "output_type": "display_data",
          "data": {
            "text/plain": [
              "<Figure size 432x288 with 1 Axes>"
            ],
            "image/png": "[encoded data removed]"
          },
          "metadata": {}
        }
      ]
    },
    {
      "cell_type": "code",
      "source": [
        "model.evaluate(X_test, y_test)"
      ],
      "metadata": {
        "colab": {
          "base_uri": "https://localhost:8080/"
        },
        "id": "t1uKeqA8lrVB",
        "outputId": "5d0dda85-2107-4ffb-d9de-e0ef939a684c"
      },
      "execution_count": null,
      "outputs": [
        {
          "output_type": "stream",
          "name": "stdout",
          "text": [
            "46/46 [==============================] - 0s 945us/step - loss: 0.4648 - accuracy: 0.8988\n"
          ]
        },
        {
          "output_type": "execute_result",
          "data": {
            "text/plain": [
              "[0.46476250886917114, 0.8988379836082458]"
            ]
          },
          "metadata": {},
          "execution_count": 76
        }
      ]
    },
    {
      "cell_type": "markdown",
      "source": [
        "# **Reducing the number of layers**"
      ],
      "metadata": {
        "id": "ojOPQLI0qbC2"
      }
    },
    {
      "cell_type": "code",
      "source": [
        "model1 = Sequential()\n",
        "model1.add(Dense(32, activation='relu', input_dim=72))\n",
        "model1.add(Dense(16, activation='relu'))\n",
        "model1.add(Dense(1, activation='sigmoid'))\n",
        "model1.compile(loss='binary_crossentropy', optimizer='adam', metrics=['accuracy'])\n",
        "model1.summary()"
      ],
      "metadata": {
        "colab": {
          "base_uri": "https://localhost:8080/"
        },
        "id": "mGx4V5OQn7KI",
        "outputId": "45fc8e43-2d36-400f-d3ac-bacecd41e463"
      },
      "execution_count": null,
      "outputs": [
        {
          "output_type": "stream",
          "name": "stdout",
          "text": [
            "Model: \"sequential_4\"\n",
            "_________________________________________________________________\n",
            " Layer (type)                Output Shape              Param #   \n",
            "=================================================================\n",
            " dense_18 (Dense)            (None, 32)                2336      \n",
            "                                                                 \n",
            " dense_19 (Dense)            (None, 16)                528       \n",
            "                                                                 \n",
            " dense_20 (Dense)            (None, 1)                 17        \n",
            "                                                                 \n",
            "=================================================================\n",
            "Total params: 2,881\n",
            "Trainable params: 2,881\n",
            "Non-trainable params: 0\n",
            "_________________________________________________________________\n"
          ]
        }
      ]
    },
    {
      "cell_type": "code",
      "source": [
        "hist1 = model1.fit(X_train, y_train, validation_data=(X_val, y_val), epochs=150, batch_size=128, callbacks=[callback] )"
      ],
      "metadata": {
        "colab": {
          "base_uri": "https://localhost:8080/"
        },
        "id": "e1Lv_SwpoKty",
        "outputId": "42c1ee43-05e9-4e37-8028-5335bcc52eea"
      },
      "execution_count": null,
      "outputs": [
        {
          "output_type": "stream",
          "name": "stdout",
          "text": [
            "Epoch 1/150\n",
            "46/46 [==============================] - 1s 8ms/step - loss: 0.8808 - accuracy: 0.5266 - val_loss: 0.7221 - val_accuracy: 0.5420\n",
            "Epoch 2/150\n",
            "46/46 [==============================] - 0s 3ms/step - loss: 0.7100 - accuracy: 0.5401 - val_loss: 0.6914 - val_accuracy: 0.5653\n",
            "Epoch 3/150\n",
            "46/46 [==============================] - 0s 3ms/step - loss: 0.6915 - accuracy: 0.5538 - val_loss: 0.6753 - val_accuracy: 0.5871\n",
            "Epoch 4/150\n",
            "46/46 [==============================] - 0s 3ms/step - loss: 0.6803 - accuracy: 0.5695 - val_loss: 0.6664 - val_accuracy: 0.5803\n",
            "Epoch 5/150\n",
            "46/46 [==============================] - 0s 4ms/step - loss: 0.6753 - accuracy: 0.5709 - val_loss: 0.6635 - val_accuracy: 0.5947\n",
            "Epoch 6/150\n",
            "46/46 [==============================] - 0s 4ms/step - loss: 0.6699 - accuracy: 0.5845 - val_loss: 0.6636 - val_accuracy: 0.5666\n",
            "Epoch 7/150\n",
            "46/46 [==============================] - 0s 3ms/step - loss: 0.6693 - accuracy: 0.5813 - val_loss: 0.6578 - val_accuracy: 0.5981\n",
            "Epoch 8/150\n",
            "46/46 [==============================] - 0s 4ms/step - loss: 0.6658 - accuracy: 0.5914 - val_loss: 0.6557 - val_accuracy: 0.5947\n",
            "Epoch 9/150\n",
            "46/46 [==============================] - 0s 5ms/step - loss: 0.6625 - accuracy: 0.5979 - val_loss: 0.6529 - val_accuracy: 0.5913\n",
            "Epoch 10/150\n",
            "46/46 [==============================] - 0s 4ms/step - loss: 0.6603 - accuracy: 0.5981 - val_loss: 0.6501 - val_accuracy: 0.6118\n",
            "Epoch 11/150\n",
            "46/46 [==============================] - 0s 3ms/step - loss: 0.6564 - accuracy: 0.6006 - val_loss: 0.6479 - val_accuracy: 0.6063\n",
            "Epoch 12/150\n",
            "46/46 [==============================] - 0s 4ms/step - loss: 0.6541 - accuracy: 0.6064 - val_loss: 0.6453 - val_accuracy: 0.6008\n",
            "Epoch 13/150\n",
            "46/46 [==============================] - 0s 5ms/step - loss: 0.6505 - accuracy: 0.6136 - val_loss: 0.6445 - val_accuracy: 0.6029\n",
            "Epoch 14/150\n",
            "46/46 [==============================] - 0s 6ms/step - loss: 0.6494 - accuracy: 0.6088 - val_loss: 0.6375 - val_accuracy: 0.6131\n",
            "Epoch 15/150\n",
            "46/46 [==============================] - 0s 7ms/step - loss: 0.6471 - accuracy: 0.6189 - val_loss: 0.6343 - val_accuracy: 0.6275\n",
            "Epoch 16/150\n",
            "46/46 [==============================] - 0s 4ms/step - loss: 0.6442 - accuracy: 0.6179 - val_loss: 0.6332 - val_accuracy: 0.6343\n",
            "Epoch 17/150\n",
            "46/46 [==============================] - 0s 4ms/step - loss: 0.6410 - accuracy: 0.6232 - val_loss: 0.6305 - val_accuracy: 0.6295\n",
            "Epoch 18/150\n",
            "46/46 [==============================] - 0s 3ms/step - loss: 0.6383 - accuracy: 0.6237 - val_loss: 0.6269 - val_accuracy: 0.6295\n",
            "Epoch 19/150\n",
            "46/46 [==============================] - 0s 3ms/step - loss: 0.6361 - accuracy: 0.6249 - val_loss: 0.6243 - val_accuracy: 0.6364\n",
            "Epoch 20/150\n",
            "46/46 [==============================] - 0s 2ms/step - loss: 0.6359 - accuracy: 0.6203 - val_loss: 0.6217 - val_accuracy: 0.6282\n",
            "Epoch 21/150\n",
            "46/46 [==============================] - 0s 2ms/step - loss: 0.6317 - accuracy: 0.6336 - val_loss: 0.6200 - val_accuracy: 0.6439\n",
            "Epoch 22/150\n",
            "46/46 [==============================] - 0s 2ms/step - loss: 0.6294 - accuracy: 0.6259 - val_loss: 0.6215 - val_accuracy: 0.6179\n",
            "Epoch 23/150\n",
            "46/46 [==============================] - 0s 2ms/step - loss: 0.6242 - accuracy: 0.6370 - val_loss: 0.6141 - val_accuracy: 0.6459\n",
            "Epoch 24/150\n",
            "46/46 [==============================] - 0s 2ms/step - loss: 0.6215 - accuracy: 0.6418 - val_loss: 0.6148 - val_accuracy: 0.6316\n",
            "Epoch 25/150\n",
            "46/46 [==============================] - 0s 2ms/step - loss: 0.6204 - accuracy: 0.6463 - val_loss: 0.6101 - val_accuracy: 0.6494\n",
            "Epoch 26/150\n",
            "46/46 [==============================] - 0s 2ms/step - loss: 0.6190 - accuracy: 0.6423 - val_loss: 0.6119 - val_accuracy: 0.6487\n",
            "Epoch 27/150\n",
            "46/46 [==============================] - 0s 2ms/step - loss: 0.6170 - accuracy: 0.6458 - val_loss: 0.6086 - val_accuracy: 0.6514\n",
            "Epoch 28/150\n",
            "46/46 [==============================] - 0s 2ms/step - loss: 0.6124 - accuracy: 0.6497 - val_loss: 0.6070 - val_accuracy: 0.6398\n",
            "Epoch 29/150\n",
            "46/46 [==============================] - 0s 2ms/step - loss: 0.6107 - accuracy: 0.6526 - val_loss: 0.6036 - val_accuracy: 0.6514\n",
            "Epoch 30/150\n",
            "46/46 [==============================] - 0s 2ms/step - loss: 0.6087 - accuracy: 0.6557 - val_loss: 0.6025 - val_accuracy: 0.6671\n",
            "Epoch 31/150\n",
            "46/46 [==============================] - 0s 2ms/step - loss: 0.6056 - accuracy: 0.6564 - val_loss: 0.5982 - val_accuracy: 0.6685\n",
            "Epoch 32/150\n",
            "46/46 [==============================] - 0s 2ms/step - loss: 0.6084 - accuracy: 0.6493 - val_loss: 0.6100 - val_accuracy: 0.6494\n",
            "Epoch 33/150\n",
            "46/46 [==============================] - 0s 2ms/step - loss: 0.6032 - accuracy: 0.6536 - val_loss: 0.5952 - val_accuracy: 0.6617\n",
            "Epoch 34/150\n",
            "46/46 [==============================] - 0s 2ms/step - loss: 0.5999 - accuracy: 0.6634 - val_loss: 0.5915 - val_accuracy: 0.6658\n",
            "Epoch 35/150\n",
            "46/46 [==============================] - 0s 2ms/step - loss: 0.5989 - accuracy: 0.6611 - val_loss: 0.5902 - val_accuracy: 0.6705\n",
            "Epoch 36/150\n",
            "46/46 [==============================] - 0s 2ms/step - loss: 0.5956 - accuracy: 0.6683 - val_loss: 0.5968 - val_accuracy: 0.6562\n",
            "Epoch 37/150\n",
            "46/46 [==============================] - 0s 2ms/step - loss: 0.5941 - accuracy: 0.6654 - val_loss: 0.5859 - val_accuracy: 0.6719\n",
            "Epoch 38/150\n",
            "46/46 [==============================] - 0s 2ms/step - loss: 0.5931 - accuracy: 0.6661 - val_loss: 0.5994 - val_accuracy: 0.6541\n",
            "Epoch 39/150\n",
            "46/46 [==============================] - 0s 2ms/step - loss: 0.5947 - accuracy: 0.6598 - val_loss: 0.5806 - val_accuracy: 0.6822\n",
            "Epoch 40/150\n",
            "46/46 [==============================] - 0s 2ms/step - loss: 0.5882 - accuracy: 0.6685 - val_loss: 0.5797 - val_accuracy: 0.6822\n",
            "Epoch 41/150\n",
            "46/46 [==============================] - 0s 2ms/step - loss: 0.5878 - accuracy: 0.6676 - val_loss: 0.5849 - val_accuracy: 0.6664\n",
            "Epoch 42/150\n",
            "46/46 [==============================] - 0s 2ms/step - loss: 0.5839 - accuracy: 0.6734 - val_loss: 0.5802 - val_accuracy: 0.6644\n",
            "Epoch 43/150\n",
            "46/46 [==============================] - 0s 2ms/step - loss: 0.5822 - accuracy: 0.6769 - val_loss: 0.5793 - val_accuracy: 0.6760\n",
            "Epoch 44/150\n",
            "46/46 [==============================] - 0s 2ms/step - loss: 0.5817 - accuracy: 0.6781 - val_loss: 0.5744 - val_accuracy: 0.6849\n",
            "Epoch 45/150\n",
            "46/46 [==============================] - 0s 2ms/step - loss: 0.5779 - accuracy: 0.6784 - val_loss: 0.5780 - val_accuracy: 0.6678\n",
            "Epoch 46/150\n",
            "46/46 [==============================] - 0s 2ms/step - loss: 0.5781 - accuracy: 0.6767 - val_loss: 0.5710 - val_accuracy: 0.6781\n",
            "Epoch 47/150\n",
            "46/46 [==============================] - 0s 2ms/step - loss: 0.5760 - accuracy: 0.6719 - val_loss: 0.5732 - val_accuracy: 0.6705\n",
            "Epoch 48/150\n",
            "46/46 [==============================] - 0s 2ms/step - loss: 0.5765 - accuracy: 0.6796 - val_loss: 0.5711 - val_accuracy: 0.6945\n",
            "Epoch 49/150\n",
            "46/46 [==============================] - 0s 2ms/step - loss: 0.5743 - accuracy: 0.6789 - val_loss: 0.5714 - val_accuracy: 0.6753\n",
            "Epoch 50/150\n",
            "46/46 [==============================] - 0s 2ms/step - loss: 0.5706 - accuracy: 0.6905 - val_loss: 0.5657 - val_accuracy: 0.6869\n",
            "Epoch 51/150\n",
            "46/46 [==============================] - 0s 2ms/step - loss: 0.5696 - accuracy: 0.6856 - val_loss: 0.5610 - val_accuracy: 0.6835\n",
            "Epoch 52/150\n",
            "46/46 [==============================] - 0s 2ms/step - loss: 0.5674 - accuracy: 0.6873 - val_loss: 0.5647 - val_accuracy: 0.6951\n",
            "Epoch 53/150\n",
            "46/46 [==============================] - 0s 2ms/step - loss: 0.5675 - accuracy: 0.6882 - val_loss: 0.5709 - val_accuracy: 0.6746\n",
            "Epoch 54/150\n",
            "46/46 [==============================] - 0s 2ms/step - loss: 0.5695 - accuracy: 0.6854 - val_loss: 0.5665 - val_accuracy: 0.6801\n",
            "Epoch 55/150\n",
            "46/46 [==============================] - 0s 2ms/step - loss: 0.5634 - accuracy: 0.6873 - val_loss: 0.5609 - val_accuracy: 0.6924\n",
            "Epoch 56/150\n",
            "46/46 [==============================] - 0s 2ms/step - loss: 0.5636 - accuracy: 0.6941 - val_loss: 0.5629 - val_accuracy: 0.6979\n",
            "Epoch 57/150\n",
            "46/46 [==============================] - 0s 2ms/step - loss: 0.5610 - accuracy: 0.6962 - val_loss: 0.5587 - val_accuracy: 0.6951\n",
            "Epoch 58/150\n",
            "46/46 [==============================] - 0s 2ms/step - loss: 0.5630 - accuracy: 0.6921 - val_loss: 0.5642 - val_accuracy: 0.6835\n",
            "Epoch 59/150\n",
            "46/46 [==============================] - 0s 2ms/step - loss: 0.5603 - accuracy: 0.6880 - val_loss: 0.5583 - val_accuracy: 0.6815\n",
            "Epoch 60/150\n",
            "46/46 [==============================] - 0s 2ms/step - loss: 0.5627 - accuracy: 0.6899 - val_loss: 0.5597 - val_accuracy: 0.6876\n",
            "Epoch 61/150\n",
            "46/46 [==============================] - 0s 2ms/step - loss: 0.5548 - accuracy: 0.6941 - val_loss: 0.5497 - val_accuracy: 0.6924\n",
            "Epoch 62/150\n",
            "46/46 [==============================] - 0s 2ms/step - loss: 0.5539 - accuracy: 0.6996 - val_loss: 0.5461 - val_accuracy: 0.7013\n",
            "Epoch 63/150\n",
            "46/46 [==============================] - 0s 2ms/step - loss: 0.5561 - accuracy: 0.6950 - val_loss: 0.5481 - val_accuracy: 0.7054\n",
            "Epoch 64/150\n",
            "46/46 [==============================] - 0s 2ms/step - loss: 0.5499 - accuracy: 0.6977 - val_loss: 0.5463 - val_accuracy: 0.7061\n",
            "Epoch 65/150\n",
            "46/46 [==============================] - 0s 2ms/step - loss: 0.5467 - accuracy: 0.7006 - val_loss: 0.5532 - val_accuracy: 0.6904\n",
            "Epoch 66/150\n",
            "46/46 [==============================] - 0s 2ms/step - loss: 0.5481 - accuracy: 0.7041 - val_loss: 0.5468 - val_accuracy: 0.6999\n",
            "Epoch 67/150\n",
            "46/46 [==============================] - 0s 2ms/step - loss: 0.5467 - accuracy: 0.7034 - val_loss: 0.5465 - val_accuracy: 0.6972\n",
            "Epoch 68/150\n",
            "46/46 [==============================] - 0s 2ms/step - loss: 0.5443 - accuracy: 0.7059 - val_loss: 0.5522 - val_accuracy: 0.6897\n",
            "Epoch 69/150\n",
            "46/46 [==============================] - 0s 2ms/step - loss: 0.5456 - accuracy: 0.7029 - val_loss: 0.5419 - val_accuracy: 0.7047\n",
            "Epoch 70/150\n",
            "46/46 [==============================] - 0s 2ms/step - loss: 0.5429 - accuracy: 0.7059 - val_loss: 0.5397 - val_accuracy: 0.7013\n",
            "Epoch 71/150\n",
            "46/46 [==============================] - 0s 2ms/step - loss: 0.5425 - accuracy: 0.7005 - val_loss: 0.5399 - val_accuracy: 0.7088\n",
            "Epoch 72/150\n",
            "46/46 [==============================] - 0s 2ms/step - loss: 0.5392 - accuracy: 0.7046 - val_loss: 0.5367 - val_accuracy: 0.7075\n",
            "Epoch 73/150\n",
            "46/46 [==============================] - 0s 2ms/step - loss: 0.5424 - accuracy: 0.7034 - val_loss: 0.5336 - val_accuracy: 0.7198\n",
            "Epoch 74/150\n",
            "46/46 [==============================] - 0s 2ms/step - loss: 0.5349 - accuracy: 0.7155 - val_loss: 0.5291 - val_accuracy: 0.7211\n",
            "Epoch 75/150\n",
            "46/46 [==============================] - 0s 2ms/step - loss: 0.5340 - accuracy: 0.7121 - val_loss: 0.5346 - val_accuracy: 0.7081\n",
            "Epoch 76/150\n",
            "46/46 [==============================] - 0s 2ms/step - loss: 0.5371 - accuracy: 0.7076 - val_loss: 0.5276 - val_accuracy: 0.7170\n",
            "Epoch 77/150\n",
            "46/46 [==============================] - 0s 2ms/step - loss: 0.5341 - accuracy: 0.7116 - val_loss: 0.5323 - val_accuracy: 0.7116\n",
            "Epoch 78/150\n",
            "46/46 [==============================] - 0s 2ms/step - loss: 0.5373 - accuracy: 0.7035 - val_loss: 0.5334 - val_accuracy: 0.7129\n",
            "Epoch 79/150\n",
            "46/46 [==============================] - 0s 2ms/step - loss: 0.5352 - accuracy: 0.7114 - val_loss: 0.5344 - val_accuracy: 0.7081\n",
            "Epoch 80/150\n",
            "46/46 [==============================] - 0s 2ms/step - loss: 0.5299 - accuracy: 0.7194 - val_loss: 0.5383 - val_accuracy: 0.6965\n",
            "Epoch 81/150\n",
            "46/46 [==============================] - 0s 2ms/step - loss: 0.5282 - accuracy: 0.7172 - val_loss: 0.5263 - val_accuracy: 0.7232\n",
            "Epoch 82/150\n",
            "46/46 [==============================] - 0s 2ms/step - loss: 0.5308 - accuracy: 0.7158 - val_loss: 0.5274 - val_accuracy: 0.7136\n",
            "Epoch 83/150\n",
            "46/46 [==============================] - 0s 2ms/step - loss: 0.5289 - accuracy: 0.7174 - val_loss: 0.5287 - val_accuracy: 0.7068\n",
            "Epoch 84/150\n",
            "46/46 [==============================] - 0s 2ms/step - loss: 0.5275 - accuracy: 0.7129 - val_loss: 0.5243 - val_accuracy: 0.7157\n",
            "Epoch 85/150\n",
            "46/46 [==============================] - 0s 2ms/step - loss: 0.5225 - accuracy: 0.7167 - val_loss: 0.5167 - val_accuracy: 0.7293\n",
            "Epoch 86/150\n",
            "46/46 [==============================] - 0s 2ms/step - loss: 0.5218 - accuracy: 0.7222 - val_loss: 0.5178 - val_accuracy: 0.7355\n",
            "Epoch 87/150\n",
            "46/46 [==============================] - 0s 2ms/step - loss: 0.5234 - accuracy: 0.7244 - val_loss: 0.5135 - val_accuracy: 0.7280\n",
            "Epoch 88/150\n",
            "46/46 [==============================] - 0s 2ms/step - loss: 0.5217 - accuracy: 0.7217 - val_loss: 0.5224 - val_accuracy: 0.7143\n",
            "Epoch 89/150\n",
            "46/46 [==============================] - 0s 2ms/step - loss: 0.5190 - accuracy: 0.7179 - val_loss: 0.5158 - val_accuracy: 0.7348\n",
            "Epoch 90/150\n",
            "46/46 [==============================] - 0s 2ms/step - loss: 0.5181 - accuracy: 0.7201 - val_loss: 0.5090 - val_accuracy: 0.7416\n",
            "Epoch 91/150\n",
            "46/46 [==============================] - 0s 2ms/step - loss: 0.5177 - accuracy: 0.7249 - val_loss: 0.5093 - val_accuracy: 0.7382\n",
            "Epoch 92/150\n",
            "46/46 [==============================] - 0s 2ms/step - loss: 0.5145 - accuracy: 0.7276 - val_loss: 0.5082 - val_accuracy: 0.7314\n",
            "Epoch 93/150\n",
            "46/46 [==============================] - 0s 2ms/step - loss: 0.5143 - accuracy: 0.7268 - val_loss: 0.5225 - val_accuracy: 0.7102\n",
            "Epoch 94/150\n",
            "46/46 [==============================] - 0s 2ms/step - loss: 0.5193 - accuracy: 0.7259 - val_loss: 0.5096 - val_accuracy: 0.7416\n",
            "Epoch 95/150\n",
            "46/46 [==============================] - 0s 2ms/step - loss: 0.5121 - accuracy: 0.7321 - val_loss: 0.5016 - val_accuracy: 0.7403\n",
            "Epoch 96/150\n",
            "46/46 [==============================] - 0s 2ms/step - loss: 0.5182 - accuracy: 0.7249 - val_loss: 0.5097 - val_accuracy: 0.7239\n",
            "Epoch 97/150\n",
            "46/46 [==============================] - 0s 2ms/step - loss: 0.5125 - accuracy: 0.7297 - val_loss: 0.5092 - val_accuracy: 0.7348\n",
            "Epoch 98/150\n",
            "46/46 [==============================] - 0s 2ms/step - loss: 0.5101 - accuracy: 0.7290 - val_loss: 0.5070 - val_accuracy: 0.7362\n",
            "Epoch 99/150\n",
            "46/46 [==============================] - 0s 2ms/step - loss: 0.5106 - accuracy: 0.7302 - val_loss: 0.5037 - val_accuracy: 0.7314\n",
            "Epoch 100/150\n",
            "46/46 [==============================] - 0s 2ms/step - loss: 0.5090 - accuracy: 0.7300 - val_loss: 0.5010 - val_accuracy: 0.7403\n",
            "Epoch 101/150\n",
            "46/46 [==============================] - 0s 2ms/step - loss: 0.5097 - accuracy: 0.7294 - val_loss: 0.4942 - val_accuracy: 0.7382\n",
            "Epoch 102/150\n",
            "46/46 [==============================] - 0s 2ms/step - loss: 0.5059 - accuracy: 0.7341 - val_loss: 0.5022 - val_accuracy: 0.7430\n",
            "Epoch 103/150\n",
            "46/46 [==============================] - 0s 2ms/step - loss: 0.5041 - accuracy: 0.7410 - val_loss: 0.5000 - val_accuracy: 0.7341\n",
            "Epoch 104/150\n",
            "46/46 [==============================] - 0s 2ms/step - loss: 0.5102 - accuracy: 0.7319 - val_loss: 0.4939 - val_accuracy: 0.7464\n",
            "Epoch 105/150\n",
            "46/46 [==============================] - 0s 2ms/step - loss: 0.5065 - accuracy: 0.7353 - val_loss: 0.4986 - val_accuracy: 0.7444\n",
            "Epoch 106/150\n",
            "46/46 [==============================] - 0s 2ms/step - loss: 0.5002 - accuracy: 0.7374 - val_loss: 0.4938 - val_accuracy: 0.7409\n",
            "Epoch 107/150\n",
            "46/46 [==============================] - 0s 2ms/step - loss: 0.4996 - accuracy: 0.7430 - val_loss: 0.4988 - val_accuracy: 0.7409\n",
            "Epoch 108/150\n",
            "46/46 [==============================] - 0s 2ms/step - loss: 0.4998 - accuracy: 0.7427 - val_loss: 0.4995 - val_accuracy: 0.7245\n",
            "Epoch 109/150\n",
            "46/46 [==============================] - 0s 2ms/step - loss: 0.4993 - accuracy: 0.7382 - val_loss: 0.4968 - val_accuracy: 0.7437\n",
            "Epoch 110/150\n",
            "46/46 [==============================] - 0s 2ms/step - loss: 0.5001 - accuracy: 0.7412 - val_loss: 0.4915 - val_accuracy: 0.7498\n",
            "Epoch 111/150\n",
            "46/46 [==============================] - 0s 2ms/step - loss: 0.4995 - accuracy: 0.7401 - val_loss: 0.4976 - val_accuracy: 0.7382\n",
            "Epoch 112/150\n",
            "46/46 [==============================] - 0s 2ms/step - loss: 0.5010 - accuracy: 0.7370 - val_loss: 0.4886 - val_accuracy: 0.7498\n",
            "Epoch 113/150\n",
            "46/46 [==============================] - 0s 2ms/step - loss: 0.4923 - accuracy: 0.7456 - val_loss: 0.4889 - val_accuracy: 0.7560\n",
            "Epoch 114/150\n",
            "46/46 [==============================] - 0s 2ms/step - loss: 0.4918 - accuracy: 0.7386 - val_loss: 0.4862 - val_accuracy: 0.7580\n",
            "Epoch 115/150\n",
            "46/46 [==============================] - 0s 2ms/step - loss: 0.4970 - accuracy: 0.7379 - val_loss: 0.4919 - val_accuracy: 0.7471\n",
            "Epoch 116/150\n",
            "46/46 [==============================] - 0s 2ms/step - loss: 0.4966 - accuracy: 0.7418 - val_loss: 0.4943 - val_accuracy: 0.7498\n",
            "Epoch 117/150\n",
            "46/46 [==============================] - 0s 2ms/step - loss: 0.4919 - accuracy: 0.7432 - val_loss: 0.4909 - val_accuracy: 0.7437\n",
            "Epoch 118/150\n",
            "46/46 [==============================] - 0s 2ms/step - loss: 0.4904 - accuracy: 0.7447 - val_loss: 0.4943 - val_accuracy: 0.7450\n",
            "Epoch 119/150\n",
            "46/46 [==============================] - 0s 2ms/step - loss: 0.4941 - accuracy: 0.7488 - val_loss: 0.4917 - val_accuracy: 0.7416\n",
            "Epoch 120/150\n",
            "46/46 [==============================] - 0s 2ms/step - loss: 0.4937 - accuracy: 0.7412 - val_loss: 0.4836 - val_accuracy: 0.7423\n",
            "Epoch 121/150\n",
            "46/46 [==============================] - 0s 2ms/step - loss: 0.4878 - accuracy: 0.7500 - val_loss: 0.4828 - val_accuracy: 0.7635\n",
            "Epoch 122/150\n",
            "46/46 [==============================] - 0s 2ms/step - loss: 0.4903 - accuracy: 0.7500 - val_loss: 0.4749 - val_accuracy: 0.7594\n",
            "Epoch 123/150\n",
            "46/46 [==============================] - 0s 2ms/step - loss: 0.4858 - accuracy: 0.7504 - val_loss: 0.4768 - val_accuracy: 0.7635\n",
            "Epoch 124/150\n",
            "46/46 [==============================] - 0s 2ms/step - loss: 0.4951 - accuracy: 0.7396 - val_loss: 0.4768 - val_accuracy: 0.7580\n",
            "Epoch 125/150\n",
            "46/46 [==============================] - 0s 2ms/step - loss: 0.4902 - accuracy: 0.7456 - val_loss: 0.4767 - val_accuracy: 0.7580\n",
            "Epoch 126/150\n",
            "46/46 [==============================] - 0s 2ms/step - loss: 0.4867 - accuracy: 0.7453 - val_loss: 0.4788 - val_accuracy: 0.7683\n",
            "Epoch 127/150\n",
            "46/46 [==============================] - 0s 2ms/step - loss: 0.4816 - accuracy: 0.7490 - val_loss: 0.4697 - val_accuracy: 0.7724\n",
            "Epoch 128/150\n",
            "46/46 [==============================] - 0s 2ms/step - loss: 0.4829 - accuracy: 0.7511 - val_loss: 0.4783 - val_accuracy: 0.7512\n",
            "Epoch 129/150\n",
            "46/46 [==============================] - 0s 2ms/step - loss: 0.4864 - accuracy: 0.7509 - val_loss: 0.4712 - val_accuracy: 0.7703\n",
            "Epoch 130/150\n",
            "46/46 [==============================] - 0s 2ms/step - loss: 0.4766 - accuracy: 0.7571 - val_loss: 0.4663 - val_accuracy: 0.7738\n",
            "Epoch 131/150\n",
            "46/46 [==============================] - 0s 2ms/step - loss: 0.4776 - accuracy: 0.7548 - val_loss: 0.4687 - val_accuracy: 0.7662\n",
            "Epoch 132/150\n",
            "46/46 [==============================] - 0s 2ms/step - loss: 0.4793 - accuracy: 0.7485 - val_loss: 0.4746 - val_accuracy: 0.7580\n",
            "Epoch 133/150\n",
            "46/46 [==============================] - 0s 2ms/step - loss: 0.4830 - accuracy: 0.7518 - val_loss: 0.4919 - val_accuracy: 0.7423\n",
            "Epoch 134/150\n",
            "46/46 [==============================] - 0s 2ms/step - loss: 0.4813 - accuracy: 0.7506 - val_loss: 0.4752 - val_accuracy: 0.7587\n",
            "Epoch 135/150\n",
            "46/46 [==============================] - 0s 2ms/step - loss: 0.4744 - accuracy: 0.7555 - val_loss: 0.4680 - val_accuracy: 0.7635\n",
            "Epoch 136/150\n",
            "46/46 [==============================] - 0s 2ms/step - loss: 0.4792 - accuracy: 0.7562 - val_loss: 0.4714 - val_accuracy: 0.7560\n",
            "Epoch 137/150\n",
            "46/46 [==============================] - 0s 2ms/step - loss: 0.4756 - accuracy: 0.7562 - val_loss: 0.4656 - val_accuracy: 0.7656\n",
            "Epoch 138/150\n",
            "46/46 [==============================] - 0s 2ms/step - loss: 0.4734 - accuracy: 0.7605 - val_loss: 0.4703 - val_accuracy: 0.7614\n",
            "Epoch 139/150\n",
            "46/46 [==============================] - 0s 2ms/step - loss: 0.4724 - accuracy: 0.7630 - val_loss: 0.4655 - val_accuracy: 0.7560\n",
            "Epoch 140/150\n",
            "46/46 [==============================] - 0s 2ms/step - loss: 0.4699 - accuracy: 0.7606 - val_loss: 0.4662 - val_accuracy: 0.7594\n",
            "Epoch 141/150\n",
            "46/46 [==============================] - 0s 2ms/step - loss: 0.4742 - accuracy: 0.7512 - val_loss: 0.4731 - val_accuracy: 0.7567\n",
            "Epoch 142/150\n",
            "46/46 [==============================] - 0s 2ms/step - loss: 0.4709 - accuracy: 0.7601 - val_loss: 0.4678 - val_accuracy: 0.7683\n",
            "Epoch 143/150\n",
            "46/46 [==============================] - 0s 2ms/step - loss: 0.4671 - accuracy: 0.7632 - val_loss: 0.4623 - val_accuracy: 0.7656\n",
            "Epoch 144/150\n",
            "46/46 [==============================] - 0s 2ms/step - loss: 0.4714 - accuracy: 0.7637 - val_loss: 0.4641 - val_accuracy: 0.7601\n",
            "Epoch 145/150\n",
            "46/46 [==============================] - 0s 2ms/step - loss: 0.4681 - accuracy: 0.7572 - val_loss: 0.4644 - val_accuracy: 0.7662\n",
            "Epoch 146/150\n",
            "46/46 [==============================] - 0s 2ms/step - loss: 0.4675 - accuracy: 0.7601 - val_loss: 0.4624 - val_accuracy: 0.7724\n",
            "Epoch 147/150\n",
            "46/46 [==============================] - 0s 2ms/step - loss: 0.4683 - accuracy: 0.7622 - val_loss: 0.4636 - val_accuracy: 0.7621\n",
            "Epoch 148/150\n",
            "46/46 [==============================] - 0s 2ms/step - loss: 0.4703 - accuracy: 0.7632 - val_loss: 0.4691 - val_accuracy: 0.7697\n",
            "Epoch 149/150\n",
            "46/46 [==============================] - 0s 2ms/step - loss: 0.4676 - accuracy: 0.7642 - val_loss: 0.4655 - val_accuracy: 0.7512\n",
            "Epoch 150/150\n",
            "46/46 [==============================] - 0s 2ms/step - loss: 0.4648 - accuracy: 0.7632 - val_loss: 0.4602 - val_accuracy: 0.7662\n"
          ]
        }
      ]
    },
    {
      "cell_type": "code",
      "source": [
        "sns.set()\n",
        "acc = hist1.history['accuracy']\n",
        "val = hist1.history['val_accuracy']\n",
        "epochs = range(1, len(acc) + 1)\n",
        "plt.plot(epochs, acc, '-', label='Training accuracy')\n",
        "plt.plot(epochs, val, ':', label='Validation accuracy')\n",
        "plt.title('Training and Validation Accuracy')\n",
        "plt.xlabel('Epoch')\n",
        "plt.ylabel('Accuracy')\n",
        "plt.legend(loc='best')\n",
        "plt.plot()"
      ],
      "metadata": {
        "colab": {
          "base_uri": "https://localhost:8080/",
          "height": 319
        },
        "id": "-vE0my_OoTRo",
        "outputId": "f196955d-7610-47c7-eee7-d44ac294f113"
      },
      "execution_count": null,
      "outputs": [
        {
          "output_type": "execute_result",
          "data": {
            "text/plain": [
              "[]"
            ]
          },
          "metadata": {},
          "execution_count": 89
        },
        {
          "output_type": "display_data",
          "data": {
            "text/plain": [
              "<Figure size 432x288 with 1 Axes>"
            ],
            "image/png": "[encoded data removed]"
          },
          "metadata": {}
        }
      ]
    },
    {
      "cell_type": "code",
      "source": [
        "model1.evaluate(X_test, y_test)"
      ],
      "metadata": {
        "colab": {
          "base_uri": "https://localhost:8080/"
        },
        "id": "6R6rg22vpkmA",
        "outputId": "2326f621-fa3f-4613-c8df-58351150aeb6"
      },
      "execution_count": null,
      "outputs": [
        {
          "output_type": "stream",
          "name": "stdout",
          "text": [
            "46/46 [==============================] - 0s 915us/step - loss: 0.5267 - accuracy: 0.7068\n"
          ]
        },
        {
          "output_type": "execute_result",
          "data": {
            "text/plain": [
              "[0.5266716480255127, 0.7067669034004211]"
            ]
          },
          "metadata": {},
          "execution_count": 94
        }
      ]
    },
    {
      "cell_type": "code",
      "source": [
        "loss = hist1.history['loss']\n",
        "epochs = range(1, len(loss) + 1)\n",
        "plt.plot(epochs, loss, '-', label='Loss')\n",
        "plt.title('Loss graph')\n",
        "plt.xlabel('Epoch')\n",
        "plt.ylabel('Loss')\n",
        "plt.legend(loc='best')\n",
        "plt.plot()"
      ],
      "metadata": {
        "colab": {
          "base_uri": "https://localhost:8080/",
          "height": 319
        },
        "id": "_zacyBproTGB",
        "outputId": "dc43a733-8e55-4760-e1d4-09075e0cca65"
      },
      "execution_count": null,
      "outputs": [
        {
          "output_type": "execute_result",
          "data": {
            "text/plain": [
              "[]"
            ]
          },
          "metadata": {},
          "execution_count": 93
        },
        {
          "output_type": "display_data",
          "data": {
            "text/plain": [
              "<Figure size 432x288 with 1 Axes>"
            ],
            "image/png": "[encoded data removed]"
          },
          "metadata": {}
        }
      ]
    },
    {
      "cell_type": "code",
      "source": [
        "model1.save(\"ModelRedLayers\")"
      ],
      "metadata": {
        "id": "mfFM3We8mx52"
      },
      "execution_count": null,
      "outputs": []
    },
    {
      "cell_type": "markdown",
      "source": [
        "# **Dropout Layers**"
      ],
      "metadata": {
        "id": "3jgpwUR8qFLr"
      }
    },
    {
      "cell_type": "code",
      "source": [
        "model2 = Sequential()\n",
        "model2.add(Dense(64, activation='relu', input_dim=72))\n",
        "model2.add(Dropout(0.4))\n",
        "model2.add(Dense(64, activation='relu'))\n",
        "model2.add(Dropout(0.4))\n",
        "model2.add(Dense(32, activation='relu'))\n",
        "model2.add(Dropout(0.4))\n",
        "model2.add(Dense(32, activation='relu'))\n",
        "model2.add(Dropout(0.4))\n",
        "model2.add(Dense(1, activation='sigmoid'))\n",
        "model2.compile(loss='binary_crossentropy', optimizer='adam', metrics=['accuracy'])\n",
        "model2.summary()"
      ],
      "metadata": {
        "colab": {
          "base_uri": "https://localhost:8080/"
        },
        "id": "5czNYry_p5Ew",
        "outputId": "8c0f36f7-efcf-4d18-e7dc-a69539b1c97f"
      },
      "execution_count": null,
      "outputs": [
        {
          "output_type": "stream",
          "name": "stdout",
          "text": [
            "Model: \"sequential_5\"\n",
            "_________________________________________________________________\n",
            " Layer (type)                Output Shape              Param #   \n",
            "=================================================================\n",
            " dense_21 (Dense)            (None, 64)                4672      \n",
            "                                                                 \n",
            " dropout_4 (Dropout)         (None, 64)                0         \n",
            "                                                                 \n",
            " dense_22 (Dense)            (None, 64)                4160      \n",
            "                                                                 \n",
            " dropout_5 (Dropout)         (None, 64)                0         \n",
            "                                                                 \n",
            " dense_23 (Dense)            (None, 32)                2080      \n",
            "                                                                 \n",
            " dropout_6 (Dropout)         (None, 32)                0         \n",
            "                                                                 \n",
            " dense_24 (Dense)            (None, 32)                1056      \n",
            "                                                                 \n",
            " dropout_7 (Dropout)         (None, 32)                0         \n",
            "                                                                 \n",
            " dense_25 (Dense)            (None, 1)                 33        \n",
            "                                                                 \n",
            "=================================================================\n",
            "Total params: 12,001\n",
            "Trainable params: 12,001\n",
            "Non-trainable params: 0\n",
            "_________________________________________________________________\n"
          ]
        }
      ]
    },
    {
      "cell_type": "code",
      "source": [
        "hist2 = model2.fit(X_train, y_train, validation_data=(X_val, y_val), epochs=200, batch_size=128, callbacks=[callback] )"
      ],
      "metadata": {
        "colab": {
          "base_uri": "https://localhost:8080/"
        },
        "id": "5gj4dWW2qggQ",
        "outputId": "cb7596c2-ce85-41d4-ec69-6dee1a5bea5d"
      },
      "execution_count": null,
      "outputs": [
        {
          "output_type": "stream",
          "name": "stdout",
          "text": [
            "Epoch 1/200\n",
            "46/46 [==============================] - 1s 6ms/step - loss: 1.3609 - accuracy: 0.5047 - val_loss: 0.6965 - val_accuracy: 0.5079\n",
            "Epoch 2/200\n",
            "46/46 [==============================] - 0s 3ms/step - loss: 0.8038 - accuracy: 0.5018 - val_loss: 0.6914 - val_accuracy: 0.5243\n",
            "Epoch 3/200\n",
            "46/46 [==============================] - 0s 3ms/step - loss: 0.7439 - accuracy: 0.4994 - val_loss: 0.6918 - val_accuracy: 0.5208\n",
            "Epoch 4/200\n",
            "46/46 [==============================] - 0s 3ms/step - loss: 0.7293 - accuracy: 0.4991 - val_loss: 0.6926 - val_accuracy: 0.5065\n",
            "Epoch 5/200\n",
            "46/46 [==============================] - 0s 3ms/step - loss: 0.7154 - accuracy: 0.5023 - val_loss: 0.6925 - val_accuracy: 0.4997\n",
            "Epoch 6/200\n",
            "46/46 [==============================] - 0s 2ms/step - loss: 0.7091 - accuracy: 0.5054 - val_loss: 0.6925 - val_accuracy: 0.5010\n",
            "Epoch 7/200\n",
            "46/46 [==============================] - 0s 2ms/step - loss: 0.7036 - accuracy: 0.5038 - val_loss: 0.6930 - val_accuracy: 0.5031\n",
            "Epoch 8/200\n",
            "46/46 [==============================] - 0s 2ms/step - loss: 0.7006 - accuracy: 0.5080 - val_loss: 0.6928 - val_accuracy: 0.4962\n",
            "Epoch 9/200\n",
            "46/46 [==============================] - 0s 3ms/step - loss: 0.6983 - accuracy: 0.5121 - val_loss: 0.6927 - val_accuracy: 0.4969\n",
            "Epoch 10/200\n",
            "46/46 [==============================] - 0s 2ms/step - loss: 0.6986 - accuracy: 0.4991 - val_loss: 0.6925 - val_accuracy: 0.4990\n",
            "Epoch 11/200\n",
            "46/46 [==============================] - 0s 3ms/step - loss: 0.6982 - accuracy: 0.5117 - val_loss: 0.6926 - val_accuracy: 0.5051\n",
            "Epoch 12/200\n",
            "46/46 [==============================] - 0s 3ms/step - loss: 0.6960 - accuracy: 0.5064 - val_loss: 0.6927 - val_accuracy: 0.5147\n",
            "Epoch 13/200\n",
            "46/46 [==============================] - 0s 2ms/step - loss: 0.6944 - accuracy: 0.5081 - val_loss: 0.6927 - val_accuracy: 0.5208\n",
            "Epoch 14/200\n",
            "46/46 [==============================] - 0s 3ms/step - loss: 0.6989 - accuracy: 0.5016 - val_loss: 0.6927 - val_accuracy: 0.5106\n",
            "Epoch 15/200\n",
            "46/46 [==============================] - 0s 2ms/step - loss: 0.6976 - accuracy: 0.4931 - val_loss: 0.6929 - val_accuracy: 0.5051\n",
            "Epoch 16/200\n",
            "46/46 [==============================] - 0s 3ms/step - loss: 0.6935 - accuracy: 0.5126 - val_loss: 0.6924 - val_accuracy: 0.5195\n",
            "Epoch 17/200\n",
            "46/46 [==============================] - 0s 2ms/step - loss: 0.6934 - accuracy: 0.5078 - val_loss: 0.6919 - val_accuracy: 0.5208\n",
            "Epoch 18/200\n",
            "46/46 [==============================] - 0s 3ms/step - loss: 0.6965 - accuracy: 0.5134 - val_loss: 0.6919 - val_accuracy: 0.5120\n",
            "Epoch 19/200\n",
            "46/46 [==============================] - 0s 3ms/step - loss: 0.6918 - accuracy: 0.5109 - val_loss: 0.6921 - val_accuracy: 0.5195\n",
            "Epoch 20/200\n",
            "46/46 [==============================] - 0s 2ms/step - loss: 0.6941 - accuracy: 0.5081 - val_loss: 0.6916 - val_accuracy: 0.5222\n",
            "Epoch 21/200\n",
            "46/46 [==============================] - 0s 3ms/step - loss: 0.6914 - accuracy: 0.5189 - val_loss: 0.6900 - val_accuracy: 0.5325\n",
            "Epoch 22/200\n",
            "46/46 [==============================] - 0s 3ms/step - loss: 0.6920 - accuracy: 0.5266 - val_loss: 0.6896 - val_accuracy: 0.5373\n",
            "Epoch 23/200\n",
            "46/46 [==============================] - 0s 2ms/step - loss: 0.6941 - accuracy: 0.5114 - val_loss: 0.6906 - val_accuracy: 0.5174\n",
            "Epoch 24/200\n",
            "46/46 [==============================] - 0s 3ms/step - loss: 0.6904 - accuracy: 0.5266 - val_loss: 0.6895 - val_accuracy: 0.5263\n",
            "Epoch 25/200\n",
            "46/46 [==============================] - 0s 3ms/step - loss: 0.6917 - accuracy: 0.5182 - val_loss: 0.6885 - val_accuracy: 0.5407\n",
            "Epoch 26/200\n",
            "46/46 [==============================] - 0s 2ms/step - loss: 0.6937 - accuracy: 0.5175 - val_loss: 0.6887 - val_accuracy: 0.5325\n",
            "Epoch 27/200\n",
            "46/46 [==============================] - 0s 2ms/step - loss: 0.6908 - accuracy: 0.5345 - val_loss: 0.6865 - val_accuracy: 0.5748\n",
            "Epoch 28/200\n",
            "46/46 [==============================] - 0s 2ms/step - loss: 0.6899 - accuracy: 0.5252 - val_loss: 0.6874 - val_accuracy: 0.5468\n",
            "Epoch 29/200\n",
            "46/46 [==============================] - 0s 2ms/step - loss: 0.6888 - accuracy: 0.5112 - val_loss: 0.6866 - val_accuracy: 0.5475\n",
            "Epoch 30/200\n",
            "46/46 [==============================] - 0s 2ms/step - loss: 0.6888 - accuracy: 0.5310 - val_loss: 0.6859 - val_accuracy: 0.5414\n",
            "Epoch 31/200\n",
            "46/46 [==============================] - 0s 2ms/step - loss: 0.6847 - accuracy: 0.5310 - val_loss: 0.6833 - val_accuracy: 0.5557\n",
            "Epoch 32/200\n",
            "46/46 [==============================] - 0s 2ms/step - loss: 0.6882 - accuracy: 0.5401 - val_loss: 0.6822 - val_accuracy: 0.5530\n",
            "Epoch 33/200\n",
            "46/46 [==============================] - 0s 2ms/step - loss: 0.6896 - accuracy: 0.5268 - val_loss: 0.6841 - val_accuracy: 0.5564\n",
            "Epoch 34/200\n",
            "46/46 [==============================] - 0s 3ms/step - loss: 0.6888 - accuracy: 0.5259 - val_loss: 0.6830 - val_accuracy: 0.5748\n",
            "Epoch 35/200\n",
            "46/46 [==============================] - 0s 3ms/step - loss: 0.6881 - accuracy: 0.5375 - val_loss: 0.6821 - val_accuracy: 0.5707\n",
            "Epoch 36/200\n",
            "46/46 [==============================] - 0s 2ms/step - loss: 0.6873 - accuracy: 0.5372 - val_loss: 0.6824 - val_accuracy: 0.5564\n",
            "Epoch 37/200\n",
            "46/46 [==============================] - 0s 3ms/step - loss: 0.6866 - accuracy: 0.5375 - val_loss: 0.6817 - val_accuracy: 0.5701\n",
            "Epoch 38/200\n",
            "46/46 [==============================] - 0s 2ms/step - loss: 0.6848 - accuracy: 0.5380 - val_loss: 0.6809 - val_accuracy: 0.5509\n",
            "Epoch 39/200\n",
            "46/46 [==============================] - 0s 2ms/step - loss: 0.6889 - accuracy: 0.5392 - val_loss: 0.6780 - val_accuracy: 0.5707\n",
            "Epoch 40/200\n",
            "46/46 [==============================] - 0s 2ms/step - loss: 0.6858 - accuracy: 0.5478 - val_loss: 0.6797 - val_accuracy: 0.5653\n",
            "Epoch 41/200\n",
            "46/46 [==============================] - 0s 2ms/step - loss: 0.6841 - accuracy: 0.5447 - val_loss: 0.6783 - val_accuracy: 0.5837\n",
            "Epoch 42/200\n",
            "46/46 [==============================] - 0s 2ms/step - loss: 0.6850 - accuracy: 0.5485 - val_loss: 0.6769 - val_accuracy: 0.5789\n",
            "Epoch 43/200\n",
            "46/46 [==============================] - 0s 2ms/step - loss: 0.6829 - accuracy: 0.5386 - val_loss: 0.6789 - val_accuracy: 0.5639\n",
            "Epoch 44/200\n",
            "46/46 [==============================] - 0s 3ms/step - loss: 0.6799 - accuracy: 0.5536 - val_loss: 0.6731 - val_accuracy: 0.5892\n",
            "Epoch 45/200\n",
            "46/46 [==============================] - 0s 2ms/step - loss: 0.6810 - accuracy: 0.5579 - val_loss: 0.6741 - val_accuracy: 0.5803\n",
            "Epoch 46/200\n",
            "46/46 [==============================] - 0s 3ms/step - loss: 0.6804 - accuracy: 0.5439 - val_loss: 0.6714 - val_accuracy: 0.5858\n",
            "Epoch 47/200\n",
            "46/46 [==============================] - 0s 3ms/step - loss: 0.6808 - accuracy: 0.5466 - val_loss: 0.6706 - val_accuracy: 0.6022\n",
            "Epoch 48/200\n",
            "46/46 [==============================] - 0s 3ms/step - loss: 0.6786 - accuracy: 0.5498 - val_loss: 0.6690 - val_accuracy: 0.5899\n",
            "Epoch 49/200\n",
            "46/46 [==============================] - 0s 3ms/step - loss: 0.6799 - accuracy: 0.5550 - val_loss: 0.6699 - val_accuracy: 0.6001\n",
            "Epoch 50/200\n",
            "46/46 [==============================] - 0s 2ms/step - loss: 0.6752 - accuracy: 0.5565 - val_loss: 0.6678 - val_accuracy: 0.5865\n",
            "Epoch 51/200\n",
            "46/46 [==============================] - 0s 2ms/step - loss: 0.6767 - accuracy: 0.5507 - val_loss: 0.6652 - val_accuracy: 0.6008\n",
            "Epoch 52/200\n",
            "46/46 [==============================] - 0s 3ms/step - loss: 0.6781 - accuracy: 0.5550 - val_loss: 0.6658 - val_accuracy: 0.5960\n",
            "Epoch 53/200\n",
            "46/46 [==============================] - 0s 3ms/step - loss: 0.6734 - accuracy: 0.5604 - val_loss: 0.6608 - val_accuracy: 0.6056\n",
            "Epoch 54/200\n",
            "46/46 [==============================] - 0s 2ms/step - loss: 0.6751 - accuracy: 0.5616 - val_loss: 0.6642 - val_accuracy: 0.6001\n",
            "Epoch 55/200\n",
            "46/46 [==============================] - 0s 2ms/step - loss: 0.6756 - accuracy: 0.5671 - val_loss: 0.6626 - val_accuracy: 0.6063\n",
            "Epoch 56/200\n",
            "46/46 [==============================] - 0s 3ms/step - loss: 0.6723 - accuracy: 0.5663 - val_loss: 0.6586 - val_accuracy: 0.6152\n",
            "Epoch 57/200\n",
            "46/46 [==============================] - 0s 2ms/step - loss: 0.6759 - accuracy: 0.5565 - val_loss: 0.6575 - val_accuracy: 0.6111\n",
            "Epoch 58/200\n",
            "46/46 [==============================] - 0s 3ms/step - loss: 0.6710 - accuracy: 0.5789 - val_loss: 0.6599 - val_accuracy: 0.6049\n",
            "Epoch 59/200\n",
            "46/46 [==============================] - 0s 2ms/step - loss: 0.6733 - accuracy: 0.5707 - val_loss: 0.6565 - val_accuracy: 0.6165\n",
            "Epoch 60/200\n",
            "46/46 [==============================] - 0s 2ms/step - loss: 0.6703 - accuracy: 0.5666 - val_loss: 0.6521 - val_accuracy: 0.6275\n",
            "Epoch 61/200\n",
            "46/46 [==============================] - 0s 2ms/step - loss: 0.6688 - accuracy: 0.5777 - val_loss: 0.6544 - val_accuracy: 0.6200\n",
            "Epoch 62/200\n",
            "46/46 [==============================] - 0s 2ms/step - loss: 0.6676 - accuracy: 0.5777 - val_loss: 0.6522 - val_accuracy: 0.6145\n",
            "Epoch 63/200\n",
            "46/46 [==============================] - 0s 3ms/step - loss: 0.6719 - accuracy: 0.5664 - val_loss: 0.6538 - val_accuracy: 0.6036\n",
            "Epoch 64/200\n",
            "46/46 [==============================] - 0s 2ms/step - loss: 0.6653 - accuracy: 0.5722 - val_loss: 0.6488 - val_accuracy: 0.6159\n",
            "Epoch 65/200\n",
            "46/46 [==============================] - 0s 3ms/step - loss: 0.6687 - accuracy: 0.5810 - val_loss: 0.6474 - val_accuracy: 0.6193\n",
            "Epoch 66/200\n",
            "46/46 [==============================] - 0s 3ms/step - loss: 0.6647 - accuracy: 0.5751 - val_loss: 0.6486 - val_accuracy: 0.6104\n",
            "Epoch 67/200\n",
            "46/46 [==============================] - 0s 3ms/step - loss: 0.6664 - accuracy: 0.5659 - val_loss: 0.6476 - val_accuracy: 0.6104\n",
            "Epoch 68/200\n",
            "46/46 [==============================] - 0s 3ms/step - loss: 0.6661 - accuracy: 0.5780 - val_loss: 0.6509 - val_accuracy: 0.6070\n",
            "Epoch 69/200\n",
            "46/46 [==============================] - 0s 2ms/step - loss: 0.6677 - accuracy: 0.5803 - val_loss: 0.6457 - val_accuracy: 0.6070\n",
            "Epoch 70/200\n",
            "46/46 [==============================] - 0s 2ms/step - loss: 0.6668 - accuracy: 0.5762 - val_loss: 0.6427 - val_accuracy: 0.6172\n",
            "Epoch 71/200\n",
            "46/46 [==============================] - 0s 3ms/step - loss: 0.6620 - accuracy: 0.5799 - val_loss: 0.6391 - val_accuracy: 0.6275\n",
            "Epoch 72/200\n",
            "46/46 [==============================] - 0s 2ms/step - loss: 0.6592 - accuracy: 0.5875 - val_loss: 0.6442 - val_accuracy: 0.6104\n",
            "Epoch 73/200\n",
            "46/46 [==============================] - 0s 3ms/step - loss: 0.6634 - accuracy: 0.5789 - val_loss: 0.6369 - val_accuracy: 0.6357\n",
            "Epoch 74/200\n",
            "46/46 [==============================] - 0s 2ms/step - loss: 0.6608 - accuracy: 0.5770 - val_loss: 0.6391 - val_accuracy: 0.6131\n",
            "Epoch 75/200\n",
            "46/46 [==============================] - 0s 3ms/step - loss: 0.6574 - accuracy: 0.5898 - val_loss: 0.6374 - val_accuracy: 0.6247\n",
            "Epoch 76/200\n",
            "46/46 [==============================] - 0s 2ms/step - loss: 0.6616 - accuracy: 0.5810 - val_loss: 0.6374 - val_accuracy: 0.6247\n",
            "Epoch 77/200\n",
            "46/46 [==============================] - 0s 3ms/step - loss: 0.6608 - accuracy: 0.5897 - val_loss: 0.6383 - val_accuracy: 0.6302\n",
            "Epoch 78/200\n",
            "46/46 [==============================] - 0s 3ms/step - loss: 0.6596 - accuracy: 0.5878 - val_loss: 0.6316 - val_accuracy: 0.6316\n",
            "Epoch 79/200\n",
            "46/46 [==============================] - 0s 3ms/step - loss: 0.6585 - accuracy: 0.5895 - val_loss: 0.6359 - val_accuracy: 0.6323\n",
            "Epoch 80/200\n",
            "46/46 [==============================] - 0s 2ms/step - loss: 0.6544 - accuracy: 0.5922 - val_loss: 0.6379 - val_accuracy: 0.6329\n",
            "Epoch 81/200\n",
            "46/46 [==============================] - 0s 3ms/step - loss: 0.6574 - accuracy: 0.5989 - val_loss: 0.6399 - val_accuracy: 0.6179\n",
            "Epoch 82/200\n",
            "46/46 [==============================] - 0s 3ms/step - loss: 0.6590 - accuracy: 0.5922 - val_loss: 0.6337 - val_accuracy: 0.6275\n",
            "Epoch 83/200\n",
            "46/46 [==============================] - 0s 2ms/step - loss: 0.6507 - accuracy: 0.5970 - val_loss: 0.6283 - val_accuracy: 0.6282\n",
            "Epoch 84/200\n",
            "46/46 [==============================] - 0s 3ms/step - loss: 0.6493 - accuracy: 0.5936 - val_loss: 0.6238 - val_accuracy: 0.6350\n",
            "Epoch 85/200\n",
            "46/46 [==============================] - 0s 3ms/step - loss: 0.6530 - accuracy: 0.5885 - val_loss: 0.6242 - val_accuracy: 0.6411\n",
            "Epoch 86/200\n",
            "46/46 [==============================] - 0s 3ms/step - loss: 0.6518 - accuracy: 0.5972 - val_loss: 0.6269 - val_accuracy: 0.6364\n",
            "Epoch 87/200\n",
            "46/46 [==============================] - 0s 2ms/step - loss: 0.6515 - accuracy: 0.5886 - val_loss: 0.6287 - val_accuracy: 0.6309\n",
            "Epoch 88/200\n",
            "46/46 [==============================] - 0s 3ms/step - loss: 0.6490 - accuracy: 0.5938 - val_loss: 0.6233 - val_accuracy: 0.6432\n",
            "Epoch 89/200\n",
            "46/46 [==============================] - 0s 2ms/step - loss: 0.6512 - accuracy: 0.5948 - val_loss: 0.6273 - val_accuracy: 0.6343\n",
            "Epoch 90/200\n",
            "46/46 [==============================] - 0s 3ms/step - loss: 0.6460 - accuracy: 0.6010 - val_loss: 0.6207 - val_accuracy: 0.6473\n",
            "Epoch 91/200\n",
            "46/46 [==============================] - 0s 3ms/step - loss: 0.6549 - accuracy: 0.5898 - val_loss: 0.6294 - val_accuracy: 0.6384\n",
            "Epoch 92/200\n",
            "46/46 [==============================] - 0s 2ms/step - loss: 0.6492 - accuracy: 0.6004 - val_loss: 0.6240 - val_accuracy: 0.6357\n",
            "Epoch 93/200\n",
            "46/46 [==============================] - 0s 3ms/step - loss: 0.6497 - accuracy: 0.5948 - val_loss: 0.6207 - val_accuracy: 0.6446\n",
            "Epoch 94/200\n",
            "46/46 [==============================] - 0s 2ms/step - loss: 0.6504 - accuracy: 0.6022 - val_loss: 0.6204 - val_accuracy: 0.6466\n",
            "Epoch 95/200\n",
            "46/46 [==============================] - 0s 2ms/step - loss: 0.6444 - accuracy: 0.6035 - val_loss: 0.6220 - val_accuracy: 0.6480\n",
            "Epoch 96/200\n",
            "46/46 [==============================] - 0s 3ms/step - loss: 0.6432 - accuracy: 0.6003 - val_loss: 0.6156 - val_accuracy: 0.6514\n",
            "Epoch 97/200\n",
            "46/46 [==============================] - 0s 2ms/step - loss: 0.6462 - accuracy: 0.5989 - val_loss: 0.6233 - val_accuracy: 0.6323\n",
            "Epoch 98/200\n",
            "46/46 [==============================] - 0s 2ms/step - loss: 0.6436 - accuracy: 0.5892 - val_loss: 0.6247 - val_accuracy: 0.6193\n",
            "Epoch 99/200\n",
            "46/46 [==============================] - 0s 2ms/step - loss: 0.6442 - accuracy: 0.5943 - val_loss: 0.6180 - val_accuracy: 0.6377\n",
            "Epoch 100/200\n",
            "46/46 [==============================] - 0s 3ms/step - loss: 0.6434 - accuracy: 0.5977 - val_loss: 0.6189 - val_accuracy: 0.6268\n",
            "Epoch 101/200\n",
            "46/46 [==============================] - 0s 2ms/step - loss: 0.6477 - accuracy: 0.5902 - val_loss: 0.6201 - val_accuracy: 0.6398\n",
            "Epoch 102/200\n",
            "46/46 [==============================] - 0s 3ms/step - loss: 0.6427 - accuracy: 0.5998 - val_loss: 0.6175 - val_accuracy: 0.6336\n",
            "Epoch 103/200\n",
            "46/46 [==============================] - 0s 2ms/step - loss: 0.6389 - accuracy: 0.5998 - val_loss: 0.6183 - val_accuracy: 0.6350\n",
            "Epoch 104/200\n",
            "46/46 [==============================] - 0s 3ms/step - loss: 0.6444 - accuracy: 0.6010 - val_loss: 0.6161 - val_accuracy: 0.6487\n",
            "Epoch 105/200\n",
            "46/46 [==============================] - 0s 2ms/step - loss: 0.6462 - accuracy: 0.5992 - val_loss: 0.6219 - val_accuracy: 0.6275\n",
            "Epoch 106/200\n",
            "46/46 [==============================] - 0s 3ms/step - loss: 0.6405 - accuracy: 0.6040 - val_loss: 0.6148 - val_accuracy: 0.6494\n",
            "Epoch 107/200\n",
            "46/46 [==============================] - 0s 3ms/step - loss: 0.6393 - accuracy: 0.6116 - val_loss: 0.6119 - val_accuracy: 0.6596\n",
            "Epoch 108/200\n",
            "46/46 [==============================] - 0s 3ms/step - loss: 0.6438 - accuracy: 0.6027 - val_loss: 0.6158 - val_accuracy: 0.6507\n",
            "Epoch 109/200\n",
            "46/46 [==============================] - 0s 3ms/step - loss: 0.6443 - accuracy: 0.6126 - val_loss: 0.6154 - val_accuracy: 0.6316\n",
            "Epoch 110/200\n",
            "46/46 [==============================] - 0s 2ms/step - loss: 0.6353 - accuracy: 0.6080 - val_loss: 0.6113 - val_accuracy: 0.6439\n",
            "Epoch 111/200\n",
            "46/46 [==============================] - 0s 3ms/step - loss: 0.6365 - accuracy: 0.6095 - val_loss: 0.6119 - val_accuracy: 0.6589\n",
            "Epoch 112/200\n",
            "46/46 [==============================] - 0s 3ms/step - loss: 0.6332 - accuracy: 0.6107 - val_loss: 0.6109 - val_accuracy: 0.6466\n",
            "Epoch 113/200\n",
            "46/46 [==============================] - 0s 2ms/step - loss: 0.6340 - accuracy: 0.6109 - val_loss: 0.6140 - val_accuracy: 0.6452\n",
            "Epoch 114/200\n",
            "46/46 [==============================] - 0s 3ms/step - loss: 0.6326 - accuracy: 0.6126 - val_loss: 0.6069 - val_accuracy: 0.6671\n",
            "Epoch 115/200\n",
            "46/46 [==============================] - 0s 2ms/step - loss: 0.6322 - accuracy: 0.6117 - val_loss: 0.6088 - val_accuracy: 0.6521\n",
            "Epoch 116/200\n",
            "46/46 [==============================] - 0s 3ms/step - loss: 0.6356 - accuracy: 0.6090 - val_loss: 0.6071 - val_accuracy: 0.6664\n",
            "Epoch 117/200\n",
            "46/46 [==============================] - 0s 3ms/step - loss: 0.6310 - accuracy: 0.6140 - val_loss: 0.6012 - val_accuracy: 0.6603\n",
            "Epoch 118/200\n",
            "46/46 [==============================] - 0s 3ms/step - loss: 0.6322 - accuracy: 0.6131 - val_loss: 0.6049 - val_accuracy: 0.6535\n",
            "Epoch 119/200\n",
            "46/46 [==============================] - 0s 2ms/step - loss: 0.6364 - accuracy: 0.6083 - val_loss: 0.6037 - val_accuracy: 0.6562\n",
            "Epoch 120/200\n",
            "46/46 [==============================] - 0s 2ms/step - loss: 0.6357 - accuracy: 0.6027 - val_loss: 0.6026 - val_accuracy: 0.6555\n",
            "Epoch 121/200\n",
            "46/46 [==============================] - 0s 2ms/step - loss: 0.6380 - accuracy: 0.5991 - val_loss: 0.6063 - val_accuracy: 0.6446\n",
            "Epoch 122/200\n",
            "46/46 [==============================] - 0s 3ms/step - loss: 0.6308 - accuracy: 0.6085 - val_loss: 0.6045 - val_accuracy: 0.6391\n",
            "Epoch 123/200\n",
            "46/46 [==============================] - 0s 3ms/step - loss: 0.6321 - accuracy: 0.6013 - val_loss: 0.6062 - val_accuracy: 0.6576\n",
            "Epoch 124/200\n",
            "46/46 [==============================] - 0s 3ms/step - loss: 0.6318 - accuracy: 0.6049 - val_loss: 0.6051 - val_accuracy: 0.6350\n",
            "Epoch 125/200\n",
            "46/46 [==============================] - 0s 2ms/step - loss: 0.6357 - accuracy: 0.6001 - val_loss: 0.6020 - val_accuracy: 0.6514\n",
            "Epoch 126/200\n",
            "46/46 [==============================] - 0s 3ms/step - loss: 0.6328 - accuracy: 0.6107 - val_loss: 0.6018 - val_accuracy: 0.6562\n",
            "Epoch 127/200\n",
            "46/46 [==============================] - 0s 3ms/step - loss: 0.6288 - accuracy: 0.6075 - val_loss: 0.6009 - val_accuracy: 0.6500\n",
            "Epoch 128/200\n",
            "46/46 [==============================] - 0s 3ms/step - loss: 0.6302 - accuracy: 0.6208 - val_loss: 0.5997 - val_accuracy: 0.6664\n",
            "Epoch 129/200\n",
            "46/46 [==============================] - 0s 3ms/step - loss: 0.6287 - accuracy: 0.6155 - val_loss: 0.5992 - val_accuracy: 0.6705\n",
            "Epoch 130/200\n",
            "46/46 [==============================] - 0s 3ms/step - loss: 0.6267 - accuracy: 0.6121 - val_loss: 0.5974 - val_accuracy: 0.6466\n",
            "Epoch 131/200\n",
            "46/46 [==============================] - 0s 2ms/step - loss: 0.6315 - accuracy: 0.6064 - val_loss: 0.6024 - val_accuracy: 0.6480\n",
            "Epoch 132/200\n",
            "46/46 [==============================] - 0s 3ms/step - loss: 0.6191 - accuracy: 0.6191 - val_loss: 0.5908 - val_accuracy: 0.6740\n",
            "Epoch 133/200\n",
            "46/46 [==============================] - 0s 2ms/step - loss: 0.6244 - accuracy: 0.6215 - val_loss: 0.6025 - val_accuracy: 0.6370\n",
            "Epoch 134/200\n",
            "46/46 [==============================] - 0s 3ms/step - loss: 0.6309 - accuracy: 0.6078 - val_loss: 0.6006 - val_accuracy: 0.6692\n",
            "Epoch 135/200\n",
            "46/46 [==============================] - 0s 3ms/step - loss: 0.6205 - accuracy: 0.6268 - val_loss: 0.5907 - val_accuracy: 0.6623\n",
            "Epoch 136/200\n",
            "46/46 [==============================] - 0s 3ms/step - loss: 0.6266 - accuracy: 0.6193 - val_loss: 0.5930 - val_accuracy: 0.6801\n",
            "Epoch 137/200\n",
            "46/46 [==============================] - 0s 3ms/step - loss: 0.6223 - accuracy: 0.6182 - val_loss: 0.5934 - val_accuracy: 0.6466\n",
            "Epoch 138/200\n",
            "46/46 [==============================] - 0s 3ms/step - loss: 0.6273 - accuracy: 0.6071 - val_loss: 0.5939 - val_accuracy: 0.6664\n",
            "Epoch 139/200\n",
            "46/46 [==============================] - 0s 3ms/step - loss: 0.6266 - accuracy: 0.6110 - val_loss: 0.5944 - val_accuracy: 0.6699\n",
            "Epoch 140/200\n",
            "46/46 [==============================] - 0s 2ms/step - loss: 0.6208 - accuracy: 0.6263 - val_loss: 0.5906 - val_accuracy: 0.6576\n",
            "Epoch 141/200\n",
            "46/46 [==============================] - 0s 2ms/step - loss: 0.6231 - accuracy: 0.6126 - val_loss: 0.5912 - val_accuracy: 0.6596\n",
            "Epoch 142/200\n",
            "46/46 [==============================] - 0s 3ms/step - loss: 0.6247 - accuracy: 0.6204 - val_loss: 0.5898 - val_accuracy: 0.6719\n",
            "Epoch 143/200\n",
            "46/46 [==============================] - 0s 3ms/step - loss: 0.6287 - accuracy: 0.6261 - val_loss: 0.5939 - val_accuracy: 0.6644\n",
            "Epoch 144/200\n",
            "46/46 [==============================] - 0s 3ms/step - loss: 0.6153 - accuracy: 0.6304 - val_loss: 0.5855 - val_accuracy: 0.6596\n",
            "Epoch 145/200\n",
            "46/46 [==============================] - 0s 3ms/step - loss: 0.6198 - accuracy: 0.6187 - val_loss: 0.5879 - val_accuracy: 0.6678\n",
            "Epoch 146/200\n",
            "46/46 [==============================] - 0s 3ms/step - loss: 0.6205 - accuracy: 0.6167 - val_loss: 0.5857 - val_accuracy: 0.6753\n",
            "Epoch 147/200\n",
            "46/46 [==============================] - 0s 2ms/step - loss: 0.6170 - accuracy: 0.6251 - val_loss: 0.5792 - val_accuracy: 0.6781\n",
            "Epoch 148/200\n",
            "46/46 [==============================] - 0s 3ms/step - loss: 0.6217 - accuracy: 0.6191 - val_loss: 0.5846 - val_accuracy: 0.6774\n",
            "Epoch 149/200\n",
            "46/46 [==============================] - 0s 3ms/step - loss: 0.6174 - accuracy: 0.6263 - val_loss: 0.5868 - val_accuracy: 0.6692\n",
            "Epoch 150/200\n",
            "46/46 [==============================] - 0s 2ms/step - loss: 0.6192 - accuracy: 0.6317 - val_loss: 0.5841 - val_accuracy: 0.6801\n",
            "Epoch 151/200\n",
            "46/46 [==============================] - 0s 3ms/step - loss: 0.6142 - accuracy: 0.6249 - val_loss: 0.5804 - val_accuracy: 0.6815\n",
            "Epoch 152/200\n",
            "46/46 [==============================] - 0s 2ms/step - loss: 0.6191 - accuracy: 0.6299 - val_loss: 0.5795 - val_accuracy: 0.6835\n",
            "Epoch 153/200\n",
            "46/46 [==============================] - 0s 3ms/step - loss: 0.6167 - accuracy: 0.6273 - val_loss: 0.5902 - val_accuracy: 0.6692\n",
            "Epoch 154/200\n",
            "46/46 [==============================] - 0s 3ms/step - loss: 0.6124 - accuracy: 0.6215 - val_loss: 0.5803 - val_accuracy: 0.6760\n",
            "Epoch 155/200\n",
            "46/46 [==============================] - 0s 2ms/step - loss: 0.6192 - accuracy: 0.6300 - val_loss: 0.5852 - val_accuracy: 0.6787\n",
            "Epoch 156/200\n",
            "46/46 [==============================] - 0s 3ms/step - loss: 0.6122 - accuracy: 0.6263 - val_loss: 0.5814 - val_accuracy: 0.6801\n",
            "Epoch 157/200\n",
            "46/46 [==============================] - 0s 3ms/step - loss: 0.6134 - accuracy: 0.6307 - val_loss: 0.5814 - val_accuracy: 0.6822\n",
            "Epoch 158/200\n",
            "46/46 [==============================] - 0s 2ms/step - loss: 0.6135 - accuracy: 0.6246 - val_loss: 0.5800 - val_accuracy: 0.6678\n",
            "Epoch 159/200\n",
            "46/46 [==============================] - 0s 3ms/step - loss: 0.6102 - accuracy: 0.6275 - val_loss: 0.5739 - val_accuracy: 0.6664\n",
            "Epoch 160/200\n",
            "46/46 [==============================] - 0s 2ms/step - loss: 0.6190 - accuracy: 0.6177 - val_loss: 0.5832 - val_accuracy: 0.6637\n",
            "Epoch 161/200\n",
            "46/46 [==============================] - 0s 3ms/step - loss: 0.6148 - accuracy: 0.6264 - val_loss: 0.5830 - val_accuracy: 0.6767\n",
            "Epoch 162/200\n",
            "46/46 [==============================] - 0s 2ms/step - loss: 0.6109 - accuracy: 0.6300 - val_loss: 0.5724 - val_accuracy: 0.6856\n",
            "Epoch 163/200\n",
            "46/46 [==============================] - 0s 3ms/step - loss: 0.6109 - accuracy: 0.6299 - val_loss: 0.5739 - val_accuracy: 0.6808\n",
            "Epoch 164/200\n",
            "46/46 [==============================] - 0s 3ms/step - loss: 0.6074 - accuracy: 0.6370 - val_loss: 0.5744 - val_accuracy: 0.6726\n",
            "Epoch 165/200\n",
            "46/46 [==============================] - 0s 3ms/step - loss: 0.6076 - accuracy: 0.6331 - val_loss: 0.5725 - val_accuracy: 0.6746\n",
            "Epoch 166/200\n",
            "46/46 [==============================] - 0s 4ms/step - loss: 0.6128 - accuracy: 0.6305 - val_loss: 0.5745 - val_accuracy: 0.6910\n",
            "Epoch 167/200\n",
            "46/46 [==============================] - 0s 4ms/step - loss: 0.6122 - accuracy: 0.6275 - val_loss: 0.5790 - val_accuracy: 0.6835\n",
            "Epoch 168/200\n",
            "46/46 [==============================] - 0s 4ms/step - loss: 0.6051 - accuracy: 0.6317 - val_loss: 0.5762 - val_accuracy: 0.6746\n",
            "Epoch 169/200\n",
            "46/46 [==============================] - 0s 4ms/step - loss: 0.6094 - accuracy: 0.6317 - val_loss: 0.5771 - val_accuracy: 0.6712\n",
            "Epoch 170/200\n",
            "46/46 [==============================] - 0s 3ms/step - loss: 0.6110 - accuracy: 0.6280 - val_loss: 0.5718 - val_accuracy: 0.6835\n",
            "Epoch 171/200\n",
            "46/46 [==============================] - 0s 2ms/step - loss: 0.6067 - accuracy: 0.6442 - val_loss: 0.5649 - val_accuracy: 0.6890\n",
            "Epoch 172/200\n",
            "46/46 [==============================] - 0s 2ms/step - loss: 0.6011 - accuracy: 0.6389 - val_loss: 0.5705 - val_accuracy: 0.6849\n",
            "Epoch 173/200\n",
            "46/46 [==============================] - 0s 3ms/step - loss: 0.6073 - accuracy: 0.6437 - val_loss: 0.5731 - val_accuracy: 0.6801\n",
            "Epoch 174/200\n",
            "46/46 [==============================] - 0s 3ms/step - loss: 0.6151 - accuracy: 0.6444 - val_loss: 0.5698 - val_accuracy: 0.6869\n",
            "Epoch 175/200\n",
            "46/46 [==============================] - 0s 2ms/step - loss: 0.6145 - accuracy: 0.6271 - val_loss: 0.5748 - val_accuracy: 0.6726\n",
            "Epoch 176/200\n",
            "46/46 [==============================] - 0s 3ms/step - loss: 0.6078 - accuracy: 0.6334 - val_loss: 0.5786 - val_accuracy: 0.6548\n",
            "Epoch 177/200\n",
            "46/46 [==============================] - 0s 2ms/step - loss: 0.6128 - accuracy: 0.6304 - val_loss: 0.5754 - val_accuracy: 0.6808\n",
            "Epoch 178/200\n",
            "46/46 [==============================] - 0s 3ms/step - loss: 0.6126 - accuracy: 0.6321 - val_loss: 0.5810 - val_accuracy: 0.6733\n",
            "Epoch 179/200\n",
            "46/46 [==============================] - 0s 2ms/step - loss: 0.6058 - accuracy: 0.6369 - val_loss: 0.5675 - val_accuracy: 0.6869\n",
            "Epoch 180/200\n",
            "46/46 [==============================] - 0s 3ms/step - loss: 0.6066 - accuracy: 0.6357 - val_loss: 0.5748 - val_accuracy: 0.6623\n",
            "Epoch 181/200\n",
            "46/46 [==============================] - 0s 3ms/step - loss: 0.6147 - accuracy: 0.6343 - val_loss: 0.5728 - val_accuracy: 0.6849\n",
            "Epoch 182/200\n",
            "46/46 [==============================] - 0s 2ms/step - loss: 0.6088 - accuracy: 0.6377 - val_loss: 0.5707 - val_accuracy: 0.6781\n",
            "Epoch 183/200\n",
            "46/46 [==============================] - 0s 2ms/step - loss: 0.6132 - accuracy: 0.6299 - val_loss: 0.5704 - val_accuracy: 0.6958\n",
            "Epoch 184/200\n",
            "46/46 [==============================] - 0s 3ms/step - loss: 0.6106 - accuracy: 0.6283 - val_loss: 0.5725 - val_accuracy: 0.6890\n",
            "Epoch 185/200\n",
            "46/46 [==============================] - 0s 2ms/step - loss: 0.6076 - accuracy: 0.6437 - val_loss: 0.5725 - val_accuracy: 0.6767\n",
            "Epoch 186/200\n",
            "46/46 [==============================] - 0s 3ms/step - loss: 0.6091 - accuracy: 0.6310 - val_loss: 0.5665 - val_accuracy: 0.6979\n",
            "Epoch 187/200\n",
            "46/46 [==============================] - 0s 2ms/step - loss: 0.6013 - accuracy: 0.6411 - val_loss: 0.5659 - val_accuracy: 0.6917\n",
            "Epoch 188/200\n",
            "46/46 [==============================] - 0s 3ms/step - loss: 0.6061 - accuracy: 0.6420 - val_loss: 0.5723 - val_accuracy: 0.6753\n",
            "Epoch 189/200\n",
            "46/46 [==============================] - 0s 3ms/step - loss: 0.6035 - accuracy: 0.6343 - val_loss: 0.5657 - val_accuracy: 0.6876\n",
            "Epoch 190/200\n",
            "46/46 [==============================] - 0s 2ms/step - loss: 0.6008 - accuracy: 0.6408 - val_loss: 0.5605 - val_accuracy: 0.6883\n",
            "Epoch 191/200\n",
            "46/46 [==============================] - 0s 2ms/step - loss: 0.6036 - accuracy: 0.6374 - val_loss: 0.5571 - val_accuracy: 0.7027\n",
            "Epoch 192/200\n",
            "46/46 [==============================] - 0s 2ms/step - loss: 0.6020 - accuracy: 0.6377 - val_loss: 0.5657 - val_accuracy: 0.6753\n",
            "Epoch 193/200\n",
            "46/46 [==============================] - 0s 2ms/step - loss: 0.6049 - accuracy: 0.6326 - val_loss: 0.5701 - val_accuracy: 0.6828\n",
            "Epoch 194/200\n",
            "46/46 [==============================] - 0s 3ms/step - loss: 0.6017 - accuracy: 0.6418 - val_loss: 0.5618 - val_accuracy: 0.6904\n",
            "Epoch 195/200\n",
            "46/46 [==============================] - 0s 3ms/step - loss: 0.6110 - accuracy: 0.6365 - val_loss: 0.5654 - val_accuracy: 0.6883\n",
            "Epoch 196/200\n",
            "46/46 [==============================] - 0s 2ms/step - loss: 0.6001 - accuracy: 0.6403 - val_loss: 0.5677 - val_accuracy: 0.6897\n",
            "Epoch 197/200\n",
            "46/46 [==============================] - 0s 3ms/step - loss: 0.6078 - accuracy: 0.6352 - val_loss: 0.5716 - val_accuracy: 0.6849\n",
            "Epoch 198/200\n",
            "46/46 [==============================] - 0s 3ms/step - loss: 0.5969 - accuracy: 0.6446 - val_loss: 0.5613 - val_accuracy: 0.6972\n",
            "Epoch 199/200\n",
            "46/46 [==============================] - 0s 3ms/step - loss: 0.6080 - accuracy: 0.6398 - val_loss: 0.5691 - val_accuracy: 0.6924\n",
            "Epoch 200/200\n",
            "46/46 [==============================] - 0s 3ms/step - loss: 0.6034 - accuracy: 0.6345 - val_loss: 0.5742 - val_accuracy: 0.6828\n"
          ]
        }
      ]
    },
    {
      "cell_type": "code",
      "source": [
        "sns.set()\n",
        "acc = hist2.history['accuracy']\n",
        "val = hist2.history['val_accuracy']\n",
        "epochs = range(1, len(acc) + 1)\n",
        "plt.plot(epochs, acc, '-', label='Training accuracy')\n",
        "plt.plot(epochs, val, ':', label='Validation accuracy')\n",
        "plt.title('Training and Validation Accuracy')\n",
        "plt.xlabel('Epoch')\n",
        "plt.ylabel('Accuracy')\n",
        "plt.legend(loc='best')\n",
        "plt.plot()"
      ],
      "metadata": {
        "colab": {
          "base_uri": "https://localhost:8080/",
          "height": 319
        },
        "id": "iB8Kai4AqnT6",
        "outputId": "786fcaec-462b-4c95-e527-16c62ab81eeb"
      },
      "execution_count": null,
      "outputs": [
        {
          "output_type": "execute_result",
          "data": {
            "text/plain": [
              "[]"
            ]
          },
          "metadata": {},
          "execution_count": 98
        },
        {
          "output_type": "display_data",
          "data": {
            "text/plain": [
              "<Figure size 432x288 with 1 Axes>"
            ],
            "image/png": "[encoded data removed]"
          },
          "metadata": {}
        }
      ]
    },
    {
      "cell_type": "code",
      "source": [
        "loss = hist2.history['loss']\n",
        "epochs = range(1, len(loss) + 1)\n",
        "plt.plot(epochs, loss, '-', label='Loss')\n",
        "plt.title('Loss graph')\n",
        "plt.xlabel('Epoch')\n",
        "plt.ylabel('Loss')\n",
        "plt.legend(loc='best')\n",
        "plt.plot()"
      ],
      "metadata": {
        "colab": {
          "base_uri": "https://localhost:8080/",
          "height": 319
        },
        "id": "ve-UUqhoq7p-",
        "outputId": "f8c549f7-8473-46a0-c206-2e9fcdeafcea"
      },
      "execution_count": null,
      "outputs": [
        {
          "output_type": "execute_result",
          "data": {
            "text/plain": [
              "[]"
            ]
          },
          "metadata": {},
          "execution_count": 100
        },
        {
          "output_type": "display_data",
          "data": {
            "text/plain": [
              "<Figure size 432x288 with 1 Axes>"
            ],
            "image/png": "[encoded data removed]"
          },
          "metadata": {}
        }
      ]
    },
    {
      "cell_type": "code",
      "source": [
        "model2.evaluate(X_test, y_test)"
      ],
      "metadata": {
        "colab": {
          "base_uri": "https://localhost:8080/"
        },
        "id": "ScQpcyx7q2rv",
        "outputId": "c52ec673-6146-46d2-da30-147b9b4e7b23"
      },
      "execution_count": null,
      "outputs": [
        {
          "output_type": "stream",
          "name": "stdout",
          "text": [
            "46/46 [==============================] - 0s 884us/step - loss: 0.6161 - accuracy: 0.6480\n"
          ]
        },
        {
          "output_type": "execute_result",
          "data": {
            "text/plain": [
              "[0.6161163449287415, 0.6479836106300354]"
            ]
          },
          "metadata": {},
          "execution_count": 99
        }
      ]
    },
    {
      "cell_type": "markdown",
      "source": [
        "### **Recursive Feature Elimination** [Scikit](https://scikit-learn.org/stable/modules/generated/sklearn.feature_selection.RFE.html)"
      ],
      "metadata": {
        "id": "fWCKzysNsftz"
      }
    },
    {
      "cell_type": "code",
      "source": [
        "from sklearn.feature_selection import RFE\n",
        "from sklearn.ensemble import RandomForestClassifier\n",
        "from sklearn.svm import LinearSVC\n",
        "\n",
        "clf = LinearSVC(C=0.01, penalty=\"l1\", dual=False)\n",
        "clf.fit(X_train, y_train)\n",
        "\n",
        "rfe_selector = RFE(clf)\n",
        "rfe_selector = rfe_selector.fit(X_train, y_train)\n",
        "\n",
        "rfe_values = rfe_selector.get_support()"
      ],
      "metadata": {
        "id": "cEWfN0n2rPe-"
      },
      "execution_count": null,
      "outputs": []
    },
    {
      "cell_type": "code",
      "source": [
        "rfe_selector.support_"
      ],
      "metadata": {
        "colab": {
          "base_uri": "https://localhost:8080/"
        },
        "id": "mdxmA39KtUrB",
        "outputId": "ec76e4f1-415c-413e-d183-441d58239050"
      },
      "execution_count": null,
      "outputs": [
        {
          "output_type": "execute_result",
          "data": {
            "text/plain": [
              "array([False, False, False, False, False,  True,  True,  True,  True,\n",
              "        True,  True,  True,  True,  True,  True,  True, False,  True,\n",
              "       False, False, False, False, False, False,  True,  True,  True,\n",
              "       False, False, False, False, False, False,  True,  True,  True,\n",
              "       False, False, False, False, False, False,  True,  True,  True,\n",
              "        True,  True,  True,  True, False, False,  True, False,  True,\n",
              "       False, False, False, False, False,  True,  True,  True,  True,\n",
              "       False, False, False,  True, False,  True,  True,  True,  True])"
            ]
          },
          "metadata": {},
          "execution_count": 102
        }
      ]
    },
    {
      "cell_type": "code",
      "source": [
        "rfe_indexes = np.where(rfe_values)[0]"
      ],
      "metadata": {
        "id": "_70xBD2gsNN3"
      },
      "execution_count": null,
      "outputs": []
    },
    {
      "cell_type": "code",
      "source": [
        "rfe_indexes, len(rfe_indexes)"
      ],
      "metadata": {
        "colab": {
          "base_uri": "https://localhost:8080/"
        },
        "id": "dtNES7ZHsRVJ",
        "outputId": "ff33a1a4-7a3f-4b4a-f8f8-3e66bc2bfc0e"
      },
      "execution_count": null,
      "outputs": [
        {
          "output_type": "execute_result",
          "data": {
            "text/plain": [
              "(array([ 5,  6,  7,  8,  9, 10, 11, 12, 13, 14, 15, 17, 24, 25, 26, 33, 34,\n",
              "        35, 42, 43, 44, 45, 46, 47, 48, 51, 53, 59, 60, 61, 62, 66, 68, 69,\n",
              "        70, 71]), 36)"
            ]
          },
          "metadata": {},
          "execution_count": 104
        }
      ]
    },
    {
      "cell_type": "code",
      "source": [
        "df.head()"
      ],
      "metadata": {
        "id": "xNLoOvx5tfFu"
      },
      "execution_count": null,
      "outputs": []
    },
    {
      "cell_type": "code",
      "source": [
        "df1 = df.copy()\n",
        "df1.drop(df1.columns[rfe_indexes], axis=1, inplace=True)\n",
        "df1.head()"
      ],
      "metadata": {
        "id": "kU7Va6eYufKi"
      },
      "execution_count": null,
      "outputs": []
    },
    {
      "cell_type": "code",
      "source": [
        "df1 = shuffle(df1)\n",
        "y1 = df1['label']\n",
        "X1 = df1.drop(labels=['label'], axis =1)\n",
        "X1_train, X1_test, y1_train, y1_test = train_test_split(X1, y1, test_size = 0.2, random_state = 0)\n",
        "X1_train, X1_val, y1_train, y1_val = train_test_split(X1_train, y1_train, test_size=0.25, random_state=1) # 0.25 x 0.8 = 0.2"
      ],
      "metadata": {
        "id": "qq_1LzF1vYwa"
      },
      "execution_count": null,
      "outputs": []
    },
    {
      "cell_type": "code",
      "source": [
        "model3 = Sequential()\n",
        "model3.add(Dense(64, activation='relu', input_dim=36))\n",
        "model3.add(Dense(64, activation='relu'))\n",
        "model3.add(Dense(32, activation='relu'))\n",
        "model3.add(Dense(32, activation='relu'))\n",
        "model3.add(Dense(1, activation='sigmoid'))\n",
        "model3.compile(loss='binary_crossentropy', optimizer='adam', metrics=['accuracy'])\n",
        "model3.summary()"
      ],
      "metadata": {
        "colab": {
          "base_uri": "https://localhost:8080/"
        },
        "id": "sijCk-yKwwcO",
        "outputId": "962b9240-6064-42a8-b353-72defe1f3560"
      },
      "execution_count": null,
      "outputs": [
        {
          "output_type": "stream",
          "name": "stdout",
          "text": [
            "Model: \"sequential_10\"\n",
            "_________________________________________________________________\n",
            " Layer (type)                Output Shape              Param #   \n",
            "=================================================================\n",
            " dense_46 (Dense)            (None, 64)                2368      \n",
            "                                                                 \n",
            " dense_47 (Dense)            (None, 64)                4160      \n",
            "                                                                 \n",
            " dense_48 (Dense)            (None, 32)                2080      \n",
            "                                                                 \n",
            " dense_49 (Dense)            (None, 32)                1056      \n",
            "                                                                 \n",
            " dense_50 (Dense)            (None, 1)                 33        \n",
            "                                                                 \n",
            "=================================================================\n",
            "Total params: 9,697\n",
            "Trainable params: 9,697\n",
            "Non-trainable params: 0\n",
            "_________________________________________________________________\n"
          ]
        }
      ]
    },
    {
      "cell_type": "code",
      "source": [
        "hist3 = model3.fit(X1_train, y1_train, validation_data=(X1_val, y1_val), epochs=150, batch_size=128, callbacks=[callback] )"
      ],
      "metadata": {
        "colab": {
          "base_uri": "https://localhost:8080/"
        },
        "id": "-Bg13YNIw36N",
        "outputId": "2c78da93-2815-4faf-aded-47912e9ec56e"
      },
      "execution_count": null,
      "outputs": [
        {
          "output_type": "stream",
          "name": "stdout",
          "text": [
            "Epoch 1/150\n",
            "35/35 [==============================] - 1s 6ms/step - loss: 0.7103 - accuracy: 0.5221 - val_loss: 0.6885 - val_accuracy: 0.5332\n",
            "Epoch 2/150\n",
            "35/35 [==============================] - 0s 3ms/step - loss: 0.6893 - accuracy: 0.5408 - val_loss: 0.6883 - val_accuracy: 0.5325\n",
            "Epoch 3/150\n",
            "35/35 [==============================] - 0s 3ms/step - loss: 0.6948 - accuracy: 0.5331 - val_loss: 0.7034 - val_accuracy: 0.5325\n",
            "Epoch 4/150\n",
            "35/35 [==============================] - 0s 2ms/step - loss: 0.6892 - accuracy: 0.5422 - val_loss: 0.6846 - val_accuracy: 0.5427\n",
            "Epoch 5/150\n",
            "35/35 [==============================] - 0s 2ms/step - loss: 0.6852 - accuracy: 0.5449 - val_loss: 0.6879 - val_accuracy: 0.5311\n",
            "Epoch 6/150\n",
            "35/35 [==============================] - 0s 2ms/step - loss: 0.6820 - accuracy: 0.5588 - val_loss: 0.6784 - val_accuracy: 0.5516\n",
            "Epoch 7/150\n",
            "35/35 [==============================] - 0s 2ms/step - loss: 0.6765 - accuracy: 0.5561 - val_loss: 0.6834 - val_accuracy: 0.5543\n",
            "Epoch 8/150\n",
            "35/35 [==============================] - 0s 2ms/step - loss: 0.6732 - accuracy: 0.5643 - val_loss: 0.6791 - val_accuracy: 0.5591\n",
            "Epoch 9/150\n",
            "35/35 [==============================] - 0s 3ms/step - loss: 0.6739 - accuracy: 0.5622 - val_loss: 0.6869 - val_accuracy: 0.5373\n",
            "Epoch 10/150\n",
            "35/35 [==============================] - 0s 3ms/step - loss: 0.6691 - accuracy: 0.5636 - val_loss: 0.6885 - val_accuracy: 0.5373\n",
            "Epoch 11/150\n",
            "35/35 [==============================] - 0s 2ms/step - loss: 0.6675 - accuracy: 0.5686 - val_loss: 0.6768 - val_accuracy: 0.5530\n",
            "Epoch 12/150\n",
            "35/35 [==============================] - 0s 2ms/step - loss: 0.6688 - accuracy: 0.5764 - val_loss: 0.6826 - val_accuracy: 0.5482\n",
            "Epoch 13/150\n",
            "35/35 [==============================] - 0s 2ms/step - loss: 0.6655 - accuracy: 0.5730 - val_loss: 0.6898 - val_accuracy: 0.5167\n",
            "Epoch 14/150\n",
            "35/35 [==============================] - 0s 2ms/step - loss: 0.6664 - accuracy: 0.5723 - val_loss: 0.6729 - val_accuracy: 0.5509\n",
            "Epoch 15/150\n",
            "35/35 [==============================] - 0s 3ms/step - loss: 0.6635 - accuracy: 0.5775 - val_loss: 0.6838 - val_accuracy: 0.5290\n",
            "Epoch 16/150\n",
            "35/35 [==============================] - 0s 2ms/step - loss: 0.6636 - accuracy: 0.5673 - val_loss: 0.6808 - val_accuracy: 0.5557\n",
            "Epoch 17/150\n",
            "35/35 [==============================] - 0s 3ms/step - loss: 0.6631 - accuracy: 0.5732 - val_loss: 0.6741 - val_accuracy: 0.5612\n",
            "Epoch 18/150\n",
            "35/35 [==============================] - 0s 2ms/step - loss: 0.6599 - accuracy: 0.5695 - val_loss: 0.6743 - val_accuracy: 0.5537\n",
            "Epoch 19/150\n",
            "35/35 [==============================] - 0s 3ms/step - loss: 0.6584 - accuracy: 0.5807 - val_loss: 0.6748 - val_accuracy: 0.5502\n",
            "Epoch 20/150\n",
            "35/35 [==============================] - 0s 3ms/step - loss: 0.6563 - accuracy: 0.5855 - val_loss: 0.6749 - val_accuracy: 0.5489\n",
            "Epoch 21/150\n",
            "35/35 [==============================] - 0s 3ms/step - loss: 0.6513 - accuracy: 0.5958 - val_loss: 0.6832 - val_accuracy: 0.5311\n",
            "Epoch 22/150\n",
            "35/35 [==============================] - 0s 2ms/step - loss: 0.6513 - accuracy: 0.5960 - val_loss: 0.6721 - val_accuracy: 0.5660\n",
            "Epoch 23/150\n",
            "35/35 [==============================] - 0s 3ms/step - loss: 0.6521 - accuracy: 0.5846 - val_loss: 0.6712 - val_accuracy: 0.5489\n",
            "Epoch 24/150\n",
            "35/35 [==============================] - 0s 3ms/step - loss: 0.6591 - accuracy: 0.5636 - val_loss: 0.6704 - val_accuracy: 0.5537\n",
            "Epoch 25/150\n",
            "35/35 [==============================] - 0s 3ms/step - loss: 0.6489 - accuracy: 0.5850 - val_loss: 0.6686 - val_accuracy: 0.5632\n",
            "Epoch 26/150\n",
            "35/35 [==============================] - 0s 2ms/step - loss: 0.6462 - accuracy: 0.5953 - val_loss: 0.6683 - val_accuracy: 0.5598\n",
            "Epoch 27/150\n",
            "35/35 [==============================] - 0s 2ms/step - loss: 0.6469 - accuracy: 0.6040 - val_loss: 0.6695 - val_accuracy: 0.5625\n",
            "Epoch 28/150\n",
            "35/35 [==============================] - 0s 3ms/step - loss: 0.6444 - accuracy: 0.5985 - val_loss: 0.6696 - val_accuracy: 0.5598\n",
            "Epoch 29/150\n",
            "35/35 [==============================] - 0s 2ms/step - loss: 0.6411 - accuracy: 0.6049 - val_loss: 0.6660 - val_accuracy: 0.5557\n",
            "Epoch 30/150\n",
            "35/35 [==============================] - 0s 2ms/step - loss: 0.6402 - accuracy: 0.6056 - val_loss: 0.6670 - val_accuracy: 0.5803\n",
            "Epoch 31/150\n",
            "35/35 [==============================] - 0s 2ms/step - loss: 0.6387 - accuracy: 0.6042 - val_loss: 0.6729 - val_accuracy: 0.5578\n",
            "Epoch 32/150\n",
            "35/35 [==============================] - 0s 3ms/step - loss: 0.6392 - accuracy: 0.6106 - val_loss: 0.6675 - val_accuracy: 0.5625\n",
            "Epoch 33/150\n",
            "35/35 [==============================] - 0s 2ms/step - loss: 0.6401 - accuracy: 0.6001 - val_loss: 0.6658 - val_accuracy: 0.5865\n",
            "Epoch 34/150\n",
            "35/35 [==============================] - 0s 2ms/step - loss: 0.6355 - accuracy: 0.6131 - val_loss: 0.6675 - val_accuracy: 0.5762\n",
            "Epoch 35/150\n",
            "35/35 [==============================] - 0s 2ms/step - loss: 0.6337 - accuracy: 0.6131 - val_loss: 0.6703 - val_accuracy: 0.5448\n",
            "Epoch 36/150\n",
            "35/35 [==============================] - 0s 2ms/step - loss: 0.6313 - accuracy: 0.6060 - val_loss: 0.6739 - val_accuracy: 0.5530\n",
            "Epoch 37/150\n",
            "35/35 [==============================] - 0s 2ms/step - loss: 0.6355 - accuracy: 0.6053 - val_loss: 0.6899 - val_accuracy: 0.5386\n",
            "Epoch 38/150\n",
            "35/35 [==============================] - 0s 3ms/step - loss: 0.6356 - accuracy: 0.6094 - val_loss: 0.6675 - val_accuracy: 0.5557\n",
            "Epoch 39/150\n",
            "35/35 [==============================] - 0s 3ms/step - loss: 0.6307 - accuracy: 0.6218 - val_loss: 0.6662 - val_accuracy: 0.5762\n",
            "Epoch 40/150\n",
            "35/35 [==============================] - 0s 2ms/step - loss: 0.6301 - accuracy: 0.6195 - val_loss: 0.6671 - val_accuracy: 0.5789\n",
            "Epoch 41/150\n",
            "35/35 [==============================] - 0s 2ms/step - loss: 0.6312 - accuracy: 0.6165 - val_loss: 0.6586 - val_accuracy: 0.5803\n",
            "Epoch 42/150\n",
            "35/35 [==============================] - 0s 3ms/step - loss: 0.6257 - accuracy: 0.6233 - val_loss: 0.6642 - val_accuracy: 0.5913\n",
            "Epoch 43/150\n",
            "35/35 [==============================] - 0s 2ms/step - loss: 0.6200 - accuracy: 0.6304 - val_loss: 0.6592 - val_accuracy: 0.5762\n",
            "Epoch 44/150\n",
            "35/35 [==============================] - 0s 2ms/step - loss: 0.6208 - accuracy: 0.6306 - val_loss: 0.6686 - val_accuracy: 0.5810\n",
            "Epoch 45/150\n",
            "35/35 [==============================] - 0s 3ms/step - loss: 0.6210 - accuracy: 0.6309 - val_loss: 0.6669 - val_accuracy: 0.5796\n",
            "Epoch 46/150\n",
            "35/35 [==============================] - 0s 2ms/step - loss: 0.6186 - accuracy: 0.6393 - val_loss: 0.6729 - val_accuracy: 0.5762\n",
            "Epoch 47/150\n",
            "35/35 [==============================] - 0s 2ms/step - loss: 0.6205 - accuracy: 0.6149 - val_loss: 0.6681 - val_accuracy: 0.5830\n",
            "Epoch 48/150\n",
            "35/35 [==============================] - 0s 2ms/step - loss: 0.6194 - accuracy: 0.6231 - val_loss: 0.6603 - val_accuracy: 0.5714\n",
            "Epoch 49/150\n",
            "35/35 [==============================] - 0s 2ms/step - loss: 0.6130 - accuracy: 0.6350 - val_loss: 0.6576 - val_accuracy: 0.5878\n",
            "Epoch 50/150\n",
            "35/35 [==============================] - 0s 2ms/step - loss: 0.6105 - accuracy: 0.6393 - val_loss: 0.6611 - val_accuracy: 0.6056\n",
            "Epoch 51/150\n",
            "35/35 [==============================] - 0s 2ms/step - loss: 0.6168 - accuracy: 0.6334 - val_loss: 0.6552 - val_accuracy: 0.5824\n",
            "Epoch 52/150\n",
            "35/35 [==============================] - 0s 2ms/step - loss: 0.6117 - accuracy: 0.6409 - val_loss: 0.6536 - val_accuracy: 0.6056\n",
            "Epoch 53/150\n",
            "35/35 [==============================] - 0s 3ms/step - loss: 0.6097 - accuracy: 0.6493 - val_loss: 0.6511 - val_accuracy: 0.6015\n",
            "Epoch 54/150\n",
            "35/35 [==============================] - 0s 2ms/step - loss: 0.6036 - accuracy: 0.6500 - val_loss: 0.6526 - val_accuracy: 0.5844\n",
            "Epoch 55/150\n",
            "35/35 [==============================] - 0s 2ms/step - loss: 0.6063 - accuracy: 0.6448 - val_loss: 0.6708 - val_accuracy: 0.5817\n",
            "Epoch 56/150\n",
            "35/35 [==============================] - 0s 2ms/step - loss: 0.5939 - accuracy: 0.6610 - val_loss: 0.6468 - val_accuracy: 0.6070\n",
            "Epoch 57/150\n",
            "35/35 [==============================] - 0s 3ms/step - loss: 0.5987 - accuracy: 0.6560 - val_loss: 0.6459 - val_accuracy: 0.6152\n",
            "Epoch 58/150\n",
            "35/35 [==============================] - 0s 2ms/step - loss: 0.6010 - accuracy: 0.6503 - val_loss: 0.6500 - val_accuracy: 0.5974\n",
            "Epoch 59/150\n",
            "35/35 [==============================] - 0s 2ms/step - loss: 0.5942 - accuracy: 0.6601 - val_loss: 0.6409 - val_accuracy: 0.6172\n",
            "Epoch 60/150\n",
            "35/35 [==============================] - 0s 2ms/step - loss: 0.5947 - accuracy: 0.6566 - val_loss: 0.6397 - val_accuracy: 0.6063\n",
            "Epoch 61/150\n",
            "35/35 [==============================] - 0s 2ms/step - loss: 0.5848 - accuracy: 0.6758 - val_loss: 0.6418 - val_accuracy: 0.6186\n",
            "Epoch 62/150\n",
            "35/35 [==============================] - 0s 2ms/step - loss: 0.5936 - accuracy: 0.6553 - val_loss: 0.6469 - val_accuracy: 0.6186\n",
            "Epoch 63/150\n",
            "35/35 [==============================] - 0s 3ms/step - loss: 0.5848 - accuracy: 0.6731 - val_loss: 0.6467 - val_accuracy: 0.6118\n",
            "Epoch 64/150\n",
            "35/35 [==============================] - 0s 3ms/step - loss: 0.5883 - accuracy: 0.6628 - val_loss: 0.6530 - val_accuracy: 0.6172\n",
            "Epoch 65/150\n",
            "35/35 [==============================] - 0s 2ms/step - loss: 0.5744 - accuracy: 0.6799 - val_loss: 0.6343 - val_accuracy: 0.6056\n",
            "Epoch 66/150\n",
            "35/35 [==============================] - 0s 2ms/step - loss: 0.5752 - accuracy: 0.6856 - val_loss: 0.6318 - val_accuracy: 0.6309\n",
            "Epoch 67/150\n",
            "35/35 [==============================] - 0s 2ms/step - loss: 0.5708 - accuracy: 0.6781 - val_loss: 0.6360 - val_accuracy: 0.6295\n",
            "Epoch 68/150\n",
            "35/35 [==============================] - 0s 2ms/step - loss: 0.5707 - accuracy: 0.6888 - val_loss: 0.6445 - val_accuracy: 0.6227\n",
            "Epoch 69/150\n",
            "35/35 [==============================] - 0s 2ms/step - loss: 0.5577 - accuracy: 0.6965 - val_loss: 0.6247 - val_accuracy: 0.6432\n",
            "Epoch 70/150\n",
            "35/35 [==============================] - 0s 2ms/step - loss: 0.5531 - accuracy: 0.7027 - val_loss: 0.6435 - val_accuracy: 0.6459\n",
            "Epoch 71/150\n",
            "35/35 [==============================] - 0s 2ms/step - loss: 0.5521 - accuracy: 0.6997 - val_loss: 0.6476 - val_accuracy: 0.6179\n",
            "Epoch 72/150\n",
            "35/35 [==============================] - 0s 2ms/step - loss: 0.5508 - accuracy: 0.7000 - val_loss: 0.6149 - val_accuracy: 0.6541\n",
            "Epoch 73/150\n",
            "35/35 [==============================] - 0s 3ms/step - loss: 0.5524 - accuracy: 0.6945 - val_loss: 0.6946 - val_accuracy: 0.5926\n",
            "Epoch 74/150\n",
            "35/35 [==============================] - 0s 3ms/step - loss: 0.5416 - accuracy: 0.7095 - val_loss: 0.6005 - val_accuracy: 0.6678\n",
            "Epoch 75/150\n",
            "35/35 [==============================] - 0s 2ms/step - loss: 0.5541 - accuracy: 0.6949 - val_loss: 0.6128 - val_accuracy: 0.6685\n",
            "Epoch 76/150\n",
            "35/35 [==============================] - 0s 2ms/step - loss: 0.5272 - accuracy: 0.7191 - val_loss: 0.6049 - val_accuracy: 0.6548\n",
            "Epoch 77/150\n",
            "35/35 [==============================] - 0s 3ms/step - loss: 0.5383 - accuracy: 0.7127 - val_loss: 0.6074 - val_accuracy: 0.6555\n",
            "Epoch 78/150\n",
            "35/35 [==============================] - 0s 3ms/step - loss: 0.5421 - accuracy: 0.7045 - val_loss: 0.6157 - val_accuracy: 0.6364\n",
            "Epoch 79/150\n",
            "35/35 [==============================] - 0s 2ms/step - loss: 0.5365 - accuracy: 0.7118 - val_loss: 0.6284 - val_accuracy: 0.6473\n",
            "Epoch 80/150\n",
            "35/35 [==============================] - 0s 3ms/step - loss: 0.5226 - accuracy: 0.7244 - val_loss: 0.6120 - val_accuracy: 0.6473\n",
            "Epoch 81/150\n",
            "35/35 [==============================] - 0s 2ms/step - loss: 0.5073 - accuracy: 0.7399 - val_loss: 0.6056 - val_accuracy: 0.6767\n",
            "Epoch 82/150\n",
            "35/35 [==============================] - 0s 2ms/step - loss: 0.5090 - accuracy: 0.7378 - val_loss: 0.6845 - val_accuracy: 0.6179\n",
            "Epoch 83/150\n",
            "35/35 [==============================] - 0s 2ms/step - loss: 0.5424 - accuracy: 0.7054 - val_loss: 0.5925 - val_accuracy: 0.6808\n",
            "Epoch 84/150\n",
            "35/35 [==============================] - 0s 3ms/step - loss: 0.5228 - accuracy: 0.7230 - val_loss: 0.6090 - val_accuracy: 0.6678\n",
            "Epoch 85/150\n",
            "35/35 [==============================] - 0s 2ms/step - loss: 0.5300 - accuracy: 0.7127 - val_loss: 0.6282 - val_accuracy: 0.6425\n",
            "Epoch 86/150\n",
            "35/35 [==============================] - 0s 2ms/step - loss: 0.4973 - accuracy: 0.7451 - val_loss: 0.5888 - val_accuracy: 0.6678\n",
            "Epoch 87/150\n",
            "35/35 [==============================] - 0s 2ms/step - loss: 0.4928 - accuracy: 0.7462 - val_loss: 0.6117 - val_accuracy: 0.6658\n",
            "Epoch 88/150\n",
            "35/35 [==============================] - 0s 3ms/step - loss: 0.4844 - accuracy: 0.7556 - val_loss: 0.5649 - val_accuracy: 0.6938\n",
            "Epoch 89/150\n",
            "35/35 [==============================] - 0s 2ms/step - loss: 0.4778 - accuracy: 0.7540 - val_loss: 0.5587 - val_accuracy: 0.7102\n",
            "Epoch 90/150\n",
            "35/35 [==============================] - 0s 2ms/step - loss: 0.4681 - accuracy: 0.7690 - val_loss: 0.5494 - val_accuracy: 0.7040\n",
            "Epoch 91/150\n",
            "35/35 [==============================] - 0s 2ms/step - loss: 0.4642 - accuracy: 0.7595 - val_loss: 0.5554 - val_accuracy: 0.6992\n",
            "Epoch 92/150\n",
            "35/35 [==============================] - 0s 2ms/step - loss: 0.4764 - accuracy: 0.7563 - val_loss: 0.5545 - val_accuracy: 0.7013\n",
            "Epoch 93/150\n",
            "35/35 [==============================] - 0s 2ms/step - loss: 0.4818 - accuracy: 0.7615 - val_loss: 0.5900 - val_accuracy: 0.6767\n",
            "Epoch 94/150\n",
            "35/35 [==============================] - 0s 2ms/step - loss: 0.4631 - accuracy: 0.7761 - val_loss: 0.5566 - val_accuracy: 0.7013\n",
            "Epoch 95/150\n",
            "35/35 [==============================] - 0s 2ms/step - loss: 0.4821 - accuracy: 0.7462 - val_loss: 0.5463 - val_accuracy: 0.7143\n",
            "Epoch 96/150\n",
            "35/35 [==============================] - 0s 2ms/step - loss: 0.4684 - accuracy: 0.7633 - val_loss: 0.5328 - val_accuracy: 0.7396\n",
            "Epoch 97/150\n",
            "35/35 [==============================] - 0s 2ms/step - loss: 0.4662 - accuracy: 0.7636 - val_loss: 0.5709 - val_accuracy: 0.6897\n",
            "Epoch 98/150\n",
            "35/35 [==============================] - 0s 3ms/step - loss: 0.4906 - accuracy: 0.7462 - val_loss: 0.5624 - val_accuracy: 0.7006\n",
            "Epoch 99/150\n",
            "35/35 [==============================] - 0s 3ms/step - loss: 0.4436 - accuracy: 0.7759 - val_loss: 0.5315 - val_accuracy: 0.7122\n",
            "Epoch 100/150\n",
            "35/35 [==============================] - 0s 3ms/step - loss: 0.4339 - accuracy: 0.7909 - val_loss: 0.5289 - val_accuracy: 0.7334\n",
            "Epoch 101/150\n",
            "35/35 [==============================] - 0s 2ms/step - loss: 0.4165 - accuracy: 0.8046 - val_loss: 0.5285 - val_accuracy: 0.7375\n",
            "Epoch 102/150\n",
            "35/35 [==============================] - 0s 2ms/step - loss: 0.4104 - accuracy: 0.8071 - val_loss: 0.5139 - val_accuracy: 0.7389\n",
            "Epoch 103/150\n",
            "35/35 [==============================] - 0s 3ms/step - loss: 0.4114 - accuracy: 0.8051 - val_loss: 0.5376 - val_accuracy: 0.7286\n",
            "Epoch 104/150\n",
            "35/35 [==============================] - 0s 2ms/step - loss: 0.4135 - accuracy: 0.7994 - val_loss: 0.5710 - val_accuracy: 0.7068\n",
            "Epoch 105/150\n",
            "35/35 [==============================] - 0s 2ms/step - loss: 0.4139 - accuracy: 0.8019 - val_loss: 0.5246 - val_accuracy: 0.7362\n",
            "Epoch 106/150\n",
            "35/35 [==============================] - 0s 2ms/step - loss: 0.4539 - accuracy: 0.7763 - val_loss: 0.5154 - val_accuracy: 0.7512\n",
            "Epoch 107/150\n",
            "35/35 [==============================] - 0s 3ms/step - loss: 0.4168 - accuracy: 0.7996 - val_loss: 0.5183 - val_accuracy: 0.7389\n",
            "Epoch 108/150\n",
            "35/35 [==============================] - 0s 2ms/step - loss: 0.4097 - accuracy: 0.7996 - val_loss: 0.5085 - val_accuracy: 0.7457\n",
            "Epoch 109/150\n",
            "35/35 [==============================] - 0s 3ms/step - loss: 0.4090 - accuracy: 0.7975 - val_loss: 0.5100 - val_accuracy: 0.7546\n",
            "Epoch 110/150\n",
            "35/35 [==============================] - 0s 3ms/step - loss: 0.4151 - accuracy: 0.7996 - val_loss: 0.5072 - val_accuracy: 0.7464\n",
            "Epoch 111/150\n",
            "35/35 [==============================] - 0s 3ms/step - loss: 0.3941 - accuracy: 0.8155 - val_loss: 0.5159 - val_accuracy: 0.7471\n",
            "Epoch 112/150\n",
            "35/35 [==============================] - 0s 2ms/step - loss: 0.3802 - accuracy: 0.8235 - val_loss: 0.5208 - val_accuracy: 0.7375\n",
            "Epoch 113/150\n",
            "35/35 [==============================] - 0s 2ms/step - loss: 0.3883 - accuracy: 0.8124 - val_loss: 0.5310 - val_accuracy: 0.7471\n",
            "Epoch 114/150\n",
            "35/35 [==============================] - 0s 2ms/step - loss: 0.3716 - accuracy: 0.8299 - val_loss: 0.4809 - val_accuracy: 0.7656\n",
            "Epoch 115/150\n",
            "35/35 [==============================] - 0s 2ms/step - loss: 0.3793 - accuracy: 0.8240 - val_loss: 0.4803 - val_accuracy: 0.7765\n",
            "Epoch 116/150\n",
            "35/35 [==============================] - 0s 2ms/step - loss: 0.3680 - accuracy: 0.8311 - val_loss: 0.4828 - val_accuracy: 0.7731\n",
            "Epoch 117/150\n",
            "35/35 [==============================] - 0s 2ms/step - loss: 0.4250 - accuracy: 0.7905 - val_loss: 0.5717 - val_accuracy: 0.7191\n",
            "Epoch 118/150\n",
            "35/35 [==============================] - 0s 2ms/step - loss: 0.4082 - accuracy: 0.8046 - val_loss: 0.5183 - val_accuracy: 0.7573\n",
            "Epoch 119/150\n",
            "35/35 [==============================] - 0s 2ms/step - loss: 0.3572 - accuracy: 0.8368 - val_loss: 0.4876 - val_accuracy: 0.7635\n",
            "Epoch 120/150\n",
            "35/35 [==============================] - 0s 3ms/step - loss: 0.3605 - accuracy: 0.8363 - val_loss: 0.4956 - val_accuracy: 0.7505\n",
            "Epoch 121/150\n",
            "35/35 [==============================] - 0s 3ms/step - loss: 0.3561 - accuracy: 0.8290 - val_loss: 0.4858 - val_accuracy: 0.7697\n",
            "Epoch 122/150\n",
            "35/35 [==============================] - 0s 2ms/step - loss: 0.3497 - accuracy: 0.8415 - val_loss: 0.5418 - val_accuracy: 0.7532\n",
            "Epoch 123/150\n",
            "35/35 [==============================] - 0s 3ms/step - loss: 0.3566 - accuracy: 0.8315 - val_loss: 0.5267 - val_accuracy: 0.7512\n",
            "Epoch 124/150\n",
            "35/35 [==============================] - 0s 2ms/step - loss: 0.3830 - accuracy: 0.8130 - val_loss: 0.5201 - val_accuracy: 0.7464\n",
            "Epoch 125/150\n",
            "35/35 [==============================] - 0s 2ms/step - loss: 0.3829 - accuracy: 0.8171 - val_loss: 0.5301 - val_accuracy: 0.7491\n",
            "Epoch 126/150\n",
            "35/35 [==============================] - 0s 2ms/step - loss: 0.3463 - accuracy: 0.8434 - val_loss: 0.4952 - val_accuracy: 0.7601\n",
            "Epoch 127/150\n",
            "35/35 [==============================] - 0s 3ms/step - loss: 0.3303 - accuracy: 0.8523 - val_loss: 0.4660 - val_accuracy: 0.7785\n",
            "Epoch 128/150\n",
            "35/35 [==============================] - 0s 2ms/step - loss: 0.3195 - accuracy: 0.8637 - val_loss: 0.4740 - val_accuracy: 0.7731\n",
            "Epoch 129/150\n",
            "35/35 [==============================] - 0s 3ms/step - loss: 0.3160 - accuracy: 0.8586 - val_loss: 0.4562 - val_accuracy: 0.7943\n",
            "Epoch 130/150\n",
            "35/35 [==============================] - 0s 2ms/step - loss: 0.3248 - accuracy: 0.8532 - val_loss: 0.4805 - val_accuracy: 0.7874\n",
            "Epoch 131/150\n",
            "35/35 [==============================] - 0s 3ms/step - loss: 0.3359 - accuracy: 0.8468 - val_loss: 0.4766 - val_accuracy: 0.7847\n",
            "Epoch 132/150\n",
            "35/35 [==============================] - 0s 8ms/step - loss: 0.3286 - accuracy: 0.8477 - val_loss: 0.5413 - val_accuracy: 0.7430\n",
            "Epoch 133/150\n",
            "35/35 [==============================] - 0s 6ms/step - loss: 0.3232 - accuracy: 0.8552 - val_loss: 0.4874 - val_accuracy: 0.7792\n",
            "Epoch 134/150\n",
            "35/35 [==============================] - 0s 6ms/step - loss: 0.3220 - accuracy: 0.8554 - val_loss: 0.6995 - val_accuracy: 0.6617\n",
            "Epoch 135/150\n",
            "35/35 [==============================] - 0s 5ms/step - loss: 0.3865 - accuracy: 0.8155 - val_loss: 0.6206 - val_accuracy: 0.6992\n",
            "Epoch 136/150\n",
            "35/35 [==============================] - 0s 3ms/step - loss: 0.3212 - accuracy: 0.8559 - val_loss: 0.4650 - val_accuracy: 0.7970\n",
            "Epoch 137/150\n",
            "35/35 [==============================] - 0s 3ms/step - loss: 0.3097 - accuracy: 0.8602 - val_loss: 0.4710 - val_accuracy: 0.7813\n",
            "Epoch 138/150\n",
            "35/35 [==============================] - 0s 2ms/step - loss: 0.3233 - accuracy: 0.8509 - val_loss: 0.4811 - val_accuracy: 0.7908\n",
            "Epoch 139/150\n",
            "35/35 [==============================] - 0s 2ms/step - loss: 0.3562 - accuracy: 0.8276 - val_loss: 0.5291 - val_accuracy: 0.7546\n",
            "Epoch 140/150\n",
            "35/35 [==============================] - 0s 3ms/step - loss: 0.3306 - accuracy: 0.8459 - val_loss: 0.4624 - val_accuracy: 0.7908\n",
            "Epoch 141/150\n",
            "35/35 [==============================] - 0s 2ms/step - loss: 0.3570 - accuracy: 0.8274 - val_loss: 0.4865 - val_accuracy: 0.7826\n",
            "Epoch 142/150\n",
            "35/35 [==============================] - 0s 2ms/step - loss: 0.3093 - accuracy: 0.8602 - val_loss: 0.4801 - val_accuracy: 0.7676\n",
            "Epoch 143/150\n",
            "35/35 [==============================] - 0s 3ms/step - loss: 0.3156 - accuracy: 0.8566 - val_loss: 0.4688 - val_accuracy: 0.7943\n",
            "Epoch 144/150\n",
            "35/35 [==============================] - 0s 2ms/step - loss: 0.3389 - accuracy: 0.8425 - val_loss: 0.4698 - val_accuracy: 0.7833\n",
            "Epoch 145/150\n",
            "35/35 [==============================] - 0s 2ms/step - loss: 0.2907 - accuracy: 0.8744 - val_loss: 0.4739 - val_accuracy: 0.7949\n",
            "Epoch 146/150\n",
            "35/35 [==============================] - 0s 2ms/step - loss: 0.3013 - accuracy: 0.8664 - val_loss: 0.4290 - val_accuracy: 0.8038\n",
            "Epoch 147/150\n",
            "35/35 [==============================] - 0s 3ms/step - loss: 0.3019 - accuracy: 0.8653 - val_loss: 0.4504 - val_accuracy: 0.8004\n",
            "Epoch 148/150\n",
            "35/35 [==============================] - 0s 3ms/step - loss: 0.3062 - accuracy: 0.8584 - val_loss: 0.4574 - val_accuracy: 0.7970\n",
            "Epoch 149/150\n",
            "35/35 [==============================] - 0s 2ms/step - loss: 0.3236 - accuracy: 0.8497 - val_loss: 0.4463 - val_accuracy: 0.7888\n",
            "Epoch 150/150\n",
            "35/35 [==============================] - 0s 2ms/step - loss: 0.2949 - accuracy: 0.8643 - val_loss: 0.4297 - val_accuracy: 0.8127\n"
          ]
        }
      ]
    },
    {
      "cell_type": "code",
      "source": [
        "sns.set()\n",
        "acc = hist3.history['accuracy']\n",
        "val = hist3.history['val_accuracy']\n",
        "epochs = range(1, len(acc) + 1)\n",
        " \n",
        "plt.plot(epochs, acc, '-', label='Training accuracy')\n",
        "plt.plot(epochs, val, ':', label='Validation accuracy')\n",
        "plt.title('Training and Validation Accuracy')\n",
        "plt.xlabel('Epoch')\n",
        "plt.ylabel('Accuracy')\n",
        "plt.legend(loc='best')\n",
        "plt.plot()"
      ],
      "metadata": {
        "colab": {
          "base_uri": "https://localhost:8080/",
          "height": 319
        },
        "id": "K0UAKddnxJme",
        "outputId": "c530e920-a467-49ab-8953-f4d42cecfea9"
      },
      "execution_count": null,
      "outputs": [
        {
          "output_type": "execute_result",
          "data": {
            "text/plain": [
              "[]"
            ]
          },
          "metadata": {},
          "execution_count": 127
        },
        {
          "output_type": "display_data",
          "data": {
            "text/plain": [
              "<Figure size 432x288 with 1 Axes>"
            ],
            "image/png": "[encoded data removed]"
          },
          "metadata": {}
        }
      ]
    },
    {
      "cell_type": "code",
      "source": [
        "loss = hist3.history['loss']\n",
        "epochs = range(1, len(loss) + 1)\n",
        "plt.plot(epochs, loss, '-', label='Loss')\n",
        "plt.title('Loss graph')\n",
        "plt.xlabel('Epoch')\n",
        "plt.ylabel('Loss')\n",
        "plt.legend(loc='best')\n",
        "plt.plot()"
      ],
      "metadata": {
        "colab": {
          "base_uri": "https://localhost:8080/",
          "height": 319
        },
        "id": "86Xuc5FLyc0p",
        "outputId": "d713b857-81ac-46ca-805f-5e2a070e03a9"
      },
      "execution_count": null,
      "outputs": [
        {
          "output_type": "execute_result",
          "data": {
            "text/plain": [
              "[]"
            ]
          },
          "metadata": {},
          "execution_count": 130
        },
        {
          "output_type": "display_data",
          "data": {
            "text/plain": [
              "<Figure size 432x288 with 1 Axes>"
            ],
            "image/png": "[encoded data removed]"
          },
          "metadata": {}
        }
      ]
    },
    {
      "cell_type": "code",
      "source": [
        "model3.evaluate(X1_test, y1_test)"
      ],
      "metadata": {
        "colab": {
          "base_uri": "https://localhost:8080/"
        },
        "id": "__SWiNQzyRZh",
        "outputId": "62176b8e-ecd0-4241-809f-a735a2c98b4d"
      },
      "execution_count": null,
      "outputs": [
        {
          "output_type": "stream",
          "name": "stdout",
          "text": [
            "46/46 [==============================] - 0s 955us/step - loss: 0.4340 - accuracy: 0.8072\n"
          ]
        },
        {
          "output_type": "execute_result",
          "data": {
            "text/plain": [
              "[0.433998167514801, 0.8072453737258911]"
            ]
          },
          "metadata": {},
          "execution_count": 128
        }
      ]
    },
    {
      "cell_type": "markdown",
      "source": [
        "# **Regularization**"
      ],
      "metadata": {
        "id": "kzujDmg5yz1H"
      }
    },
    {
      "cell_type": "code",
      "source": [
        "from keras.regularizers import l2"
      ],
      "metadata": {
        "id": "pH5ABRINy1Og"
      },
      "execution_count": null,
      "outputs": []
    },
    {
      "cell_type": "code",
      "source": [
        "reg = l2(0.003) # 0.003, 0.001, 0.0003"
      ],
      "metadata": {
        "id": "5Y0hCMdKzS_4"
      },
      "execution_count": null,
      "outputs": []
    },
    {
      "cell_type": "code",
      "source": [
        "model4 = Sequential()\n",
        "model4.add(Dense(64, activation='relu', input_dim=36, activity_regularizer=reg))\n",
        "model4.add(Dense(64, activation='relu',activity_regularizer=reg))\n",
        "model4.add(Dense(32, activation='relu',activity_regularizer=reg))\n",
        "model4.add(Dense(32, activation='relu',activity_regularizer=reg))\n",
        "model4.add(Dense(1, activation='sigmoid'))\n",
        "model4.compile(loss='binary_crossentropy', optimizer='adam', metrics=['accuracy'])\n",
        "model4.summary()"
      ],
      "metadata": {
        "colab": {
          "base_uri": "https://localhost:8080/"
        },
        "id": "6Ev40_xDyzc1",
        "outputId": "b5e6172d-6e02-4afa-bafa-8bb59ca73473"
      },
      "execution_count": null,
      "outputs": [
        {
          "output_type": "stream",
          "name": "stdout",
          "text": [
            "Model: \"sequential_11\"\n",
            "_________________________________________________________________\n",
            " Layer (type)                Output Shape              Param #   \n",
            "=================================================================\n",
            " dense_51 (Dense)            (None, 64)                2368      \n",
            "                                                                 \n",
            " dense_52 (Dense)            (None, 64)                4160      \n",
            "                                                                 \n",
            " dense_53 (Dense)            (None, 32)                2080      \n",
            "                                                                 \n",
            " dense_54 (Dense)            (None, 32)                1056      \n",
            "                                                                 \n",
            " dense_55 (Dense)            (None, 1)                 33        \n",
            "                                                                 \n",
            "=================================================================\n",
            "Total params: 9,697\n",
            "Trainable params: 9,697\n",
            "Non-trainable params: 0\n",
            "_________________________________________________________________\n"
          ]
        }
      ]
    },
    {
      "cell_type": "code",
      "source": [
        "hist4 = model4.fit(X1_train, y1_train, validation_data=(X1_val, y1_val), epochs=100, batch_size=128, callbacks=[callback] )"
      ],
      "metadata": {
        "colab": {
          "base_uri": "https://localhost:8080/"
        },
        "id": "Vf3fdE5xznzX",
        "outputId": "2ca69d82-7387-4013-f8b3-624709075951"
      },
      "execution_count": null,
      "outputs": [
        {
          "output_type": "stream",
          "name": "stdout",
          "text": [
            "Epoch 1/100\n",
            "35/35 [==============================] - 1s 7ms/step - loss: 2.8919 - accuracy: 0.4979 - val_loss: 1.9376 - val_accuracy: 0.5113\n",
            "Epoch 2/100\n",
            "35/35 [==============================] - 0s 2ms/step - loss: 1.5866 - accuracy: 0.5276 - val_loss: 1.3360 - val_accuracy: 0.5215\n",
            "Epoch 3/100\n",
            "35/35 [==============================] - 0s 3ms/step - loss: 1.1660 - accuracy: 0.5326 - val_loss: 1.0437 - val_accuracy: 0.5277\n",
            "Epoch 4/100\n",
            "35/35 [==============================] - 0s 3ms/step - loss: 0.9514 - accuracy: 0.5477 - val_loss: 0.8905 - val_accuracy: 0.5345\n",
            "Epoch 5/100\n",
            "35/35 [==============================] - 0s 3ms/step - loss: 0.8380 - accuracy: 0.5568 - val_loss: 0.8095 - val_accuracy: 0.5427\n",
            "Epoch 6/100\n",
            "35/35 [==============================] - 0s 2ms/step - loss: 0.7775 - accuracy: 0.5586 - val_loss: 0.7651 - val_accuracy: 0.5325\n",
            "Epoch 7/100\n",
            "35/35 [==============================] - 0s 2ms/step - loss: 0.7450 - accuracy: 0.5518 - val_loss: 0.7401 - val_accuracy: 0.5448\n",
            "Epoch 8/100\n",
            "35/35 [==============================] - 0s 2ms/step - loss: 0.7262 - accuracy: 0.5577 - val_loss: 0.7257 - val_accuracy: 0.5338\n",
            "Epoch 9/100\n",
            "35/35 [==============================] - 0s 2ms/step - loss: 0.7143 - accuracy: 0.5584 - val_loss: 0.7155 - val_accuracy: 0.5537\n",
            "Epoch 10/100\n",
            "35/35 [==============================] - 0s 3ms/step - loss: 0.7060 - accuracy: 0.5572 - val_loss: 0.7082 - val_accuracy: 0.5598\n",
            "Epoch 11/100\n",
            "35/35 [==============================] - 0s 2ms/step - loss: 0.6986 - accuracy: 0.5677 - val_loss: 0.7010 - val_accuracy: 0.5714\n",
            "Epoch 12/100\n",
            "35/35 [==============================] - 0s 2ms/step - loss: 0.6932 - accuracy: 0.5707 - val_loss: 0.6967 - val_accuracy: 0.5632\n",
            "Epoch 13/100\n",
            "35/35 [==============================] - 0s 3ms/step - loss: 0.6877 - accuracy: 0.5791 - val_loss: 0.6943 - val_accuracy: 0.5598\n",
            "Epoch 14/100\n",
            "35/35 [==============================] - 0s 3ms/step - loss: 0.6825 - accuracy: 0.5759 - val_loss: 0.6901 - val_accuracy: 0.5666\n",
            "Epoch 15/100\n",
            "35/35 [==============================] - 0s 2ms/step - loss: 0.6782 - accuracy: 0.5791 - val_loss: 0.6864 - val_accuracy: 0.5612\n",
            "Epoch 16/100\n",
            "35/35 [==============================] - 0s 2ms/step - loss: 0.6751 - accuracy: 0.5848 - val_loss: 0.6813 - val_accuracy: 0.5796\n",
            "Epoch 17/100\n",
            "35/35 [==============================] - 0s 3ms/step - loss: 0.6692 - accuracy: 0.5882 - val_loss: 0.6821 - val_accuracy: 0.5673\n",
            "Epoch 18/100\n",
            "35/35 [==============================] - 0s 2ms/step - loss: 0.6673 - accuracy: 0.5958 - val_loss: 0.6772 - val_accuracy: 0.5885\n",
            "Epoch 19/100\n",
            "35/35 [==============================] - 0s 2ms/step - loss: 0.6625 - accuracy: 0.5971 - val_loss: 0.6741 - val_accuracy: 0.5906\n",
            "Epoch 20/100\n",
            "35/35 [==============================] - 0s 2ms/step - loss: 0.6591 - accuracy: 0.6024 - val_loss: 0.6747 - val_accuracy: 0.5728\n",
            "Epoch 21/100\n",
            "35/35 [==============================] - 0s 2ms/step - loss: 0.6534 - accuracy: 0.6085 - val_loss: 0.6728 - val_accuracy: 0.5885\n",
            "Epoch 22/100\n",
            "35/35 [==============================] - 0s 2ms/step - loss: 0.6494 - accuracy: 0.6135 - val_loss: 0.6710 - val_accuracy: 0.5892\n",
            "Epoch 23/100\n",
            "35/35 [==============================] - 0s 4ms/step - loss: 0.6486 - accuracy: 0.6129 - val_loss: 0.6678 - val_accuracy: 0.5967\n",
            "Epoch 24/100\n",
            "35/35 [==============================] - 0s 3ms/step - loss: 0.6428 - accuracy: 0.6320 - val_loss: 0.6729 - val_accuracy: 0.5878\n",
            "Epoch 25/100\n",
            "35/35 [==============================] - 0s 3ms/step - loss: 0.6448 - accuracy: 0.6188 - val_loss: 0.6715 - val_accuracy: 0.5995\n",
            "Epoch 26/100\n",
            "35/35 [==============================] - 0s 2ms/step - loss: 0.6415 - accuracy: 0.6238 - val_loss: 0.6730 - val_accuracy: 0.5803\n",
            "Epoch 27/100\n",
            "35/35 [==============================] - 0s 3ms/step - loss: 0.6382 - accuracy: 0.6288 - val_loss: 0.6678 - val_accuracy: 0.5960\n",
            "Epoch 28/100\n",
            "35/35 [==============================] - 0s 2ms/step - loss: 0.6348 - accuracy: 0.6259 - val_loss: 0.6658 - val_accuracy: 0.5878\n",
            "Epoch 29/100\n",
            "35/35 [==============================] - 0s 3ms/step - loss: 0.6328 - accuracy: 0.6270 - val_loss: 0.6681 - val_accuracy: 0.6029\n",
            "Epoch 30/100\n",
            "35/35 [==============================] - 0s 3ms/step - loss: 0.6244 - accuracy: 0.6425 - val_loss: 0.6656 - val_accuracy: 0.6206\n",
            "Epoch 31/100\n",
            "35/35 [==============================] - 0s 2ms/step - loss: 0.6234 - accuracy: 0.6384 - val_loss: 0.6670 - val_accuracy: 0.6111\n",
            "Epoch 32/100\n",
            "35/35 [==============================] - 0s 3ms/step - loss: 0.6196 - accuracy: 0.6489 - val_loss: 0.6711 - val_accuracy: 0.5995\n",
            "Epoch 33/100\n",
            "35/35 [==============================] - 0s 3ms/step - loss: 0.6248 - accuracy: 0.6461 - val_loss: 0.6702 - val_accuracy: 0.5892\n",
            "Epoch 34/100\n",
            "35/35 [==============================] - 0s 3ms/step - loss: 0.6169 - accuracy: 0.6525 - val_loss: 0.6622 - val_accuracy: 0.6118\n",
            "Epoch 35/100\n",
            "35/35 [==============================] - 0s 2ms/step - loss: 0.6133 - accuracy: 0.6457 - val_loss: 0.6710 - val_accuracy: 0.5960\n",
            "Epoch 36/100\n",
            "35/35 [==============================] - 0s 2ms/step - loss: 0.6147 - accuracy: 0.6500 - val_loss: 0.6591 - val_accuracy: 0.6193\n",
            "Epoch 37/100\n",
            "35/35 [==============================] - 0s 3ms/step - loss: 0.6125 - accuracy: 0.6537 - val_loss: 0.6662 - val_accuracy: 0.6063\n",
            "Epoch 38/100\n",
            "35/35 [==============================] - 0s 2ms/step - loss: 0.6050 - accuracy: 0.6598 - val_loss: 0.6654 - val_accuracy: 0.6213\n",
            "Epoch 39/100\n",
            "35/35 [==============================] - 0s 2ms/step - loss: 0.5961 - accuracy: 0.6724 - val_loss: 0.6667 - val_accuracy: 0.6241\n",
            "Epoch 40/100\n",
            "35/35 [==============================] - 0s 2ms/step - loss: 0.5961 - accuracy: 0.6685 - val_loss: 0.6619 - val_accuracy: 0.6247\n",
            "Epoch 41/100\n",
            "35/35 [==============================] - 0s 2ms/step - loss: 0.5943 - accuracy: 0.6676 - val_loss: 0.6659 - val_accuracy: 0.6124\n",
            "Epoch 42/100\n",
            "35/35 [==============================] - 0s 2ms/step - loss: 0.5911 - accuracy: 0.6749 - val_loss: 0.6721 - val_accuracy: 0.6022\n",
            "Epoch 43/100\n",
            "35/35 [==============================] - 0s 2ms/step - loss: 0.5894 - accuracy: 0.6753 - val_loss: 0.6560 - val_accuracy: 0.6398\n",
            "Epoch 44/100\n",
            "35/35 [==============================] - 0s 3ms/step - loss: 0.5965 - accuracy: 0.6607 - val_loss: 0.6625 - val_accuracy: 0.6179\n",
            "Epoch 45/100\n",
            "35/35 [==============================] - 0s 3ms/step - loss: 0.5872 - accuracy: 0.6774 - val_loss: 0.6630 - val_accuracy: 0.6145\n",
            "Epoch 46/100\n",
            "35/35 [==============================] - 0s 2ms/step - loss: 0.5835 - accuracy: 0.6762 - val_loss: 0.6566 - val_accuracy: 0.6316\n",
            "Epoch 47/100\n",
            "35/35 [==============================] - 0s 2ms/step - loss: 0.5782 - accuracy: 0.6874 - val_loss: 0.6602 - val_accuracy: 0.6152\n",
            "Epoch 48/100\n",
            "35/35 [==============================] - 0s 3ms/step - loss: 0.5711 - accuracy: 0.6913 - val_loss: 0.6455 - val_accuracy: 0.6466\n",
            "Epoch 49/100\n",
            "35/35 [==============================] - 0s 3ms/step - loss: 0.5784 - accuracy: 0.6810 - val_loss: 0.6610 - val_accuracy: 0.6350\n",
            "Epoch 50/100\n",
            "35/35 [==============================] - 0s 2ms/step - loss: 0.5708 - accuracy: 0.6890 - val_loss: 0.6474 - val_accuracy: 0.6398\n",
            "Epoch 51/100\n",
            "35/35 [==============================] - 0s 3ms/step - loss: 0.5616 - accuracy: 0.6977 - val_loss: 0.6628 - val_accuracy: 0.6186\n",
            "Epoch 52/100\n",
            "35/35 [==============================] - 0s 2ms/step - loss: 0.5716 - accuracy: 0.6917 - val_loss: 0.6626 - val_accuracy: 0.6220\n",
            "Epoch 53/100\n",
            "35/35 [==============================] - 0s 2ms/step - loss: 0.5731 - accuracy: 0.6886 - val_loss: 0.6541 - val_accuracy: 0.6364\n",
            "Epoch 54/100\n",
            "35/35 [==============================] - 0s 3ms/step - loss: 0.5605 - accuracy: 0.6988 - val_loss: 0.6622 - val_accuracy: 0.6336\n",
            "Epoch 55/100\n",
            "35/35 [==============================] - 0s 3ms/step - loss: 0.5519 - accuracy: 0.7018 - val_loss: 0.6541 - val_accuracy: 0.6398\n",
            "Epoch 56/100\n",
            "35/35 [==============================] - 0s 3ms/step - loss: 0.5585 - accuracy: 0.7116 - val_loss: 0.6509 - val_accuracy: 0.6425\n",
            "Epoch 57/100\n",
            "35/35 [==============================] - 0s 2ms/step - loss: 0.5527 - accuracy: 0.7107 - val_loss: 0.6502 - val_accuracy: 0.6452\n",
            "Epoch 58/100\n",
            "35/35 [==============================] - 0s 2ms/step - loss: 0.5524 - accuracy: 0.7027 - val_loss: 0.6437 - val_accuracy: 0.6514\n",
            "Epoch 59/100\n",
            "35/35 [==============================] - 0s 2ms/step - loss: 0.5378 - accuracy: 0.7189 - val_loss: 0.6542 - val_accuracy: 0.6425\n",
            "Epoch 60/100\n",
            "35/35 [==============================] - 0s 2ms/step - loss: 0.5412 - accuracy: 0.7161 - val_loss: 0.6513 - val_accuracy: 0.6452\n",
            "Epoch 61/100\n",
            "35/35 [==============================] - 0s 3ms/step - loss: 0.5393 - accuracy: 0.7175 - val_loss: 0.6572 - val_accuracy: 0.6494\n",
            "Epoch 62/100\n",
            "35/35 [==============================] - 0s 2ms/step - loss: 0.5385 - accuracy: 0.7180 - val_loss: 0.6619 - val_accuracy: 0.6329\n",
            "Epoch 63/100\n",
            "35/35 [==============================] - 0s 2ms/step - loss: 0.5282 - accuracy: 0.7221 - val_loss: 0.6578 - val_accuracy: 0.6528\n",
            "Epoch 64/100\n",
            "35/35 [==============================] - 0s 2ms/step - loss: 0.5291 - accuracy: 0.7198 - val_loss: 0.6536 - val_accuracy: 0.6617\n",
            "Epoch 65/100\n",
            "35/35 [==============================] - 0s 3ms/step - loss: 0.5235 - accuracy: 0.7310 - val_loss: 0.6506 - val_accuracy: 0.6548\n",
            "Epoch 66/100\n",
            "35/35 [==============================] - 0s 3ms/step - loss: 0.5364 - accuracy: 0.7209 - val_loss: 0.6662 - val_accuracy: 0.6514\n",
            "Epoch 67/100\n",
            "35/35 [==============================] - 0s 3ms/step - loss: 0.5216 - accuracy: 0.7351 - val_loss: 0.6661 - val_accuracy: 0.6500\n",
            "Epoch 68/100\n",
            "35/35 [==============================] - 0s 3ms/step - loss: 0.5229 - accuracy: 0.7223 - val_loss: 0.6585 - val_accuracy: 0.6514\n",
            "Epoch 69/100\n",
            "35/35 [==============================] - 0s 2ms/step - loss: 0.5117 - accuracy: 0.7412 - val_loss: 0.6754 - val_accuracy: 0.6377\n",
            "Epoch 70/100\n",
            "35/35 [==============================] - 0s 3ms/step - loss: 0.5119 - accuracy: 0.7280 - val_loss: 0.6458 - val_accuracy: 0.6692\n",
            "Epoch 71/100\n",
            "35/35 [==============================] - 0s 2ms/step - loss: 0.5044 - accuracy: 0.7380 - val_loss: 0.6822 - val_accuracy: 0.6377\n",
            "Epoch 72/100\n",
            "35/35 [==============================] - 0s 2ms/step - loss: 0.5073 - accuracy: 0.7369 - val_loss: 0.6696 - val_accuracy: 0.6535\n",
            "Epoch 73/100\n",
            "35/35 [==============================] - 0s 2ms/step - loss: 0.5032 - accuracy: 0.7462 - val_loss: 0.6555 - val_accuracy: 0.6753\n",
            "Epoch 74/100\n",
            "35/35 [==============================] - 0s 3ms/step - loss: 0.5031 - accuracy: 0.7367 - val_loss: 0.6582 - val_accuracy: 0.6705\n",
            "Epoch 75/100\n",
            "35/35 [==============================] - 0s 3ms/step - loss: 0.5017 - accuracy: 0.7428 - val_loss: 0.6919 - val_accuracy: 0.6309\n",
            "Epoch 76/100\n",
            "35/35 [==============================] - 0s 2ms/step - loss: 0.5040 - accuracy: 0.7396 - val_loss: 0.6686 - val_accuracy: 0.6671\n",
            "Epoch 77/100\n",
            "35/35 [==============================] - 0s 3ms/step - loss: 0.5010 - accuracy: 0.7419 - val_loss: 0.6447 - val_accuracy: 0.6637\n",
            "Epoch 78/100\n",
            "35/35 [==============================] - 0s 3ms/step - loss: 0.4935 - accuracy: 0.7485 - val_loss: 0.6571 - val_accuracy: 0.6630\n",
            "Epoch 78: early stopping\n"
          ]
        }
      ]
    },
    {
      "cell_type": "code",
      "source": [
        "sns.set()\n",
        "acc = hist4.history['accuracy']\n",
        "val = hist4.history['val_accuracy']\n",
        "epochs = range(1, len(acc) + 1)\n",
        " \n",
        "plt.plot(epochs, acc, '-', label='Training accuracy')\n",
        "plt.plot(epochs, val, ':', label='Validation accuracy')\n",
        "plt.title('Training and Validation Accuracy')\n",
        "plt.xlabel('Epoch')\n",
        "plt.ylabel('Accuracy')\n",
        "plt.legend(loc='best')\n",
        "plt.plot()"
      ],
      "metadata": {
        "colab": {
          "base_uri": "https://localhost:8080/",
          "height": 319
        },
        "id": "UbtMRQRozvNH",
        "outputId": "0d9dd34d-eb24-4602-8274-8f55c4f6839c"
      },
      "execution_count": null,
      "outputs": [
        {
          "output_type": "execute_result",
          "data": {
            "text/plain": [
              "[]"
            ]
          },
          "metadata": {},
          "execution_count": 92
        },
        {
          "output_type": "display_data",
          "data": {
            "text/plain": [
              "<Figure size 432x288 with 1 Axes>"
            ],
            "image/png": "[encoded data removed]"
          },
          "metadata": {}
        }
      ]
    },
    {
      "cell_type": "code",
      "source": [
        "loss = hist4.history['loss']\n",
        "epochs = range(1, len(loss) + 1)\n",
        "plt.plot(epochs, loss, '-', label='Loss')\n",
        "plt.title('Loss graph')\n",
        "plt.xlabel('Epoch')\n",
        "plt.ylabel('Loss')\n",
        "plt.legend(loc='best')\n",
        "plt.plot()"
      ],
      "metadata": {
        "colab": {
          "base_uri": "https://localhost:8080/",
          "height": 319
        },
        "id": "OyrbuxJI0Fyf",
        "outputId": "92ecf319-8dfb-4d98-e53a-38565749d3ae"
      },
      "execution_count": null,
      "outputs": [
        {
          "output_type": "execute_result",
          "data": {
            "text/plain": [
              "[]"
            ]
          },
          "metadata": {},
          "execution_count": 136
        },
        {
          "output_type": "display_data",
          "data": {
            "text/plain": [
              "<Figure size 432x288 with 1 Axes>"
            ],
            "image/png": "[encoded data removed]"
          },
          "metadata": {}
        }
      ]
    },
    {
      "cell_type": "code",
      "source": [
        "model4.evaluate(X1_test, y1_test)"
      ],
      "metadata": {
        "colab": {
          "base_uri": "https://localhost:8080/"
        },
        "id": "6gsA3Sh10Chl",
        "outputId": "86771ad2-acce-477b-c35e-3c7a8fd8f264"
      },
      "execution_count": null,
      "outputs": [
        {
          "output_type": "stream",
          "name": "stdout",
          "text": [
            "46/46 [==============================] - 0s 992us/step - loss: 0.7528 - accuracy: 0.6398\n"
          ]
        },
        {
          "output_type": "execute_result",
          "data": {
            "text/plain": [
              "[0.7528250813484192, 0.6397812962532043]"
            ]
          },
          "metadata": {},
          "execution_count": 135
        }
      ]
    },
    {
      "cell_type": "code",
      "source": [
        "#@title read, crop (5m valid samples interval) and filter (high & lowpass) data files\n",
        "import mne\n",
        "import pandas as pd\n",
        "import numpy as np\n",
        "\n",
        "scenarios = [\"idle\", \"nback\", \"driving\", \"driving_and_nback\"]\n",
        "subjects = [\"Donald\", \"Ganavi\", \"Nicolas\"]\n",
        "sessions = [1, 2, 3]\n",
        "colors_matte = [\"navy\", \"darkgreen\", \"maroon\", \"orange\"] \n",
        "colors = [\"blue\", \"green\", \"red\", \"yellow\"]\n",
        "markers = [\"v\", \"^\", \"<\", 4]\n",
        "\n",
        "# automatically crop a subject's recording data according to it's events\n",
        "def crop_recording_data(filename, subject_data):\n",
        "    # extract events\n",
        "    events = [el[\"list\"] for el in subject_data.info[\"events\"]]\n",
        "    # extract last valid recorded sample\n",
        "    last_sample = events[-2][0]\n",
        "    # discard exit event and last valid recording event\n",
        "    events = events[:-2]\n",
        "    # reverse order of events\n",
        "    events = events[::-1]\n",
        "    # determine valid sample interval\n",
        "    curent_sample = 0\n",
        "    for event in events:\n",
        "        # calculate elapsed time\n",
        "        current_sample = event[0]\n",
        "        tmp = last_sample - current_sample\n",
        "        minutes = tmp/250/60\n",
        "        if (minutes >= 4.8) and (minutes <= 5.22):\n",
        "            print(\"Info for:\", filename,\n",
        "                  \"first valid sample:\", current_sample,\n",
        "                  \"last valid sample:\", last_sample,\n",
        "                  \"minutes:\", minutes)\n",
        "            # point of cropping has to be minutes\n",
        "            return subject_data.crop(tmin=current_sample/250, tmax=last_sample/250, verbose=False)\n",
        "\n",
        "\n",
        "def trim_and_standardize_data(data):\n",
        "    trim_std_data = []\n",
        "    for channel in data:\n",
        "        p1, p99 = np.percentile(channel, [1, 99])\n",
        "        # replace extreme values with the appropriate percentiles\n",
        "        channel[channel < p1] = p1\n",
        "        channel[channel > p99] = p99\n",
        "        # standardize data\n",
        "        channel = (channel-channel.mean())/channel.std()\n",
        "        trim_std_data.append(channel)\n",
        "    return np.array(trim_std_data)\n",
        "\n",
        "data_dict = {}\n",
        "filtered_data_dict = {}\n",
        "channel_names = mne.io.read_raw_fif(\"./s3_idle_Donald.fif\", preload=True, verbose=\"Error\").pick(\"eeg\").ch_names\n",
        "\n",
        "# constrct filtered data dict for plotting purposes and unfiltered for further processing\n",
        "# (since filtering removes information that is beneficial for classification)\n",
        "for session in sessions:\n",
        "    # save data for one session across all scenarios and subjects\n",
        "    session_dict = {}\n",
        "    filtered_session_dict = {}\n",
        "    for scenario in scenarios:\n",
        "        # save data for one scenario across all subjects\n",
        "        subject_data_array = []\n",
        "        filtered_subject_data_array = []\n",
        "        for subject in subjects:\n",
        "            # construct filename\n",
        "            filename = \"s\"+str(session)+\"_\"+scenario+\"_\"+subject+\".fif\"\n",
        "            # read subject data\n",
        "            data = mne.io.read_raw_fif(filename, preload=True, verbose=\"Error\").pick(\"eeg\")\n",
        "            # crop subject data\n",
        "            cropped_data = crop_recording_data(filename, data)\n",
        "            # filter cropped subject data\n",
        "            filtered_data = cropped_data.copy().filter(l_freq=0.1, h_freq=49.9, picks=\"all\", method=\"fir\",\n",
        "                                                fir_window=\"hamming\", fir_design='firwin', verbose=False)\n",
        "            # trim and standardize unfiltered data\n",
        "            unfiltered = trim_and_standardize_data(cropped_data.get_data())\n",
        "            # trim and standardize filtered data\n",
        "            filtered = trim_and_standardize_data(filtered_data.get_data())\n",
        "            # append subject data for one scenario\n",
        "            subject_data_array.append(unfiltered)\n",
        "            filtered_subject_data_array.append(filtered)\n",
        "        # fill dict, mapping scenario to all subjects' data\n",
        "        session_dict.update({scenario:subject_data_array})\n",
        "        filtered_session_dict.update({scenario:filtered_subject_data_array})\n",
        "    # fill dict, mapping session number to all scenarios\n",
        "    data_dict.update({session:session_dict})\n",
        "    filtered_data_dict.update({session:filtered_session_dict})"
      ],
      "metadata": {
        "colab": {
          "base_uri": "https://localhost:8080/"
        },
        "id": "ZeQaFUrj4Jo7",
        "outputId": "db1d4a40-3b22-419f-b2d3-033f99bbb532"
      },
      "execution_count": null,
      "outputs": [
        {
          "output_type": "stream",
          "name": "stdout",
          "text": [
            "Info for: s1_idle_Donald.fif first valid sample: 9529 last valid sample: 84799 minutes: 5.018\n",
            "Info for: s1_idle_Ganavi.fif first valid sample: 9469 last valid sample: 85559 minutes: 5.072666666666667\n",
            "Info for: s1_idle_Nicolas.fif first valid sample: 10259 last valid sample: 86239 minutes: 5.065333333333333\n",
            "Info for: s1_nback_Donald.fif first valid sample: 6839 last valid sample: 82289 minutes: 5.03\n",
            "Info for: s1_nback_Ganavi.fif first valid sample: 164019 last valid sample: 240479 minutes: 5.097333333333333\n",
            "Info for: s1_nback_Nicolas.fif first valid sample: 234509 last valid sample: 310599 minutes: 5.072666666666667\n",
            "Info for: s1_driving_Donald.fif first valid sample: 265529 last valid sample: 342809 minutes: 5.152\n",
            "Info for: s1_driving_Ganavi.fif first valid sample: 11649 last valid sample: 87879 minutes: 5.082\n",
            "Info for: s1_driving_Nicolas.fif first valid sample: 43759 last valid sample: 119309 minutes: 5.036666666666666\n",
            "Info for: s1_driving_and_nback_Donald.fif first valid sample: 4359 last valid sample: 79689 minutes: 5.022\n",
            "Info for: s1_driving_and_nback_Ganavi.fif first valid sample: 15279 last valid sample: 91899 minutes: 5.1080000000000005\n",
            "Info for: s1_driving_and_nback_Nicolas.fif first valid sample: 11269 last valid sample: 87589 minutes: 5.087999999999999\n",
            "Info for: s2_idle_Donald.fif first valid sample: 7359 last valid sample: 82309 minutes: 4.996666666666667\n",
            "Info for: s2_idle_Ganavi.fif first valid sample: 10639 last valid sample: 86969 minutes: 5.088666666666667\n",
            "Info for: s2_idle_Nicolas.fif first valid sample: 15229 last valid sample: 90789 minutes: 5.037333333333334\n",
            "Info for: s2_nback_Donald.fif first valid sample: 148989 last valid sample: 224479 minutes: 5.032666666666667\n",
            "Info for: s2_nback_Ganavi.fif first valid sample: 155149 last valid sample: 230459 minutes: 5.020666666666667\n",
            "Info for: s2_nback_Nicolas.fif first valid sample: 149699 last valid sample: 225139 minutes: 5.029333333333333\n",
            "Info for: s2_driving_Donald.fif first valid sample: 17099 last valid sample: 92739 minutes: 5.042666666666666\n",
            "Info for: s2_driving_Ganavi.fif first valid sample: 27939 last valid sample: 104439 minutes: 5.1\n",
            "Info for: s2_driving_Nicolas.fif first valid sample: 12049 last valid sample: 87689 minutes: 5.042666666666666\n",
            "Info for: s2_driving_and_nback_Donald.fif first valid sample: 8199 last valid sample: 84059 minutes: 5.057333333333333\n",
            "Info for: s2_driving_and_nback_Ganavi.fif first valid sample: 16189 last valid sample: 92239 minutes: 5.069999999999999\n",
            "Info for: s2_driving_and_nback_Nicolas.fif first valid sample: 28199 last valid sample: 103879 minutes: 5.045333333333334\n",
            "Info for: s3_idle_Donald.fif first valid sample: 5749 last valid sample: 81499 minutes: 5.05\n",
            "Info for: s3_idle_Ganavi.fif first valid sample: 12299 last valid sample: 88489 minutes: 5.0793333333333335\n",
            "Info for: s3_idle_Nicolas.fif first valid sample: 11779 last valid sample: 86219 minutes: 4.962666666666666\n",
            "Info for: s3_nback_Donald.fif first valid sample: 5489 last valid sample: 81259 minutes: 5.051333333333333\n",
            "Info for: s3_nback_Ganavi.fif first valid sample: 19619 last valid sample: 96239 minutes: 5.1080000000000005\n",
            "Info for: s3_nback_Nicolas.fif first valid sample: 6319 last valid sample: 81819 minutes: 5.033333333333333\n",
            "Info for: s3_driving_Donald.fif first valid sample: 140649 last valid sample: 215659 minutes: 5.000666666666667\n",
            "Info for: s3_driving_Ganavi.fif first valid sample: 48329 last valid sample: 124379 minutes: 5.069999999999999\n",
            "Info for: s3_driving_Nicolas.fif first valid sample: 20049 last valid sample: 98289 minutes: 5.215999999999999\n",
            "Info for: s3_driving_and_nback_Donald.fif first valid sample: 12619 last valid sample: 88749 minutes: 5.075333333333333\n",
            "Info for: s3_driving_and_nback_Ganavi.fif first valid sample: 64429 last valid sample: 139489 minutes: 5.0040000000000004\n",
            "Info for: s3_driving_and_nback_Nicolas.fif first valid sample: 150719 last valid sample: 225999 minutes: 5.018666666666666\n"
          ]
        }
      ]
    },
    {
      "cell_type": "markdown",
      "source": [
        "# **IntraSubject Model**"
      ],
      "metadata": {
        "id": "ATywGRcT2RHK"
      }
    },
    {
      "cell_type": "code",
      "source": [
        "donald_scenario ={\n",
        "    \"idle\": [idle_donald.get_data(), idle_donald2.get_data(), idle_donald3.get_data()],\n",
        "    \"nback\": [nback_donald.get_data(), nback_donald2.get_data(), nback_donald3.get_data()],\n",
        "    \"driving\": [driving_donald.get_data(),driving_donald2.get_data(), driving_donald3.get_data()],\n",
        "    \"driving_and_nback\": [driving_and_nback_donald.get_data(), driving_and_nback_donald2.get_data(), driving_and_nback_donald3.get_data()]\n",
        "}\n",
        "std_scenario_donald  = standardize_data(donald_scenario)\n",
        "scenarios_mne_donald = merge_data(std_scenario_donald)\n",
        "scenarios_psd_donald = compute_psd(scenarios_mne_donald)\n",
        "\n",
        "scenario_features_donald = remove_nan(scenarios_psd_donald)\n",
        "\n",
        "driving_df = pd.DataFrame(data=scenario_features_donald[\"driving\"])\n",
        "driving_and_nback_df = pd.DataFrame(data=scenario_features_donald[\"driving_and_nback\"])\n",
        "\n",
        "#  binary setting\n",
        "X_donald = pd.concat([driving_df, driving_and_nback_df])\n",
        "print(\"X_donald.shape: \", X_donald.shape)\n",
        "\n",
        "driving_labels = np.zeros(len(driving_df), dtype=np.int8)\n",
        "driving_and_nback_labels = np.ones(len(driving_and_nback_df), dtype=np.int8)\n",
        "\n",
        "y_donald = np.concatenate((driving_labels, driving_and_nback_labels),\n",
        "                                axis=0,\n",
        "                                dtype=np.int8)\n",
        "print(\"y_donald.shape:\", y_donald.shape)\n",
        "df_donald = X_donald.copy(deep= True)\n",
        "df_donald['label'] = y_donald\n",
        "df_donald = shuffle(df_donald)\n",
        "# print(df_donald.head())\n",
        "\n",
        "yd = df_donald['label']\n",
        "Xd = df_donald.drop(labels=['label'], axis =1)\n",
        "\n",
        "from sklearn.model_selection import train_test_split\n",
        "Xd_train, Xd_test, yd_train, yd_test = train_test_split(Xd, yd, test_size = 0.1, random_state = 0)\n",
        "Xd_train, Xd_val, yd_train, yd_val = train_test_split(Xd, yd, test_size = 0.1, random_state = 0)"
      ],
      "metadata": {
        "colab": {
          "base_uri": "https://localhost:8080/"
        },
        "id": "4M4wBhXcmR0W",
        "outputId": "497d0445-e683-4872-90bc-fb0f50b3ec46"
      },
      "execution_count": null,
      "outputs": [
        {
          "output_type": "stream",
          "name": "stdout",
          "text": [
            "Creating RawArray with float64 data, n_channels=8, n_times=225173\n",
            "    Range : 0 ... 225172 =      0.000 ...   900.688 secs\n",
            "Ready.\n",
            "Creating RawArray with float64 data, n_channels=8, n_times=233302\n",
            "    Range : 0 ... 233301 =      0.000 ...   933.204 secs\n",
            "Ready.\n",
            "Creating RawArray with float64 data, n_channels=8, n_times=371372\n",
            "    Range : 0 ... 371371 =      0.000 ...  1485.484 secs\n",
            "Ready.\n",
            "Creating RawArray with float64 data, n_channels=8, n_times=240762\n",
            "    Range : 0 ... 240761 =      0.000 ...   963.044 secs\n",
            "Ready.\n",
            "idle time in minutes:  15.011533333333334\n",
            "nback time in minutes:  15.553466666666667\n",
            "driving time in minutes:  24.758133333333333\n",
            "driving_and_nback time in minutes:  16.0508\n",
            "Effective window size : 1.000 (s)\n",
            "idle shape:  (8, 51, 1800)\n",
            "Effective window size : 1.000 (s)\n",
            "nback shape:  (8, 51, 1865)\n",
            "Effective window size : 1.000 (s)\n",
            "driving shape:  (8, 51, 2969)\n",
            "Effective window size : 1.000 (s)\n",
            "driving_and_nback shape:  (8, 51, 1925)\n",
            "X_donald.shape:  (4894, 72)\n",
            "y_donald.shape: (4894,)\n"
          ]
        },
        {
          "output_type": "stream",
          "name": "stderr",
          "text": [
            "/usr/local/lib/python3.7/dist-packages/ipykernel_launcher.py:31: RuntimeWarning: invalid value encountered in true_divide\n",
            "/usr/local/lib/python3.7/dist-packages/ipykernel_launcher.py:32: RuntimeWarning: invalid value encountered in true_divide\n",
            "/usr/local/lib/python3.7/dist-packages/ipykernel_launcher.py:33: RuntimeWarning: invalid value encountered in true_divide\n",
            "/usr/local/lib/python3.7/dist-packages/ipykernel_launcher.py:34: RuntimeWarning: invalid value encountered in true_divide\n"
          ]
        }
      ]
    },
    {
      "cell_type": "code",
      "source": [],
      "metadata": {
        "id": "VqgCmwk01NKE"
      },
      "execution_count": null,
      "outputs": []
    },
    {
      "cell_type": "code",
      "source": [
        "modeld = Sequential()\n",
        "modeld.add(Dense(32, activation='relu', input_dim=72))\n",
        "modeld.add(Dense(16, activation='relu'))\n",
        "modeld.add(Dense(1, activation='sigmoid'))\n",
        "modeld.compile(loss='binary_crossentropy', optimizer='adam', metrics=['accuracy'])\n",
        "modeld.summary()"
      ],
      "metadata": {
        "colab": {
          "base_uri": "https://localhost:8080/"
        },
        "id": "zzUyh-Lnreh5",
        "outputId": "e0e9ac30-b23b-4866-ec36-4c668d69d612"
      },
      "execution_count": null,
      "outputs": [
        {
          "output_type": "stream",
          "name": "stdout",
          "text": [
            "Model: \"sequential_3\"\n",
            "_________________________________________________________________\n",
            " Layer (type)                Output Shape              Param #   \n",
            "=================================================================\n",
            " dense_9 (Dense)             (None, 32)                2336      \n",
            "                                                                 \n",
            " dense_10 (Dense)            (None, 16)                528       \n",
            "                                                                 \n",
            " dense_11 (Dense)            (None, 1)                 17        \n",
            "                                                                 \n",
            "=================================================================\n",
            "Total params: 2,881\n",
            "Trainable params: 2,881\n",
            "Non-trainable params: 0\n",
            "_________________________________________________________________\n"
          ]
        }
      ]
    },
    {
      "cell_type": "code",
      "source": [
        "histd = modeld.fit(Xd_train, yd_train, validation_data=(Xd_val, yd_val), epochs=150, batch_size=32)\n",
        "# callbacks=[callback]"
      ],
      "metadata": {
        "colab": {
          "base_uri": "https://localhost:8080/"
        },
        "id": "LD-onwdzrxBZ",
        "outputId": "cc8f0d36-0ddf-42fa-c0c0-6a699dc94701"
      },
      "execution_count": null,
      "outputs": [
        {
          "output_type": "stream",
          "name": "stdout",
          "text": [
            "Epoch 1/150\n",
            "138/138 [==============================] - 1s 4ms/step - loss: 0.9820 - accuracy: 0.5697 - val_loss: 0.6613 - val_accuracy: 0.5755\n",
            "Epoch 2/150\n",
            "138/138 [==============================] - 0s 2ms/step - loss: 0.6455 - accuracy: 0.5677 - val_loss: 0.6373 - val_accuracy: 0.6327\n",
            "Epoch 3/150\n",
            "138/138 [==============================] - 0s 2ms/step - loss: 0.6191 - accuracy: 0.5854 - val_loss: 0.6280 - val_accuracy: 0.6204\n",
            "Epoch 4/150\n",
            "138/138 [==============================] - 0s 2ms/step - loss: 0.6074 - accuracy: 0.6090 - val_loss: 0.6211 - val_accuracy: 0.6163\n",
            "Epoch 5/150\n",
            "138/138 [==============================] - 0s 2ms/step - loss: 0.5998 - accuracy: 0.6242 - val_loss: 0.6205 - val_accuracy: 0.6429\n",
            "Epoch 6/150\n",
            "138/138 [==============================] - 0s 2ms/step - loss: 0.5965 - accuracy: 0.6365 - val_loss: 0.6155 - val_accuracy: 0.6122\n",
            "Epoch 7/150\n",
            "138/138 [==============================] - 0s 2ms/step - loss: 0.5908 - accuracy: 0.6417 - val_loss: 0.6137 - val_accuracy: 0.6224\n",
            "Epoch 8/150\n",
            "138/138 [==============================] - 0s 2ms/step - loss: 0.5877 - accuracy: 0.6449 - val_loss: 0.6103 - val_accuracy: 0.6327\n",
            "Epoch 9/150\n",
            "138/138 [==============================] - 0s 2ms/step - loss: 0.5841 - accuracy: 0.6517 - val_loss: 0.6187 - val_accuracy: 0.6429\n",
            "Epoch 10/150\n",
            "138/138 [==============================] - 0s 2ms/step - loss: 0.5853 - accuracy: 0.6583 - val_loss: 0.6175 - val_accuracy: 0.6286\n",
            "Epoch 11/150\n",
            "138/138 [==============================] - 0s 2ms/step - loss: 0.5801 - accuracy: 0.6601 - val_loss: 0.6029 - val_accuracy: 0.6490\n",
            "Epoch 12/150\n",
            "138/138 [==============================] - 0s 2ms/step - loss: 0.5761 - accuracy: 0.6680 - val_loss: 0.6148 - val_accuracy: 0.6429\n",
            "Epoch 13/150\n",
            "138/138 [==============================] - 0s 2ms/step - loss: 0.5767 - accuracy: 0.6637 - val_loss: 0.6111 - val_accuracy: 0.6408\n",
            "Epoch 14/150\n",
            "138/138 [==============================] - 0s 2ms/step - loss: 0.5748 - accuracy: 0.6662 - val_loss: 0.6084 - val_accuracy: 0.6224\n",
            "Epoch 15/150\n",
            "138/138 [==============================] - 0s 3ms/step - loss: 0.5717 - accuracy: 0.6676 - val_loss: 0.6038 - val_accuracy: 0.6265\n",
            "Epoch 16/150\n",
            "138/138 [==============================] - 0s 2ms/step - loss: 0.5685 - accuracy: 0.6789 - val_loss: 0.6020 - val_accuracy: 0.6531\n",
            "Epoch 17/150\n",
            "138/138 [==============================] - 0s 2ms/step - loss: 0.5677 - accuracy: 0.6753 - val_loss: 0.6068 - val_accuracy: 0.6265\n",
            "Epoch 18/150\n",
            "138/138 [==============================] - 0s 2ms/step - loss: 0.5683 - accuracy: 0.6717 - val_loss: 0.6021 - val_accuracy: 0.6551\n",
            "Epoch 19/150\n",
            "138/138 [==============================] - 0s 3ms/step - loss: 0.5624 - accuracy: 0.6814 - val_loss: 0.6027 - val_accuracy: 0.6551\n",
            "Epoch 20/150\n",
            "138/138 [==============================] - 0s 2ms/step - loss: 0.5615 - accuracy: 0.6798 - val_loss: 0.6024 - val_accuracy: 0.6367\n",
            "Epoch 21/150\n",
            "138/138 [==============================] - 0s 2ms/step - loss: 0.5627 - accuracy: 0.6776 - val_loss: 0.6287 - val_accuracy: 0.6510\n",
            "Epoch 22/150\n",
            "138/138 [==============================] - 0s 2ms/step - loss: 0.5618 - accuracy: 0.6844 - val_loss: 0.6024 - val_accuracy: 0.6388\n",
            "Epoch 23/150\n",
            "138/138 [==============================] - 0s 2ms/step - loss: 0.5580 - accuracy: 0.6796 - val_loss: 0.6055 - val_accuracy: 0.6449\n",
            "Epoch 24/150\n",
            "138/138 [==============================] - 0s 2ms/step - loss: 0.5552 - accuracy: 0.6817 - val_loss: 0.6106 - val_accuracy: 0.6490\n",
            "Epoch 25/150\n",
            "138/138 [==============================] - 0s 3ms/step - loss: 0.5517 - accuracy: 0.6898 - val_loss: 0.6146 - val_accuracy: 0.6469\n",
            "Epoch 26/150\n",
            "138/138 [==============================] - 0s 2ms/step - loss: 0.5525 - accuracy: 0.6860 - val_loss: 0.6026 - val_accuracy: 0.6612\n",
            "Epoch 27/150\n",
            "138/138 [==============================] - 0s 2ms/step - loss: 0.5535 - accuracy: 0.6889 - val_loss: 0.6205 - val_accuracy: 0.6510\n",
            "Epoch 28/150\n",
            "138/138 [==============================] - 0s 2ms/step - loss: 0.5482 - accuracy: 0.6901 - val_loss: 0.6331 - val_accuracy: 0.6510\n",
            "Epoch 29/150\n",
            "138/138 [==============================] - 0s 2ms/step - loss: 0.5485 - accuracy: 0.6921 - val_loss: 0.6166 - val_accuracy: 0.6388\n",
            "Epoch 30/150\n",
            "138/138 [==============================] - 0s 2ms/step - loss: 0.5442 - accuracy: 0.6985 - val_loss: 0.6089 - val_accuracy: 0.6429\n",
            "Epoch 31/150\n",
            "138/138 [==============================] - 0s 2ms/step - loss: 0.5450 - accuracy: 0.7041 - val_loss: 0.6636 - val_accuracy: 0.6102\n",
            "Epoch 32/150\n",
            "138/138 [==============================] - 0s 3ms/step - loss: 0.5488 - accuracy: 0.6916 - val_loss: 0.5993 - val_accuracy: 0.6612\n",
            "Epoch 33/150\n",
            "138/138 [==============================] - 0s 2ms/step - loss: 0.5452 - accuracy: 0.6916 - val_loss: 0.6078 - val_accuracy: 0.6469\n",
            "Epoch 34/150\n",
            "138/138 [==============================] - 0s 2ms/step - loss: 0.5404 - accuracy: 0.6985 - val_loss: 0.6169 - val_accuracy: 0.6245\n",
            "Epoch 35/150\n",
            "138/138 [==============================] - 0s 2ms/step - loss: 0.5346 - accuracy: 0.7073 - val_loss: 0.6333 - val_accuracy: 0.6347\n",
            "Epoch 36/150\n",
            "138/138 [==============================] - 0s 2ms/step - loss: 0.5338 - accuracy: 0.7073 - val_loss: 0.6356 - val_accuracy: 0.6551\n",
            "Epoch 37/150\n",
            "138/138 [==============================] - 0s 2ms/step - loss: 0.5341 - accuracy: 0.6994 - val_loss: 0.6136 - val_accuracy: 0.6592\n",
            "Epoch 38/150\n",
            "138/138 [==============================] - 0s 2ms/step - loss: 0.5330 - accuracy: 0.7084 - val_loss: 0.6158 - val_accuracy: 0.6490\n",
            "Epoch 39/150\n",
            "138/138 [==============================] - 0s 2ms/step - loss: 0.5315 - accuracy: 0.7069 - val_loss: 0.6628 - val_accuracy: 0.6490\n",
            "Epoch 40/150\n",
            "138/138 [==============================] - 0s 2ms/step - loss: 0.5328 - accuracy: 0.7055 - val_loss: 0.6493 - val_accuracy: 0.6347\n",
            "Epoch 41/150\n",
            "138/138 [==============================] - 0s 2ms/step - loss: 0.5288 - accuracy: 0.7010 - val_loss: 0.6338 - val_accuracy: 0.6510\n",
            "Epoch 42/150\n",
            "138/138 [==============================] - 0s 3ms/step - loss: 0.5289 - accuracy: 0.7064 - val_loss: 0.6085 - val_accuracy: 0.6429\n",
            "Epoch 43/150\n",
            "138/138 [==============================] - 0s 2ms/step - loss: 0.5249 - accuracy: 0.7125 - val_loss: 0.6207 - val_accuracy: 0.6551\n",
            "Epoch 44/150\n",
            "138/138 [==============================] - 0s 2ms/step - loss: 0.5263 - accuracy: 0.7080 - val_loss: 0.6503 - val_accuracy: 0.6531\n",
            "Epoch 45/150\n",
            "138/138 [==============================] - 0s 2ms/step - loss: 0.5224 - accuracy: 0.7146 - val_loss: 0.6138 - val_accuracy: 0.6776\n",
            "Epoch 46/150\n",
            "138/138 [==============================] - 0s 2ms/step - loss: 0.5216 - accuracy: 0.7178 - val_loss: 0.6633 - val_accuracy: 0.6449\n",
            "Epoch 47/150\n",
            "138/138 [==============================] - 0s 2ms/step - loss: 0.5166 - accuracy: 0.7214 - val_loss: 0.6236 - val_accuracy: 0.6551\n",
            "Epoch 48/150\n",
            "138/138 [==============================] - 1s 5ms/step - loss: 0.5189 - accuracy: 0.7212 - val_loss: 0.6143 - val_accuracy: 0.6551\n",
            "Epoch 49/150\n",
            "138/138 [==============================] - 1s 4ms/step - loss: 0.5170 - accuracy: 0.7180 - val_loss: 0.6096 - val_accuracy: 0.6653\n",
            "Epoch 50/150\n",
            "138/138 [==============================] - 1s 5ms/step - loss: 0.5117 - accuracy: 0.7255 - val_loss: 0.6254 - val_accuracy: 0.6531\n",
            "Epoch 51/150\n",
            "138/138 [==============================] - 1s 4ms/step - loss: 0.5262 - accuracy: 0.7132 - val_loss: 0.6266 - val_accuracy: 0.6633\n",
            "Epoch 52/150\n",
            "138/138 [==============================] - 0s 2ms/step - loss: 0.5158 - accuracy: 0.7203 - val_loss: 0.6116 - val_accuracy: 0.6612\n",
            "Epoch 53/150\n",
            "138/138 [==============================] - 0s 3ms/step - loss: 0.5132 - accuracy: 0.7209 - val_loss: 0.6151 - val_accuracy: 0.6755\n",
            "Epoch 54/150\n",
            "138/138 [==============================] - 0s 2ms/step - loss: 0.5110 - accuracy: 0.7287 - val_loss: 0.6184 - val_accuracy: 0.6673\n",
            "Epoch 55/150\n",
            "138/138 [==============================] - 0s 3ms/step - loss: 0.5084 - accuracy: 0.7264 - val_loss: 0.6044 - val_accuracy: 0.6551\n",
            "Epoch 56/150\n",
            "138/138 [==============================] - 0s 2ms/step - loss: 0.5082 - accuracy: 0.7234 - val_loss: 0.6223 - val_accuracy: 0.6633\n",
            "Epoch 57/150\n",
            "138/138 [==============================] - 0s 3ms/step - loss: 0.5054 - accuracy: 0.7293 - val_loss: 0.6447 - val_accuracy: 0.6490\n",
            "Epoch 58/150\n",
            "138/138 [==============================] - 0s 2ms/step - loss: 0.5022 - accuracy: 0.7332 - val_loss: 0.6329 - val_accuracy: 0.6571\n",
            "Epoch 59/150\n",
            "138/138 [==============================] - 0s 2ms/step - loss: 0.5010 - accuracy: 0.7257 - val_loss: 0.6139 - val_accuracy: 0.6531\n",
            "Epoch 60/150\n",
            "138/138 [==============================] - 0s 2ms/step - loss: 0.5047 - accuracy: 0.7332 - val_loss: 0.6199 - val_accuracy: 0.6714\n",
            "Epoch 61/150\n",
            "138/138 [==============================] - 0s 2ms/step - loss: 0.4992 - accuracy: 0.7318 - val_loss: 0.6280 - val_accuracy: 0.6673\n",
            "Epoch 62/150\n",
            "138/138 [==============================] - 0s 2ms/step - loss: 0.4982 - accuracy: 0.7298 - val_loss: 0.6711 - val_accuracy: 0.6490\n",
            "Epoch 63/150\n",
            "138/138 [==============================] - 0s 2ms/step - loss: 0.4942 - accuracy: 0.7339 - val_loss: 0.6120 - val_accuracy: 0.6755\n",
            "Epoch 64/150\n",
            "138/138 [==============================] - 0s 2ms/step - loss: 0.4889 - accuracy: 0.7393 - val_loss: 0.6331 - val_accuracy: 0.6592\n",
            "Epoch 65/150\n",
            "138/138 [==============================] - 0s 2ms/step - loss: 0.5009 - accuracy: 0.7327 - val_loss: 0.6298 - val_accuracy: 0.6612\n",
            "Epoch 66/150\n",
            "138/138 [==============================] - 0s 3ms/step - loss: 0.4975 - accuracy: 0.7377 - val_loss: 0.6224 - val_accuracy: 0.6694\n",
            "Epoch 67/150\n",
            "138/138 [==============================] - 0s 2ms/step - loss: 0.4871 - accuracy: 0.7339 - val_loss: 0.6470 - val_accuracy: 0.6673\n",
            "Epoch 68/150\n",
            "138/138 [==============================] - 0s 2ms/step - loss: 0.4887 - accuracy: 0.7402 - val_loss: 0.6333 - val_accuracy: 0.6735\n",
            "Epoch 69/150\n",
            "138/138 [==============================] - 0s 2ms/step - loss: 0.4875 - accuracy: 0.7405 - val_loss: 0.6489 - val_accuracy: 0.6531\n",
            "Epoch 70/150\n",
            "138/138 [==============================] - 1s 4ms/step - loss: 0.4840 - accuracy: 0.7448 - val_loss: 0.6281 - val_accuracy: 0.6776\n",
            "Epoch 71/150\n",
            "138/138 [==============================] - 1s 8ms/step - loss: 0.4875 - accuracy: 0.7357 - val_loss: 0.6432 - val_accuracy: 0.6735\n",
            "Epoch 72/150\n",
            "138/138 [==============================] - 0s 3ms/step - loss: 0.4832 - accuracy: 0.7464 - val_loss: 0.6682 - val_accuracy: 0.6776\n",
            "Epoch 73/150\n",
            "138/138 [==============================] - 0s 2ms/step - loss: 0.4824 - accuracy: 0.7452 - val_loss: 0.6518 - val_accuracy: 0.6796\n",
            "Epoch 74/150\n",
            "138/138 [==============================] - 0s 2ms/step - loss: 0.4843 - accuracy: 0.7432 - val_loss: 0.6606 - val_accuracy: 0.6673\n",
            "Epoch 75/150\n",
            "138/138 [==============================] - 0s 2ms/step - loss: 0.4806 - accuracy: 0.7475 - val_loss: 0.6373 - val_accuracy: 0.6816\n",
            "Epoch 76/150\n",
            "138/138 [==============================] - 0s 3ms/step - loss: 0.4801 - accuracy: 0.7470 - val_loss: 0.6265 - val_accuracy: 0.6776\n",
            "Epoch 77/150\n",
            "138/138 [==============================] - 0s 2ms/step - loss: 0.4822 - accuracy: 0.7448 - val_loss: 0.6526 - val_accuracy: 0.6735\n",
            "Epoch 78/150\n",
            "138/138 [==============================] - 0s 2ms/step - loss: 0.4754 - accuracy: 0.7500 - val_loss: 0.6335 - val_accuracy: 0.6694\n",
            "Epoch 79/150\n",
            "138/138 [==============================] - 0s 3ms/step - loss: 0.4711 - accuracy: 0.7584 - val_loss: 0.6299 - val_accuracy: 0.6837\n",
            "Epoch 80/150\n",
            "138/138 [==============================] - 0s 2ms/step - loss: 0.4730 - accuracy: 0.7534 - val_loss: 0.6507 - val_accuracy: 0.6653\n",
            "Epoch 81/150\n",
            "138/138 [==============================] - 0s 2ms/step - loss: 0.4771 - accuracy: 0.7384 - val_loss: 0.6494 - val_accuracy: 0.6755\n",
            "Epoch 82/150\n",
            "138/138 [==============================] - 0s 3ms/step - loss: 0.4718 - accuracy: 0.7527 - val_loss: 0.6222 - val_accuracy: 0.6776\n",
            "Epoch 83/150\n",
            "138/138 [==============================] - 0s 2ms/step - loss: 0.4827 - accuracy: 0.7416 - val_loss: 0.6782 - val_accuracy: 0.6776\n",
            "Epoch 84/150\n",
            "138/138 [==============================] - 0s 3ms/step - loss: 0.4696 - accuracy: 0.7536 - val_loss: 0.6613 - val_accuracy: 0.6857\n",
            "Epoch 85/150\n",
            "138/138 [==============================] - 0s 3ms/step - loss: 0.4701 - accuracy: 0.7598 - val_loss: 0.6601 - val_accuracy: 0.6755\n",
            "Epoch 86/150\n",
            "138/138 [==============================] - 0s 3ms/step - loss: 0.4637 - accuracy: 0.7575 - val_loss: 0.6545 - val_accuracy: 0.6673\n",
            "Epoch 87/150\n",
            "138/138 [==============================] - 0s 3ms/step - loss: 0.4655 - accuracy: 0.7598 - val_loss: 0.6428 - val_accuracy: 0.6673\n",
            "Epoch 88/150\n",
            "138/138 [==============================] - 0s 2ms/step - loss: 0.4652 - accuracy: 0.7561 - val_loss: 0.6685 - val_accuracy: 0.6714\n",
            "Epoch 89/150\n",
            "138/138 [==============================] - 0s 3ms/step - loss: 0.4585 - accuracy: 0.7618 - val_loss: 0.6463 - val_accuracy: 0.6735\n",
            "Epoch 90/150\n",
            "138/138 [==============================] - 0s 3ms/step - loss: 0.4663 - accuracy: 0.7595 - val_loss: 0.6699 - val_accuracy: 0.6776\n",
            "Epoch 91/150\n",
            "138/138 [==============================] - 0s 3ms/step - loss: 0.4581 - accuracy: 0.7629 - val_loss: 0.6406 - val_accuracy: 0.6939\n",
            "Epoch 92/150\n",
            "138/138 [==============================] - 0s 3ms/step - loss: 0.4607 - accuracy: 0.7611 - val_loss: 0.6612 - val_accuracy: 0.6939\n",
            "Epoch 93/150\n",
            "138/138 [==============================] - 0s 3ms/step - loss: 0.4770 - accuracy: 0.7511 - val_loss: 0.6406 - val_accuracy: 0.6980\n",
            "Epoch 94/150\n",
            "138/138 [==============================] - 0s 3ms/step - loss: 0.4588 - accuracy: 0.7591 - val_loss: 0.6744 - val_accuracy: 0.6755\n",
            "Epoch 95/150\n",
            "138/138 [==============================] - 0s 3ms/step - loss: 0.4592 - accuracy: 0.7629 - val_loss: 0.6508 - val_accuracy: 0.6735\n",
            "Epoch 96/150\n",
            "138/138 [==============================] - 0s 3ms/step - loss: 0.4529 - accuracy: 0.7654 - val_loss: 0.6524 - val_accuracy: 0.6694\n",
            "Epoch 97/150\n",
            "138/138 [==============================] - 0s 3ms/step - loss: 0.4552 - accuracy: 0.7620 - val_loss: 0.6442 - val_accuracy: 0.6918\n",
            "Epoch 98/150\n",
            "138/138 [==============================] - 0s 3ms/step - loss: 0.4508 - accuracy: 0.7668 - val_loss: 0.6751 - val_accuracy: 0.6776\n",
            "Epoch 99/150\n",
            "138/138 [==============================] - 0s 3ms/step - loss: 0.4495 - accuracy: 0.7761 - val_loss: 0.7926 - val_accuracy: 0.6776\n",
            "Epoch 100/150\n",
            "138/138 [==============================] - 0s 3ms/step - loss: 0.4498 - accuracy: 0.7652 - val_loss: 0.7015 - val_accuracy: 0.6939\n",
            "Epoch 101/150\n",
            "138/138 [==============================] - 0s 2ms/step - loss: 0.4481 - accuracy: 0.7704 - val_loss: 0.6370 - val_accuracy: 0.6980\n",
            "Epoch 102/150\n",
            "138/138 [==============================] - 0s 2ms/step - loss: 0.4493 - accuracy: 0.7763 - val_loss: 0.8497 - val_accuracy: 0.6694\n",
            "Epoch 103/150\n",
            "138/138 [==============================] - 0s 3ms/step - loss: 0.4508 - accuracy: 0.7711 - val_loss: 0.6553 - val_accuracy: 0.6673\n",
            "Epoch 104/150\n",
            "138/138 [==============================] - 0s 3ms/step - loss: 0.4481 - accuracy: 0.7725 - val_loss: 0.6679 - val_accuracy: 0.6837\n",
            "Epoch 105/150\n",
            "138/138 [==============================] - 0s 3ms/step - loss: 0.4711 - accuracy: 0.7627 - val_loss: 0.6476 - val_accuracy: 0.6714\n",
            "Epoch 106/150\n",
            "138/138 [==============================] - 0s 3ms/step - loss: 0.4447 - accuracy: 0.7723 - val_loss: 0.6447 - val_accuracy: 0.6816\n",
            "Epoch 107/150\n",
            "138/138 [==============================] - 0s 3ms/step - loss: 0.4357 - accuracy: 0.7748 - val_loss: 0.6597 - val_accuracy: 0.6694\n",
            "Epoch 108/150\n",
            "138/138 [==============================] - 0s 3ms/step - loss: 0.4395 - accuracy: 0.7711 - val_loss: 0.6516 - val_accuracy: 0.6837\n",
            "Epoch 109/150\n",
            "138/138 [==============================] - 0s 3ms/step - loss: 0.4378 - accuracy: 0.7788 - val_loss: 0.6823 - val_accuracy: 0.6857\n",
            "Epoch 110/150\n",
            "138/138 [==============================] - 0s 3ms/step - loss: 0.4385 - accuracy: 0.7829 - val_loss: 0.6930 - val_accuracy: 0.6857\n",
            "Epoch 111/150\n",
            "138/138 [==============================] - 0s 3ms/step - loss: 0.4389 - accuracy: 0.7795 - val_loss: 0.6737 - val_accuracy: 0.6898\n",
            "Epoch 112/150\n",
            "138/138 [==============================] - 0s 3ms/step - loss: 0.4320 - accuracy: 0.7795 - val_loss: 0.6761 - val_accuracy: 0.6959\n",
            "Epoch 113/150\n",
            "138/138 [==============================] - 0s 3ms/step - loss: 0.4347 - accuracy: 0.7818 - val_loss: 0.7263 - val_accuracy: 0.6592\n",
            "Epoch 114/150\n",
            "138/138 [==============================] - 0s 3ms/step - loss: 0.4349 - accuracy: 0.7827 - val_loss: 0.6739 - val_accuracy: 0.6735\n",
            "Epoch 115/150\n",
            "138/138 [==============================] - 0s 2ms/step - loss: 0.4316 - accuracy: 0.7834 - val_loss: 0.6485 - val_accuracy: 0.6592\n",
            "Epoch 116/150\n",
            "138/138 [==============================] - 0s 3ms/step - loss: 0.4372 - accuracy: 0.7797 - val_loss: 0.6782 - val_accuracy: 0.6673\n",
            "Epoch 117/150\n",
            "138/138 [==============================] - 0s 3ms/step - loss: 0.4223 - accuracy: 0.7909 - val_loss: 0.7018 - val_accuracy: 0.6878\n",
            "Epoch 118/150\n",
            "138/138 [==============================] - 0s 3ms/step - loss: 0.4286 - accuracy: 0.7859 - val_loss: 0.6911 - val_accuracy: 0.6878\n",
            "Epoch 119/150\n",
            "138/138 [==============================] - 0s 2ms/step - loss: 0.4310 - accuracy: 0.7841 - val_loss: 0.6736 - val_accuracy: 0.7082\n",
            "Epoch 120/150\n",
            "138/138 [==============================] - 0s 2ms/step - loss: 0.4275 - accuracy: 0.7788 - val_loss: 0.6877 - val_accuracy: 0.6796\n",
            "Epoch 121/150\n",
            "138/138 [==============================] - 0s 2ms/step - loss: 0.4223 - accuracy: 0.7852 - val_loss: 0.7004 - val_accuracy: 0.6571\n",
            "Epoch 122/150\n",
            "138/138 [==============================] - 0s 2ms/step - loss: 0.4353 - accuracy: 0.7816 - val_loss: 0.6639 - val_accuracy: 0.6816\n",
            "Epoch 123/150\n",
            "138/138 [==============================] - 0s 3ms/step - loss: 0.4292 - accuracy: 0.7797 - val_loss: 0.6744 - val_accuracy: 0.6837\n",
            "Epoch 124/150\n",
            "138/138 [==============================] - 0s 3ms/step - loss: 0.4290 - accuracy: 0.7877 - val_loss: 0.6900 - val_accuracy: 0.7041\n",
            "Epoch 125/150\n",
            "138/138 [==============================] - 0s 2ms/step - loss: 0.4243 - accuracy: 0.7877 - val_loss: 0.6576 - val_accuracy: 0.6837\n",
            "Epoch 126/150\n",
            "138/138 [==============================] - 0s 3ms/step - loss: 0.4187 - accuracy: 0.7891 - val_loss: 0.6861 - val_accuracy: 0.6857\n",
            "Epoch 127/150\n",
            "138/138 [==============================] - 0s 3ms/step - loss: 0.4171 - accuracy: 0.7936 - val_loss: 0.6879 - val_accuracy: 0.6918\n",
            "Epoch 128/150\n",
            "138/138 [==============================] - 0s 3ms/step - loss: 0.4225 - accuracy: 0.7872 - val_loss: 0.6416 - val_accuracy: 0.6980\n",
            "Epoch 129/150\n",
            "138/138 [==============================] - 0s 2ms/step - loss: 0.4430 - accuracy: 0.7797 - val_loss: 0.6792 - val_accuracy: 0.6776\n",
            "Epoch 130/150\n",
            "138/138 [==============================] - 0s 3ms/step - loss: 0.4123 - accuracy: 0.7950 - val_loss: 0.7026 - val_accuracy: 0.6918\n",
            "Epoch 131/150\n",
            "138/138 [==============================] - 0s 3ms/step - loss: 0.4125 - accuracy: 0.7938 - val_loss: 0.7083 - val_accuracy: 0.6796\n",
            "Epoch 132/150\n",
            "138/138 [==============================] - 0s 3ms/step - loss: 0.4147 - accuracy: 0.7981 - val_loss: 0.6762 - val_accuracy: 0.7082\n",
            "Epoch 133/150\n",
            "138/138 [==============================] - 0s 3ms/step - loss: 0.4111 - accuracy: 0.8000 - val_loss: 0.6764 - val_accuracy: 0.7020\n",
            "Epoch 134/150\n",
            "138/138 [==============================] - 0s 3ms/step - loss: 0.4074 - accuracy: 0.8006 - val_loss: 0.7179 - val_accuracy: 0.6918\n",
            "Epoch 135/150\n",
            "138/138 [==============================] - 0s 2ms/step - loss: 0.4103 - accuracy: 0.7972 - val_loss: 0.7621 - val_accuracy: 0.6857\n",
            "Epoch 136/150\n",
            "138/138 [==============================] - 0s 3ms/step - loss: 0.4079 - accuracy: 0.7904 - val_loss: 0.6806 - val_accuracy: 0.7224\n",
            "Epoch 137/150\n",
            "138/138 [==============================] - 0s 3ms/step - loss: 0.4098 - accuracy: 0.7961 - val_loss: 0.7598 - val_accuracy: 0.6796\n",
            "Epoch 138/150\n",
            "138/138 [==============================] - 0s 3ms/step - loss: 0.4084 - accuracy: 0.8009 - val_loss: 0.6680 - val_accuracy: 0.7204\n",
            "Epoch 139/150\n",
            "138/138 [==============================] - 0s 3ms/step - loss: 0.4019 - accuracy: 0.8034 - val_loss: 0.7126 - val_accuracy: 0.6980\n",
            "Epoch 140/150\n",
            "138/138 [==============================] - 0s 3ms/step - loss: 0.4099 - accuracy: 0.8013 - val_loss: 0.7252 - val_accuracy: 0.6939\n",
            "Epoch 141/150\n",
            "138/138 [==============================] - 0s 2ms/step - loss: 0.4050 - accuracy: 0.7988 - val_loss: 0.6910 - val_accuracy: 0.7020\n",
            "Epoch 142/150\n",
            "138/138 [==============================] - 0s 3ms/step - loss: 0.4007 - accuracy: 0.8040 - val_loss: 0.6517 - val_accuracy: 0.7163\n",
            "Epoch 143/150\n",
            "138/138 [==============================] - 0s 4ms/step - loss: 0.3997 - accuracy: 0.8056 - val_loss: 0.7027 - val_accuracy: 0.6939\n",
            "Epoch 144/150\n",
            "138/138 [==============================] - 1s 4ms/step - loss: 0.4009 - accuracy: 0.8002 - val_loss: 0.7212 - val_accuracy: 0.6918\n",
            "Epoch 145/150\n",
            "138/138 [==============================] - 0s 3ms/step - loss: 0.3922 - accuracy: 0.8097 - val_loss: 0.7535 - val_accuracy: 0.6796\n",
            "Epoch 146/150\n",
            "138/138 [==============================] - 0s 3ms/step - loss: 0.3942 - accuracy: 0.8056 - val_loss: 0.6839 - val_accuracy: 0.6939\n",
            "Epoch 147/150\n",
            "138/138 [==============================] - 0s 3ms/step - loss: 0.4292 - accuracy: 0.7929 - val_loss: 0.7512 - val_accuracy: 0.6837\n",
            "Epoch 148/150\n",
            "138/138 [==============================] - 0s 3ms/step - loss: 0.4071 - accuracy: 0.7981 - val_loss: 0.7029 - val_accuracy: 0.6837\n",
            "Epoch 149/150\n",
            "138/138 [==============================] - 0s 3ms/step - loss: 0.3995 - accuracy: 0.8013 - val_loss: 0.7277 - val_accuracy: 0.6755\n",
            "Epoch 150/150\n",
            "138/138 [==============================] - 0s 3ms/step - loss: 0.4012 - accuracy: 0.8015 - val_loss: 0.7036 - val_accuracy: 0.7082\n"
          ]
        }
      ]
    },
    {
      "cell_type": "code",
      "source": [
        "sns.set()\n",
        "acc = histd.history['accuracy']\n",
        "val = histd.history['val_accuracy']\n",
        "epochs = range(1, len(acc) + 1)\n",
        " \n",
        "plt.plot(epochs, acc, '-', label='Training accuracy')\n",
        "plt.plot(epochs, val, ':', label='Validation accuracy')\n",
        "plt.title('Training and Validation Accuracy')\n",
        "plt.xlabel('Epoch')\n",
        "plt.ylabel('Accuracy')\n",
        "plt.legend(loc='best')\n",
        "plt.plot()"
      ],
      "metadata": {
        "colab": {
          "base_uri": "https://localhost:8080/",
          "height": 319
        },
        "id": "7SNjUeVKsBP1",
        "outputId": "a1b58da7-37b1-488b-9d5c-84fcab3b3241"
      },
      "execution_count": null,
      "outputs": [
        {
          "output_type": "execute_result",
          "data": {
            "text/plain": [
              "[]"
            ]
          },
          "metadata": {},
          "execution_count": 74
        },
        {
          "output_type": "display_data",
          "data": {
            "text/plain": [
              "<Figure size 432x288 with 1 Axes>"
            ],
            "image/png": "[encoded data removed]"
          },
          "metadata": {}
        }
      ]
    },
    {
      "cell_type": "code",
      "source": [
        "loss = histd.history['loss']\n",
        "epochs = range(1, len(loss) + 1)\n",
        "plt.plot(epochs, loss, '-', label='Loss')\n",
        "plt.title('Loss graph')\n",
        "plt.xlabel('Epoch')\n",
        "plt.ylabel('Loss')\n",
        "plt.legend(loc='best')\n",
        "plt.plot()"
      ],
      "metadata": {
        "colab": {
          "base_uri": "https://localhost:8080/",
          "height": 319
        },
        "id": "qCUNP1lksHSG",
        "outputId": "a06cd510-36c8-4e15-8671-1921c9ff86e7"
      },
      "execution_count": null,
      "outputs": [
        {
          "output_type": "execute_result",
          "data": {
            "text/plain": [
              "[]"
            ]
          },
          "metadata": {},
          "execution_count": 75
        },
        {
          "output_type": "display_data",
          "data": {
            "text/plain": [
              "<Figure size 432x288 with 1 Axes>"
            ],
            "image/png": "[encoded data removed]"
          },
          "metadata": {}
        }
      ]
    },
    {
      "cell_type": "code",
      "source": [
        "modeld.evaluate(Xd_test, yd_test)"
      ],
      "metadata": {
        "colab": {
          "base_uri": "https://localhost:8080/"
        },
        "id": "7iRf6pqkskac",
        "outputId": "c3dc46d7-d0e5-4a4f-ac91-edc02031e6ff"
      },
      "execution_count": null,
      "outputs": [
        {
          "output_type": "stream",
          "name": "stdout",
          "text": [
            "16/16 [==============================] - 0s 2ms/step - loss: 0.7036 - accuracy: 0.7082\n"
          ]
        },
        {
          "output_type": "execute_result",
          "data": {
            "text/plain": [
              "[0.7036080360412598, 0.7081632614135742]"
            ]
          },
          "metadata": {},
          "execution_count": 76
        }
      ]
    },
    {
      "cell_type": "code",
      "source": [
        "%cd /content/gdrive/My Drive/Colab Notebooks/BCI\n",
        "modeld.save(\"donald_model\")"
      ],
      "metadata": {
        "colab": {
          "base_uri": "https://localhost:8080/"
        },
        "id": "SmW8NeFCs7pr",
        "outputId": "8f109f32-e732-4a5c-dcfb-cbd1ccf0a0da"
      },
      "execution_count": null,
      "outputs": [
        {
          "output_type": "stream",
          "name": "stdout",
          "text": [
            "/content/gdrive/My Drive/Colab Notebooks/BCI\n"
          ]
        }
      ]
    }
  ]
}